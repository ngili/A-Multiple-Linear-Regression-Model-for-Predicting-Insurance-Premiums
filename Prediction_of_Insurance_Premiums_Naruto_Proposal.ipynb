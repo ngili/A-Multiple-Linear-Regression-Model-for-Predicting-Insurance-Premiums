{
 "cells": [
  {
   "cell_type": "markdown",
   "metadata": {
    "id": "xMxtPsqcTsSH"
   },
   "source": [
    "# Prediction Model for Computing Insurance Premiums"
   ]
  },
  {
   "cell_type": "markdown",
   "metadata": {
    "id": "kLG2VTrnTvYL"
   },
   "source": [
    "## 1. Defining the Question\n",
    "\n",
    "---\n",
    "\n",
    "\n",
    "\n",
    "> To develop a model which will predict insurance premiums that assists insurance companies manage risk and ensure financial stability.\n",
    "\n"
   ]
  },
  {
   "cell_type": "markdown",
   "metadata": {
    "id": "XecOwPNorl2W"
   },
   "source": [
    "### a) Specifying the Data Analytic Question"
   ]
  },
  {
   "cell_type": "markdown",
   "metadata": {},
   "source": [
    "> According to the International Monetary Fund (IMF) working paper titled \"Insurance Premiums: Determinants and Policy Implications,\" there are several challenges that insurance companies face when determining insurance premiums. Insurance companies must assess the risk of an insurance event occurring for each policyholder, taking into account a wide range of factors such as the policyholder's age, gender, medical history, and the type and cost of coverage. This can be a complex and time-consuming process.\n",
    "\n",
    "> **Problem Statement:** \n",
    "The goal of this project is to build a predictive model that can accurately estimate insurance premiums based on a variety of input features.  "
   ]
  },
  {
   "cell_type": "markdown",
   "metadata": {
    "id": "J4wfHZwQrs-t"
   },
   "source": [
    "### b) Defining the Metric for Success"
   ]
  },
  {
   "cell_type": "markdown",
   "metadata": {
    "id": "izhfXNR623o4"
   },
   "source": [
    "The project will be considered a success if the developed predictive model is able to explain 80% of the variation of the target variable and have a Mean Absolute Error (MAE) of less than 5%\n",
    "."
   ]
  },
  {
   "cell_type": "markdown",
   "metadata": {
    "id": "7KMRBJ7zr9HD"
   },
   "source": [
    "### c) Recording the Experimental Design"
   ]
  },
  {
   "cell_type": "markdown",
   "metadata": {
    "id": "R9mfUVfi2J4m"
   },
   "source": [
    "1.Data Collection: Gather data on the variables to be included in the model. These includes variables such as age, gender, medical history, and the type and cost of coverage which are relevant to the insurance premiums.\n",
    "\n",
    "2.Clean and preprocess the data: The data will be cleaned and preprocessed to ensure that it is in a usable form. This will involve tasks such as removing missing or invalid data, scaling the variables, and encoding categorical variables.\n",
    "\n",
    "3.Split the data into training and test sets: The data will be split into a training set and a test set. The training set will be used to fit the linear regression model, while the test set will be used to evaluate the model's performance.\n",
    "\n",
    "4.Fit the linear regression model: The data will be fit to a linear regression model to the training data by estimating the values of the coefficients for each predictor variable. Various software packages to fit the model, such as R or Python's scikit-learn library can be used.\n",
    "\n",
    "5.Evaluate the model's performance: The test set will be used to evaluate the model's performance by comparing the predicted insurance premiums to the actual premiums. There are several metrics that you can use to assess the model's performance, such as mean squared error and R-squared.\n",
    "\n",
    "6.Use the model to make predictions: After fitting and evaluating the model, it will be used to make predictions about the insurance premiums for new customers, based on their values for the predictor variables.\n",
    "\n",
    "7.Conclusions and Recommendations"
   ]
  },
  {
   "cell_type": "markdown",
   "metadata": {
    "id": "zSGyg6kWsBUl"
   },
   "source": [
    "### d) Data Understanding "
   ]
  },
  {
   "cell_type": "markdown",
   "metadata": {},
   "source": [
    "The data set to be used https://www.kaggle.com/datasets/noordeen/insurance-premium-prediction comprises of 1338 rows and 7 columns. This includes 4 numerical and 3 cotegorical features which will be useful in selecting the target and predictor variables in this analysis. \n",
    "\n",
    "| Dataset Features | \n",
    "|:------|\n",
    "|i. age - This is the age of an individual in years|\n",
    "|iii. bmi - This is the body mass index of an individual |\n",
    "|iv. children - This indicates the number of dependents covered by the health insurance|\n",
    "|v. smoker - This describes whether an individual is a smoker or non-smoker (yes=smoker and no=non-smoker)|\n",
    "|vi. region - This describes the beneficiary's residential area in the USA |\n",
    "|vii. expenses - This is the individual's medical costs billed by health insurance \n",
    " \n",
    "\n"
   ]
  },
  {
   "cell_type": "markdown",
   "metadata": {
    "id": "iUNbvIvnT7ep"
   },
   "source": [
    "## 2. Reading the Data"
   ]
  },
  {
   "cell_type": "code",
<<<<<<< HEAD
   "execution_count": 194,
=======
   "execution_count": 3,
>>>>>>> ea4de1a5380277373d12ba9d2303ab401a811b72
   "metadata": {
    "id": "xU8pzy_c-QHG"
   },
   "outputs": [],
   "source": [
    "# loading the required libraries\n",
    "\n",
    "import pandas as pd\n",
    "import numpy as np\n",
    "from matplotlib import pyplot as plt\n",
    "import seaborn as sns\n",
    "%matplotlib inline\n",
    "from scipy.stats import norm\n",
    "import statistics\n",
    "import statsmodels.api as sm\n",
    "from sklearn.linear_model import LinearRegression"
   ]
  },
  {
   "cell_type": "code",
<<<<<<< HEAD
   "execution_count": 195,
   "metadata": {
    "id": "XJn2KjW-WMlG"
   },
   "outputs": [
    {
     "data": {
      "text/html": [
       "<div>\n",
       "<style scoped>\n",
       "    .dataframe tbody tr th:only-of-type {\n",
       "        vertical-align: middle;\n",
       "    }\n",
       "\n",
       "    .dataframe tbody tr th {\n",
       "        vertical-align: top;\n",
       "    }\n",
       "\n",
       "    .dataframe thead th {\n",
       "        text-align: right;\n",
       "    }\n",
       "</style>\n",
       "<table border=\"1\" class=\"dataframe\">\n",
       "  <thead>\n",
       "    <tr style=\"text-align: right;\">\n",
       "      <th></th>\n",
       "      <th>age</th>\n",
       "      <th>sex</th>\n",
       "      <th>bmi</th>\n",
       "      <th>children</th>\n",
       "      <th>smoker</th>\n",
       "      <th>region</th>\n",
       "      <th>expenses</th>\n",
       "    </tr>\n",
       "  </thead>\n",
       "  <tbody>\n",
       "    <tr>\n",
       "      <th>0</th>\n",
       "      <td>19</td>\n",
       "      <td>female</td>\n",
       "      <td>27.9</td>\n",
       "      <td>0</td>\n",
       "      <td>yes</td>\n",
       "      <td>southwest</td>\n",
       "      <td>16884.92</td>\n",
       "    </tr>\n",
       "    <tr>\n",
       "      <th>1</th>\n",
       "      <td>18</td>\n",
       "      <td>male</td>\n",
       "      <td>33.8</td>\n",
       "      <td>1</td>\n",
       "      <td>no</td>\n",
       "      <td>southeast</td>\n",
       "      <td>1725.55</td>\n",
       "    </tr>\n",
       "    <tr>\n",
       "      <th>2</th>\n",
       "      <td>28</td>\n",
       "      <td>male</td>\n",
       "      <td>33.0</td>\n",
       "      <td>3</td>\n",
       "      <td>no</td>\n",
       "      <td>southeast</td>\n",
       "      <td>4449.46</td>\n",
       "    </tr>\n",
       "    <tr>\n",
       "      <th>3</th>\n",
       "      <td>33</td>\n",
       "      <td>male</td>\n",
       "      <td>22.7</td>\n",
       "      <td>0</td>\n",
       "      <td>no</td>\n",
       "      <td>northwest</td>\n",
       "      <td>21984.47</td>\n",
       "    </tr>\n",
       "    <tr>\n",
       "      <th>4</th>\n",
       "      <td>32</td>\n",
       "      <td>male</td>\n",
       "      <td>28.9</td>\n",
       "      <td>0</td>\n",
       "      <td>no</td>\n",
       "      <td>northwest</td>\n",
       "      <td>3866.86</td>\n",
       "    </tr>\n",
       "  </tbody>\n",
       "</table>\n",
       "</div>"
      ],
      "text/plain": [
       "   age     sex   bmi  children smoker     region  expenses\n",
       "0   19  female  27.9         0    yes  southwest  16884.92\n",
       "1   18    male  33.8         1     no  southeast   1725.55\n",
       "2   28    male  33.0         3     no  southeast   4449.46\n",
       "3   33    male  22.7         0     no  northwest  21984.47\n",
       "4   32    male  28.9         0     no  northwest   3866.86"
      ]
     },
     "execution_count": 195,
     "metadata": {},
     "output_type": "execute_result"
    }
   ],
   "source": [
    "# Loading the Data from the source i.e. csv\n",
    "\n",
    "insurance_data = pd.read_csv('Insurance Premium dataset.csv')\n",
    "\n",
    "insurance_data.head()"
   ]
  },
  {
   "cell_type": "markdown",
   "metadata": {
    "id": "OI3P3YnHUEBk"
   },
   "source": [
    "\n",
    "\n",
    "## 3. Checking the Data"
   ]
  },
  {
   "cell_type": "code",
   "execution_count": 196,
   "metadata": {
    "id": "YjSVNwgptHxY"
   },
   "outputs": [
    {
     "data": {
      "text/plain": [
       "(1338, 7)"
      ]
     },
     "execution_count": 196,
     "metadata": {},
     "output_type": "execute_result"
    }
   ],
   "source": [
    "# Determining the no. of records in our dataset\n",
    "\n",
    "insurance_data.shape"
   ]
  },
  {
   "cell_type": "markdown",
   "metadata": {},
   "source": [
    "The data set contains 1338 rows and 7 columns."
   ]
  },
  {
   "cell_type": "code",
   "execution_count": 197,
=======
   "execution_count": 4,
>>>>>>> ea4de1a5380277373d12ba9d2303ab401a811b72
   "metadata": {
    "id": "XJn2KjW-WMlG"
   },
   "outputs": [
    {
     "data": {
      "text/html": [
       "<div>\n",
       "<style scoped>\n",
       "    .dataframe tbody tr th:only-of-type {\n",
       "        vertical-align: middle;\n",
       "    }\n",
       "\n",
       "    .dataframe tbody tr th {\n",
       "        vertical-align: top;\n",
       "    }\n",
       "\n",
       "    .dataframe thead th {\n",
       "        text-align: right;\n",
       "    }\n",
       "</style>\n",
       "<table border=\"1\" class=\"dataframe\">\n",
       "  <thead>\n",
       "    <tr style=\"text-align: right;\">\n",
       "      <th></th>\n",
       "      <th>age</th>\n",
       "      <th>sex</th>\n",
       "      <th>bmi</th>\n",
       "      <th>children</th>\n",
       "      <th>smoker</th>\n",
       "      <th>region</th>\n",
       "      <th>expenses</th>\n",
       "    </tr>\n",
       "  </thead>\n",
       "  <tbody>\n",
       "    <tr>\n",
       "      <th>0</th>\n",
       "      <td>19</td>\n",
       "      <td>female</td>\n",
       "      <td>27.9</td>\n",
       "      <td>0</td>\n",
       "      <td>yes</td>\n",
       "      <td>southwest</td>\n",
       "      <td>16884.92</td>\n",
       "    </tr>\n",
       "    <tr>\n",
       "      <th>1</th>\n",
       "      <td>18</td>\n",
       "      <td>male</td>\n",
       "      <td>33.8</td>\n",
       "      <td>1</td>\n",
       "      <td>no</td>\n",
       "      <td>southeast</td>\n",
       "      <td>1725.55</td>\n",
       "    </tr>\n",
       "    <tr>\n",
       "      <th>2</th>\n",
       "      <td>28</td>\n",
       "      <td>male</td>\n",
       "      <td>33.0</td>\n",
       "      <td>3</td>\n",
       "      <td>no</td>\n",
       "      <td>southeast</td>\n",
       "      <td>4449.46</td>\n",
       "    </tr>\n",
       "    <tr>\n",
       "      <th>3</th>\n",
       "      <td>33</td>\n",
       "      <td>male</td>\n",
       "      <td>22.7</td>\n",
       "      <td>0</td>\n",
       "      <td>no</td>\n",
       "      <td>northwest</td>\n",
       "      <td>21984.47</td>\n",
       "    </tr>\n",
       "    <tr>\n",
       "      <th>4</th>\n",
       "      <td>32</td>\n",
       "      <td>male</td>\n",
       "      <td>28.9</td>\n",
       "      <td>0</td>\n",
       "      <td>no</td>\n",
       "      <td>northwest</td>\n",
       "      <td>3866.86</td>\n",
       "    </tr>\n",
       "  </tbody>\n",
       "</table>\n",
       "</div>"
      ],
      "text/plain": [
       "   age     sex   bmi  children smoker     region  expenses\n",
       "0   19  female  27.9         0    yes  southwest  16884.92\n",
       "1   18    male  33.8         1     no  southeast   1725.55\n",
       "2   28    male  33.0         3     no  southeast   4449.46\n",
       "3   33    male  22.7         0     no  northwest  21984.47\n",
       "4   32    male  28.9         0     no  northwest   3866.86"
      ]
     },
     "execution_count": 197,
     "metadata": {},
     "output_type": "execute_result"
    }
   ],
   "source": [
    "# Loading the Data from the source i.e. csv\n",
    "\n",
    "insurance_data = pd.read_csv('Insurance Premium dataset.csv')\n",
    "\n",
    "insurance_data.head()"
   ]
  },
  {
   "cell_type": "markdown",
   "metadata": {
    "id": "OI3P3YnHUEBk"
   },
   "source": [
    "\n",
    "\n",
    "## 3. Checking the Data"
   ]
  },
  {
   "cell_type": "code",
   "execution_count": 5,
   "metadata": {
    "id": "YjSVNwgptHxY"
   },
   "outputs": [
    {
     "data": {
      "text/plain": [
       "(1338, 7)"
      ]
     },
     "execution_count": 5,
     "metadata": {},
     "output_type": "execute_result"
    }
   ],
   "source": [
    "# Determining the no. of records in our dataset\n",
    "\n",
    "insurance_data.shape"
   ]
  },
  {
   "cell_type": "markdown",
   "metadata": {},
   "source": [
    "The data set contains 1338 rows and 7 columns."
   ]
  },
  {
   "cell_type": "code",
   "execution_count": 6,
   "metadata": {
    "id": "xHhTw5eKWr0n"
   },
   "outputs": [
    {
     "data": {
      "text/html": [
       "<div>\n",
       "<style scoped>\n",
       "    .dataframe tbody tr th:only-of-type {\n",
       "        vertical-align: middle;\n",
       "    }\n",
       "\n",
       "    .dataframe tbody tr th {\n",
       "        vertical-align: top;\n",
       "    }\n",
       "\n",
       "    .dataframe thead th {\n",
       "        text-align: right;\n",
       "    }\n",
       "</style>\n",
       "<table border=\"1\" class=\"dataframe\">\n",
       "  <thead>\n",
       "    <tr style=\"text-align: right;\">\n",
       "      <th></th>\n",
       "      <th>age</th>\n",
       "      <th>sex</th>\n",
       "      <th>bmi</th>\n",
       "      <th>children</th>\n",
       "      <th>smoker</th>\n",
       "      <th>region</th>\n",
       "      <th>expenses</th>\n",
       "    </tr>\n",
       "  </thead>\n",
       "  <tbody>\n",
       "    <tr>\n",
       "      <th>0</th>\n",
       "      <td>19</td>\n",
       "      <td>female</td>\n",
       "      <td>27.9</td>\n",
       "      <td>0</td>\n",
       "      <td>yes</td>\n",
       "      <td>southwest</td>\n",
       "      <td>16884.92</td>\n",
       "    </tr>\n",
       "    <tr>\n",
       "      <th>1</th>\n",
       "      <td>18</td>\n",
       "      <td>male</td>\n",
       "      <td>33.8</td>\n",
       "      <td>1</td>\n",
       "      <td>no</td>\n",
       "      <td>southeast</td>\n",
       "      <td>1725.55</td>\n",
       "    </tr>\n",
       "    <tr>\n",
       "      <th>2</th>\n",
       "      <td>28</td>\n",
       "      <td>male</td>\n",
       "      <td>33.0</td>\n",
       "      <td>3</td>\n",
       "      <td>no</td>\n",
       "      <td>southeast</td>\n",
       "      <td>4449.46</td>\n",
       "    </tr>\n",
       "    <tr>\n",
       "      <th>3</th>\n",
       "      <td>33</td>\n",
       "      <td>male</td>\n",
       "      <td>22.7</td>\n",
       "      <td>0</td>\n",
       "      <td>no</td>\n",
       "      <td>northwest</td>\n",
       "      <td>21984.47</td>\n",
       "    </tr>\n",
       "    <tr>\n",
       "      <th>4</th>\n",
       "      <td>32</td>\n",
       "      <td>male</td>\n",
       "      <td>28.9</td>\n",
       "      <td>0</td>\n",
       "      <td>no</td>\n",
       "      <td>northwest</td>\n",
       "      <td>3866.86</td>\n",
       "    </tr>\n",
       "  </tbody>\n",
       "</table>\n",
       "</div>"
      ],
      "text/plain": [
       "   age     sex   bmi  children smoker     region  expenses\n",
       "0   19  female  27.9         0    yes  southwest  16884.92\n",
       "1   18    male  33.8         1     no  southeast   1725.55\n",
       "2   28    male  33.0         3     no  southeast   4449.46\n",
       "3   33    male  22.7         0     no  northwest  21984.47\n",
       "4   32    male  28.9         0     no  northwest   3866.86"
      ]
     },
     "execution_count": 6,
     "metadata": {},
     "output_type": "execute_result"
    }
   ],
   "source": [
    "# Previewing the top of our dataset\n",
    "\n",
    "insurance_data.head()"
   ]
  },
  {
   "cell_type": "code",
<<<<<<< HEAD
   "execution_count": 198,
=======
   "execution_count": 7,
>>>>>>> ea4de1a5380277373d12ba9d2303ab401a811b72
   "metadata": {
    "id": "e9AzGcZFrIIr"
   },
   "outputs": [
    {
     "data": {
      "text/html": [
       "<div>\n",
       "<style scoped>\n",
       "    .dataframe tbody tr th:only-of-type {\n",
       "        vertical-align: middle;\n",
       "    }\n",
       "\n",
       "    .dataframe tbody tr th {\n",
       "        vertical-align: top;\n",
       "    }\n",
       "\n",
       "    .dataframe thead th {\n",
       "        text-align: right;\n",
       "    }\n",
       "</style>\n",
       "<table border=\"1\" class=\"dataframe\">\n",
       "  <thead>\n",
       "    <tr style=\"text-align: right;\">\n",
       "      <th></th>\n",
       "      <th>age</th>\n",
       "      <th>sex</th>\n",
       "      <th>bmi</th>\n",
       "      <th>children</th>\n",
       "      <th>smoker</th>\n",
       "      <th>region</th>\n",
       "      <th>expenses</th>\n",
       "    </tr>\n",
       "  </thead>\n",
       "  <tbody>\n",
       "    <tr>\n",
       "      <th>1333</th>\n",
       "      <td>50</td>\n",
       "      <td>male</td>\n",
       "      <td>31.0</td>\n",
       "      <td>3</td>\n",
       "      <td>no</td>\n",
       "      <td>northwest</td>\n",
       "      <td>10600.55</td>\n",
       "    </tr>\n",
       "    <tr>\n",
       "      <th>1334</th>\n",
       "      <td>18</td>\n",
       "      <td>female</td>\n",
       "      <td>31.9</td>\n",
       "      <td>0</td>\n",
       "      <td>no</td>\n",
       "      <td>northeast</td>\n",
       "      <td>2205.98</td>\n",
       "    </tr>\n",
       "    <tr>\n",
       "      <th>1335</th>\n",
       "      <td>18</td>\n",
       "      <td>female</td>\n",
       "      <td>36.9</td>\n",
       "      <td>0</td>\n",
       "      <td>no</td>\n",
       "      <td>southeast</td>\n",
       "      <td>1629.83</td>\n",
       "    </tr>\n",
       "    <tr>\n",
       "      <th>1336</th>\n",
       "      <td>21</td>\n",
       "      <td>female</td>\n",
       "      <td>25.8</td>\n",
       "      <td>0</td>\n",
       "      <td>no</td>\n",
       "      <td>southwest</td>\n",
       "      <td>2007.95</td>\n",
       "    </tr>\n",
       "    <tr>\n",
       "      <th>1337</th>\n",
       "      <td>61</td>\n",
       "      <td>female</td>\n",
       "      <td>29.1</td>\n",
       "      <td>0</td>\n",
       "      <td>yes</td>\n",
       "      <td>northwest</td>\n",
       "      <td>29141.36</td>\n",
       "    </tr>\n",
       "  </tbody>\n",
       "</table>\n",
       "</div>"
      ],
      "text/plain": [
       "      age     sex   bmi  children smoker     region  expenses\n",
       "1333   50    male  31.0         3     no  northwest  10600.55\n",
       "1334   18  female  31.9         0     no  northeast   2205.98\n",
       "1335   18  female  36.9         0     no  southeast   1629.83\n",
       "1336   21  female  25.8         0     no  southwest   2007.95\n",
       "1337   61  female  29.1         0    yes  northwest  29141.36"
      ]
     },
<<<<<<< HEAD
     "execution_count": 198,
=======
     "execution_count": 7,
>>>>>>> ea4de1a5380277373d12ba9d2303ab401a811b72
     "metadata": {},
     "output_type": "execute_result"
    }
   ],
   "source": [
    "# Previewing the bottom of our dataset\n",
    "\n",
    "insurance_data.tail()"
   ]
  },
  {
   "cell_type": "code",
<<<<<<< HEAD
   "execution_count": 199,
=======
   "execution_count": 8,
>>>>>>> ea4de1a5380277373d12ba9d2303ab401a811b72
   "metadata": {
    "id": "n8-dW4sQWzbc"
   },
   "outputs": [
    {
     "name": "stdout",
     "output_type": "stream",
     "text": [
      "<class 'pandas.core.frame.DataFrame'>\n",
      "RangeIndex: 1338 entries, 0 to 1337\n",
      "Data columns (total 7 columns):\n",
      " #   Column    Non-Null Count  Dtype  \n",
      "---  ------    --------------  -----  \n",
      " 0   age       1338 non-null   int64  \n",
      " 1   sex       1338 non-null   object \n",
      " 2   bmi       1338 non-null   float64\n",
      " 3   children  1338 non-null   int64  \n",
      " 4   smoker    1338 non-null   object \n",
      " 5   region    1338 non-null   object \n",
      " 6   expenses  1338 non-null   float64\n",
      "dtypes: float64(2), int64(2), object(3)\n",
      "memory usage: 73.3+ KB\n"
     ]
    }
   ],
   "source": [
    "# Checking whether each column has an appropriate datatype \n",
    "\n",
    "insurance_data.info()"
   ]
  },
  {
   "cell_type": "markdown",
   "metadata": {},
   "source": [
    "It can be noted that the data set does not contain any missing values. Additionally, the data type for each of the features is appropriate. "
   ]
  },
  {
   "cell_type": "code",
<<<<<<< HEAD
   "execution_count": 200,
=======
   "execution_count": 9,
>>>>>>> ea4de1a5380277373d12ba9d2303ab401a811b72
   "metadata": {},
   "outputs": [
    {
     "data": {
      "text/plain": [
       "True"
      ]
     },
<<<<<<< HEAD
     "execution_count": 200,
=======
     "execution_count": 9,
>>>>>>> ea4de1a5380277373d12ba9d2303ab401a811b72
     "metadata": {},
     "output_type": "execute_result"
    }
   ],
   "source": [
    "# Check for duplicated rows\n",
    "\n",
    "insurance_data.duplicated().any()"
   ]
  },
  {
   "cell_type": "markdown",
   "metadata": {},
   "source": [
    "The data contains duplicated values which will be cleaned in the next few steps. "
   ]
  },
  {
   "cell_type": "code",
<<<<<<< HEAD
   "execution_count": 201,
=======
   "execution_count": 10,
>>>>>>> ea4de1a5380277373d12ba9d2303ab401a811b72
   "metadata": {},
   "outputs": [
    {
     "data": {
      "text/html": [
       "<div>\n",
       "<style scoped>\n",
       "    .dataframe tbody tr th:only-of-type {\n",
       "        vertical-align: middle;\n",
       "    }\n",
       "\n",
       "    .dataframe tbody tr th {\n",
       "        vertical-align: top;\n",
       "    }\n",
       "\n",
       "    .dataframe thead th {\n",
       "        text-align: right;\n",
       "    }\n",
       "</style>\n",
       "<table border=\"1\" class=\"dataframe\">\n",
       "  <thead>\n",
       "    <tr style=\"text-align: right;\">\n",
       "      <th></th>\n",
       "      <th>age</th>\n",
       "      <th>sex</th>\n",
       "      <th>bmi</th>\n",
       "      <th>children</th>\n",
       "      <th>smoker</th>\n",
       "      <th>region</th>\n",
       "      <th>expenses</th>\n",
       "    </tr>\n",
       "  </thead>\n",
       "  <tbody>\n",
       "    <tr>\n",
       "      <th>count</th>\n",
       "      <td>1338.000000</td>\n",
       "      <td>1338</td>\n",
       "      <td>1338.000000</td>\n",
       "      <td>1338.000000</td>\n",
       "      <td>1338</td>\n",
       "      <td>1338</td>\n",
       "      <td>1338.000000</td>\n",
       "    </tr>\n",
       "    <tr>\n",
       "      <th>unique</th>\n",
       "      <td>NaN</td>\n",
       "      <td>2</td>\n",
       "      <td>NaN</td>\n",
       "      <td>NaN</td>\n",
       "      <td>2</td>\n",
       "      <td>4</td>\n",
       "      <td>NaN</td>\n",
       "    </tr>\n",
       "    <tr>\n",
       "      <th>top</th>\n",
       "      <td>NaN</td>\n",
       "      <td>male</td>\n",
       "      <td>NaN</td>\n",
       "      <td>NaN</td>\n",
       "      <td>no</td>\n",
       "      <td>southeast</td>\n",
       "      <td>NaN</td>\n",
       "    </tr>\n",
       "    <tr>\n",
       "      <th>freq</th>\n",
       "      <td>NaN</td>\n",
       "      <td>676</td>\n",
       "      <td>NaN</td>\n",
       "      <td>NaN</td>\n",
       "      <td>1064</td>\n",
       "      <td>364</td>\n",
       "      <td>NaN</td>\n",
       "    </tr>\n",
       "    <tr>\n",
       "      <th>mean</th>\n",
       "      <td>39.207025</td>\n",
       "      <td>NaN</td>\n",
       "      <td>30.665471</td>\n",
       "      <td>1.094918</td>\n",
       "      <td>NaN</td>\n",
       "      <td>NaN</td>\n",
       "      <td>13270.422414</td>\n",
       "    </tr>\n",
       "    <tr>\n",
       "      <th>std</th>\n",
       "      <td>14.049960</td>\n",
       "      <td>NaN</td>\n",
       "      <td>6.098382</td>\n",
       "      <td>1.205493</td>\n",
       "      <td>NaN</td>\n",
       "      <td>NaN</td>\n",
       "      <td>12110.011240</td>\n",
       "    </tr>\n",
       "    <tr>\n",
       "      <th>min</th>\n",
       "      <td>18.000000</td>\n",
       "      <td>NaN</td>\n",
       "      <td>16.000000</td>\n",
       "      <td>0.000000</td>\n",
       "      <td>NaN</td>\n",
       "      <td>NaN</td>\n",
       "      <td>1121.870000</td>\n",
       "    </tr>\n",
       "    <tr>\n",
       "      <th>25%</th>\n",
       "      <td>27.000000</td>\n",
       "      <td>NaN</td>\n",
       "      <td>26.300000</td>\n",
       "      <td>0.000000</td>\n",
       "      <td>NaN</td>\n",
       "      <td>NaN</td>\n",
       "      <td>4740.287500</td>\n",
       "    </tr>\n",
       "    <tr>\n",
       "      <th>50%</th>\n",
       "      <td>39.000000</td>\n",
       "      <td>NaN</td>\n",
       "      <td>30.400000</td>\n",
       "      <td>1.000000</td>\n",
       "      <td>NaN</td>\n",
       "      <td>NaN</td>\n",
       "      <td>9382.030000</td>\n",
       "    </tr>\n",
       "    <tr>\n",
       "      <th>75%</th>\n",
       "      <td>51.000000</td>\n",
       "      <td>NaN</td>\n",
       "      <td>34.700000</td>\n",
       "      <td>2.000000</td>\n",
       "      <td>NaN</td>\n",
       "      <td>NaN</td>\n",
       "      <td>16639.915000</td>\n",
       "    </tr>\n",
       "    <tr>\n",
       "      <th>max</th>\n",
       "      <td>64.000000</td>\n",
       "      <td>NaN</td>\n",
       "      <td>53.100000</td>\n",
       "      <td>5.000000</td>\n",
       "      <td>NaN</td>\n",
       "      <td>NaN</td>\n",
       "      <td>63770.430000</td>\n",
       "    </tr>\n",
       "  </tbody>\n",
       "</table>\n",
       "</div>"
      ],
      "text/plain": [
       "                age   sex          bmi     children smoker     region  \\\n",
       "count   1338.000000  1338  1338.000000  1338.000000   1338       1338   \n",
       "unique          NaN     2          NaN          NaN      2          4   \n",
       "top             NaN  male          NaN          NaN     no  southeast   \n",
       "freq            NaN   676          NaN          NaN   1064        364   \n",
       "mean      39.207025   NaN    30.665471     1.094918    NaN        NaN   \n",
       "std       14.049960   NaN     6.098382     1.205493    NaN        NaN   \n",
       "min       18.000000   NaN    16.000000     0.000000    NaN        NaN   \n",
       "25%       27.000000   NaN    26.300000     0.000000    NaN        NaN   \n",
       "50%       39.000000   NaN    30.400000     1.000000    NaN        NaN   \n",
       "75%       51.000000   NaN    34.700000     2.000000    NaN        NaN   \n",
       "max       64.000000   NaN    53.100000     5.000000    NaN        NaN   \n",
       "\n",
       "            expenses  \n",
       "count    1338.000000  \n",
       "unique           NaN  \n",
       "top              NaN  \n",
       "freq             NaN  \n",
       "mean    13270.422414  \n",
       "std     12110.011240  \n",
       "min      1121.870000  \n",
       "25%      4740.287500  \n",
       "50%      9382.030000  \n",
       "75%     16639.915000  \n",
       "max     63770.430000  "
      ]
     },
<<<<<<< HEAD
     "execution_count": 201,
=======
     "execution_count": 10,
>>>>>>> ea4de1a5380277373d12ba9d2303ab401a811b72
     "metadata": {},
     "output_type": "execute_result"
    }
   ],
   "source": [
    "# Check the summary statistics\n",
    "\n",
    "insurance_data.describe(include = \"all\")"
   ]
  },
  {
   "cell_type": "markdown",
   "metadata": {},
   "source": [
    "Based off the above, we observe the following:\n",
    ">a. The mean age in the data set is 39 while the standard deviation is 14 years.\n",
    "\n",
    ">b. The mean bmi in the data set is 30.70 while the standard deviation is 6.10.\n",
    "\n",
    ">c. The mean number of children in the data set is 2 while the standard deviation is 2 children.\n",
    "\n",
    ">d. The mean insurance expense in the data set is 13,270.42 while the standard deviation is 12,110.01.\n",
    "\n",
    "The data also includes categorical data where the majority sex is **male** with a frequency of 676. Moreover, the group contains a high number of **non-smokers** at 1064 individuals while most individuals are from the **southeast region** at 364. \n",
    "\n",
    "    "
   ]
  },
  {
   "cell_type": "markdown",
   "metadata": {
    "id": "ckfufNrcUHeH"
   },
   "source": [
    "## 4. External Data Source Validation"
   ]
  },
  {
   "cell_type": "markdown",
   "metadata": {
    "id": "6L4sl_0WXlbg"
   },
   "source": [
    "The Kaiser Family Foundation (KFF) is a nonprofit organization that focuses on domestic health concerns and the U.S.'s position in international health policy. KFF creates and manages its own journalism, communications, and policy analysis initiatives, occasionally in collaboration with large news outlets. KFF works as a neutral resource for the public, the media, the health policy community, and policymakers by providing information, analysis, and journalism.\n",
    "\n",
    "In it's report titled \"Employer Health Benefits Survey\" KFF established annual premiums for employer-sponsored family health coverage reaching USD 21,342. For single coverage, the typical deductible for covered employees in a plan with a general annual deductible is USD 1,644.\n",
    "\n",
    "To verify the above, this is confirmed by plotting a histogram below."
   ]
  },
  {
   "cell_type": "code",
<<<<<<< HEAD
   "execution_count": 202,
=======
   "execution_count": 11,
>>>>>>> ea4de1a5380277373d12ba9d2303ab401a811b72
   "metadata": {},
   "outputs": [
    {
     "data": {
      "text/plain": [
       "<AxesSubplot:ylabel='Frequency'>"
      ]
     },
<<<<<<< HEAD
     "execution_count": 202,
=======
     "execution_count": 11,
>>>>>>> ea4de1a5380277373d12ba9d2303ab401a811b72
     "metadata": {},
     "output_type": "execute_result"
    },
    {
     "data": {
      "image/png": "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\n",
      "text/plain": [
       "<Figure size 432x288 with 1 Axes>"
      ]
     },
     "metadata": {
      "needs_background": "light"
     },
     "output_type": "display_data"
    }
   ],
   "source": [
    "insurance_data['expenses'].plot(kind = \"hist\")\n"
   ]
  },
  {
   "cell_type": "markdown",
   "metadata": {},
   "source": [
    "From the graph, the minimum contribution is USD 1,121 which is not far off from USD 1,644 as per the finding in the report. Aditionally, it can be noted that most insurance premium cost between USD 5000 TO 25,000. \n",
    "\n",
    "This data set is fit for use in the development of the prediction model. "
   ]
  },
  {
   "cell_type": "markdown",
   "metadata": {
    "id": "FlBMxEDBUc9B"
   },
   "source": [
    "## 5. Tidying the Dataset"
   ]
  },
  {
   "cell_type": "code",
<<<<<<< HEAD
   "execution_count": 203,
=======
   "execution_count": 12,
>>>>>>> ea4de1a5380277373d12ba9d2303ab401a811b72
   "metadata": {
    "id": "5o_bQcT5W3Wz"
   },
   "outputs": [
    {
     "data": {
      "image/png": "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\n",
      "text/plain": [
       "<Figure size 432x288 with 1 Axes>"
      ]
     },
     "metadata": {
      "needs_background": "light"
     },
     "output_type": "display_data"
    },
    {
     "data": {
      "image/png": "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\n",
      "text/plain": [
       "<Figure size 432x288 with 1 Axes>"
      ]
     },
     "metadata": {
      "needs_background": "light"
     },
     "output_type": "display_data"
    },
    {
     "data": {
      "image/png": "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\n",
      "text/plain": [
       "<Figure size 432x288 with 1 Axes>"
      ]
     },
     "metadata": {
      "needs_background": "light"
     },
     "output_type": "display_data"
    },
    {
     "data": {
      "image/png": "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\n",
      "text/plain": [
       "<Figure size 432x288 with 1 Axes>"
      ]
     },
     "metadata": {
      "needs_background": "light"
     },
     "output_type": "display_data"
    }
   ],
   "source": [
    "# Checking for Outliers\n",
    "\n",
    "numeric_data = ['age','bmi','expenses','children']\n",
    "\n",
    "for col in numeric_data:\n",
    "    sns.boxplot(x = insurance_data[col])\n",
    "    plt.show()"
   ]
  },
  {
   "cell_type": "markdown",
   "metadata": {},
   "source": [
    "From the box plots above, we note that there are no outliers in the age and children predictor variables. However, bmi and expenses contain several outliers which will be investigated and sorted accordingly.   "
   ]
  },
  {
   "cell_type": "code",
<<<<<<< HEAD
   "execution_count": 204,
=======
   "execution_count": 13,
>>>>>>> ea4de1a5380277373d12ba9d2303ab401a811b72
   "metadata": {
    "id": "PvCYb6dgW4yh"
   },
   "outputs": [
    {
     "data": {
      "text/html": [
       "<div>\n",
       "<style scoped>\n",
       "    .dataframe tbody tr th:only-of-type {\n",
       "        vertical-align: middle;\n",
       "    }\n",
       "\n",
       "    .dataframe tbody tr th {\n",
       "        vertical-align: top;\n",
       "    }\n",
       "\n",
       "    .dataframe thead th {\n",
       "        text-align: right;\n",
       "    }\n",
       "</style>\n",
       "<table border=\"1\" class=\"dataframe\">\n",
       "  <thead>\n",
       "    <tr style=\"text-align: right;\">\n",
       "      <th></th>\n",
       "      <th>age</th>\n",
       "      <th>sex</th>\n",
       "      <th>bmi</th>\n",
       "      <th>children</th>\n",
       "      <th>smoker</th>\n",
       "      <th>region</th>\n",
       "      <th>expenses</th>\n",
       "    </tr>\n",
       "  </thead>\n",
       "  <tbody>\n",
       "    <tr>\n",
       "      <th>195</th>\n",
       "      <td>19</td>\n",
       "      <td>male</td>\n",
       "      <td>30.6</td>\n",
       "      <td>0</td>\n",
       "      <td>no</td>\n",
       "      <td>northwest</td>\n",
       "      <td>1639.56</td>\n",
       "    </tr>\n",
       "    <tr>\n",
       "      <th>581</th>\n",
       "      <td>19</td>\n",
       "      <td>male</td>\n",
       "      <td>30.6</td>\n",
       "      <td>0</td>\n",
       "      <td>no</td>\n",
       "      <td>northwest</td>\n",
       "      <td>1639.56</td>\n",
       "    </tr>\n",
       "  </tbody>\n",
       "</table>\n",
       "</div>"
      ],
      "text/plain": [
       "     age   sex   bmi  children smoker     region  expenses\n",
       "195   19  male  30.6         0     no  northwest   1639.56\n",
       "581   19  male  30.6         0     no  northwest   1639.56"
      ]
     },
<<<<<<< HEAD
     "execution_count": 204,
=======
     "execution_count": 13,
>>>>>>> ea4de1a5380277373d12ba9d2303ab401a811b72
     "metadata": {},
     "output_type": "execute_result"
    }
   ],
   "source": [
    "# Identifying the Duplicates\n",
    "\n",
    "duplicated_value = insurance_data[insurance_data.duplicated(keep = False)]\n",
    "duplicated_value"
   ]
  },
  {
   "cell_type": "code",
<<<<<<< HEAD
   "execution_count": 205,
=======
   "execution_count": 14,
>>>>>>> ea4de1a5380277373d12ba9d2303ab401a811b72
   "metadata": {},
   "outputs": [
    {
     "data": {
      "text/plain": [
       "(1337, 7)"
      ]
     },
<<<<<<< HEAD
     "execution_count": 205,
=======
     "execution_count": 14,
>>>>>>> ea4de1a5380277373d12ba9d2303ab401a811b72
     "metadata": {},
     "output_type": "execute_result"
    }
   ],
   "source": [
    "# Drop duplicated row\n",
    "insurance_data.drop_duplicates(inplace = True)\n",
    "\n",
    "# Confirm that duplicated row has been deleted\n",
    "insurance_data.shape"
   ]
  },
  {
   "cell_type": "markdown",
   "metadata": {},
   "source": [
    "Looks okay now, we have dropped our duplicated row and are set for Exploratory data analysis\n"
   ]
  },
  {
   "cell_type": "markdown",
   "metadata": {
    "id": "rF2ABPsHUtbZ"
   },
   "source": [
    "## 6. Exploratory Data Analysis"
   ]
  },
  {
   "cell_type": "markdown",
   "metadata": {},
   "source": [
    "### 6.1 At what age is smoking prevalent?"
   ]
  },
  {
   "cell_type": "code",
<<<<<<< HEAD
   "execution_count": 206,
=======
   "execution_count": 15,
>>>>>>> ea4de1a5380277373d12ba9d2303ab401a811b72
   "metadata": {},
   "outputs": [
    {
     "data": {
      "text/html": [
       "<div>\n",
       "<style scoped>\n",
       "    .dataframe tbody tr th:only-of-type {\n",
       "        vertical-align: middle;\n",
       "    }\n",
       "\n",
       "    .dataframe tbody tr th {\n",
       "        vertical-align: top;\n",
       "    }\n",
       "\n",
       "    .dataframe thead th {\n",
       "        text-align: right;\n",
       "    }\n",
       "</style>\n",
       "<table border=\"1\" class=\"dataframe\">\n",
       "  <thead>\n",
       "    <tr style=\"text-align: right;\">\n",
       "      <th></th>\n",
       "      <th>age</th>\n",
       "      <th>sex</th>\n",
       "      <th>bmi</th>\n",
       "      <th>children</th>\n",
       "      <th>smoker</th>\n",
       "      <th>region</th>\n",
       "      <th>expenses</th>\n",
       "    </tr>\n",
       "  </thead>\n",
       "  <tbody>\n",
       "    <tr>\n",
       "      <th>0</th>\n",
       "      <td>19</td>\n",
       "      <td>female</td>\n",
       "      <td>27.9</td>\n",
       "      <td>0</td>\n",
       "      <td>yes</td>\n",
       "      <td>southwest</td>\n",
       "      <td>16884.92</td>\n",
       "    </tr>\n",
       "    <tr>\n",
       "      <th>11</th>\n",
       "      <td>62</td>\n",
       "      <td>female</td>\n",
       "      <td>26.3</td>\n",
       "      <td>0</td>\n",
       "      <td>yes</td>\n",
       "      <td>southeast</td>\n",
       "      <td>27808.73</td>\n",
       "    </tr>\n",
       "    <tr>\n",
       "      <th>14</th>\n",
       "      <td>27</td>\n",
       "      <td>male</td>\n",
       "      <td>42.1</td>\n",
       "      <td>0</td>\n",
       "      <td>yes</td>\n",
       "      <td>southeast</td>\n",
       "      <td>39611.76</td>\n",
       "    </tr>\n",
       "    <tr>\n",
       "      <th>19</th>\n",
       "      <td>30</td>\n",
       "      <td>male</td>\n",
       "      <td>35.3</td>\n",
       "      <td>0</td>\n",
       "      <td>yes</td>\n",
       "      <td>southwest</td>\n",
       "      <td>36837.47</td>\n",
       "    </tr>\n",
       "    <tr>\n",
       "      <th>23</th>\n",
       "      <td>34</td>\n",
       "      <td>female</td>\n",
       "      <td>31.9</td>\n",
       "      <td>1</td>\n",
       "      <td>yes</td>\n",
       "      <td>northeast</td>\n",
       "      <td>37701.88</td>\n",
       "    </tr>\n",
       "  </tbody>\n",
       "</table>\n",
       "</div>"
      ],
      "text/plain": [
       "    age     sex   bmi  children smoker     region  expenses\n",
       "0    19  female  27.9         0    yes  southwest  16884.92\n",
       "11   62  female  26.3         0    yes  southeast  27808.73\n",
       "14   27    male  42.1         0    yes  southeast  39611.76\n",
       "19   30    male  35.3         0    yes  southwest  36837.47\n",
       "23   34  female  31.9         1    yes  northeast  37701.88"
      ]
     },
<<<<<<< HEAD
     "execution_count": 206,
=======
     "execution_count": 15,
>>>>>>> ea4de1a5380277373d12ba9d2303ab401a811b72
     "metadata": {},
     "output_type": "execute_result"
    }
   ],
   "source": [
    "smoker_df = insurance_data.loc[insurance_data['smoker'] == 'yes']\n",
    "smoker_df.head()"
   ]
  },
  {
   "cell_type": "markdown",
   "metadata": {},
   "source": [
    "'''fig = plt.figure(figsize =(15, 7))\n",
    "sns.boxplot(data = smoker_df, x = 'smoker', y = 'age' )\n",
    "plt.axhline(y=smoker_df['age'].mean(), c='r', label='Mean Age')\n",
    "plt.title('Smokers vs Age Distribution')\n",
    "plt.legend()\n",
    "print(f'The mean age of smokers is: {smoker_df[\"age\"].mean().round(1)}');\n",
    "'''"
   ]
  },
  {
   "cell_type": "code",
<<<<<<< HEAD
   "execution_count": 207,
=======
   "execution_count": 16,
>>>>>>> ea4de1a5380277373d12ba9d2303ab401a811b72
   "metadata": {},
   "outputs": [
    {
     "data": {
      "image/png": "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\n",
      "text/plain": [
       "<Figure size 432x288 with 1 Axes>"
      ]
     },
     "metadata": {
      "needs_background": "light"
     },
     "output_type": "display_data"
    }
   ],
   "source": [
    "sns.histplot(x='age', data=insurance_data, hue='smoker')\n",
    "plt.xlabel('Age')\n",
    "plt.ylabel('Density')\n",
    "plt.title('Distribution of ages for smokers and non-smokers')\n",
    "plt.show();"
   ]
  },
  {
   "cell_type": "markdown",
   "metadata": {},
   "source": [
    "The graph shows that a larger number of smokers are 20 years old depicted with a density of 40. Therefore, it is at 20 years that smoking is most prevalent in this dataset."
   ]
  },
  {
   "cell_type": "markdown",
   "metadata": {},
   "source": [
    "### 6.2 What regions  contribute the highest insurance premiums?"
   ]
  },
  {
   "cell_type": "code",
<<<<<<< HEAD
   "execution_count": 208,
=======
   "execution_count": 17,
>>>>>>> ea4de1a5380277373d12ba9d2303ab401a811b72
   "metadata": {},
   "outputs": [
    {
     "data": {
      "image/png": "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\n",
      "text/plain": [
       "<Figure size 432x288 with 1 Axes>"
      ]
     },
     "metadata": {
      "needs_background": "light"
     },
     "output_type": "display_data"
    }
   ],
   "source": [
    "insurance_data.groupby('region')['expenses'].agg(['mean']).plot(kind='bar')\n",
    "plt.xlabel('Region')\n",
    "plt.ylabel('Average Insurance Premium')\n",
    "plt.title('Average Insurance Premium by Region');"
   ]
  },
  {
   "cell_type": "markdown",
   "metadata": {},
   "source": [
    "The graph above indicates the insurance premium means for each region. Individuals in the Southeast region make a higher contribution of about USD 14,500 while individuals in the Southwest region make contributions of USD 12,000."
   ]
  },
  {
   "cell_type": "markdown",
   "metadata": {},
   "source": [
    "### 6.3 Smoker vs Region"
   ]
  },
  {
   "cell_type": "code",
<<<<<<< HEAD
   "execution_count": 209,
=======
   "execution_count": 18,
>>>>>>> ea4de1a5380277373d12ba9d2303ab401a811b72
   "metadata": {},
   "outputs": [
    {
     "data": {
      "text/html": [
       "<div>\n",
       "<style scoped>\n",
       "    .dataframe tbody tr th:only-of-type {\n",
       "        vertical-align: middle;\n",
       "    }\n",
       "\n",
       "    .dataframe tbody tr th {\n",
       "        vertical-align: top;\n",
       "    }\n",
       "\n",
       "    .dataframe thead th {\n",
       "        text-align: right;\n",
       "    }\n",
       "</style>\n",
       "<table border=\"1\" class=\"dataframe\">\n",
       "  <thead>\n",
       "    <tr style=\"text-align: right;\">\n",
       "      <th>smoker</th>\n",
       "      <th>no</th>\n",
       "      <th>yes</th>\n",
       "    </tr>\n",
       "    <tr>\n",
       "      <th>region</th>\n",
       "      <th></th>\n",
       "      <th></th>\n",
       "    </tr>\n",
       "  </thead>\n",
       "  <tbody>\n",
       "    <tr>\n",
       "      <th>northeast</th>\n",
       "      <td>257</td>\n",
       "      <td>67</td>\n",
       "    </tr>\n",
       "    <tr>\n",
       "      <th>northwest</th>\n",
       "      <td>266</td>\n",
       "      <td>58</td>\n",
       "    </tr>\n",
       "    <tr>\n",
       "      <th>southeast</th>\n",
       "      <td>273</td>\n",
       "      <td>91</td>\n",
       "    </tr>\n",
       "    <tr>\n",
       "      <th>southwest</th>\n",
       "      <td>267</td>\n",
       "      <td>58</td>\n",
       "    </tr>\n",
       "  </tbody>\n",
       "</table>\n",
       "</div>"
      ],
      "text/plain": [
       "smoker      no  yes\n",
       "region             \n",
       "northeast  257   67\n",
       "northwest  266   58\n",
       "southeast  273   91\n",
       "southwest  267   58"
      ]
     },
<<<<<<< HEAD
     "execution_count": 209,
=======
     "execution_count": 18,
>>>>>>> ea4de1a5380277373d12ba9d2303ab401a811b72
     "metadata": {},
     "output_type": "execute_result"
    }
   ],
   "source": [
    "pd.crosstab(insurance_data['region'],insurance_data['smoker'])"
   ]
  },
  {
   "cell_type": "code",
<<<<<<< HEAD
   "execution_count": 210,
=======
   "execution_count": 19,
>>>>>>> ea4de1a5380277373d12ba9d2303ab401a811b72
   "metadata": {},
   "outputs": [
    {
     "data": {
      "text/html": [
       "<div>\n",
       "<style scoped>\n",
       "    .dataframe tbody tr th:only-of-type {\n",
       "        vertical-align: middle;\n",
       "    }\n",
       "\n",
       "    .dataframe tbody tr th {\n",
       "        vertical-align: top;\n",
       "    }\n",
       "\n",
       "    .dataframe thead th {\n",
       "        text-align: right;\n",
       "    }\n",
       "</style>\n",
       "<table border=\"1\" class=\"dataframe\">\n",
       "  <thead>\n",
       "    <tr style=\"text-align: right;\">\n",
       "      <th>smoker</th>\n",
       "      <th>no</th>\n",
       "      <th>yes</th>\n",
       "    </tr>\n",
       "    <tr>\n",
       "      <th>sex</th>\n",
       "      <th></th>\n",
       "      <th></th>\n",
       "    </tr>\n",
       "  </thead>\n",
       "  <tbody>\n",
       "    <tr>\n",
       "      <th>female</th>\n",
       "      <td>547</td>\n",
       "      <td>115</td>\n",
       "    </tr>\n",
       "    <tr>\n",
       "      <th>male</th>\n",
       "      <td>516</td>\n",
       "      <td>159</td>\n",
       "    </tr>\n",
       "  </tbody>\n",
       "</table>\n",
       "</div>"
      ],
      "text/plain": [
       "smoker   no  yes\n",
       "sex             \n",
       "female  547  115\n",
       "male    516  159"
      ]
     },
     "execution_count": 210,
     "metadata": {},
     "output_type": "execute_result"
    }
   ],
   "source": [
    "pd.crosstab(insurance_data['sex'], insurance_data['smoker'])"
   ]
  },
  {
   "cell_type": "code",
   "execution_count": 211,
   "metadata": {},
   "outputs": [
    {
     "data": {
      "image/png": "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\n",
      "text/plain": [
       "<Figure size 864x576 with 1 Axes>"
      ]
     },
     "metadata": {
      "needs_background": "light"
     },
     "output_type": "display_data"
    }
   ],
   "source": [
    "pd.crosstab(insurance_data['region'],\n",
    "            insurance_data['smoker']).plot(kind = 'barh',figsize=(12,8));"
   ]
  },
  {
   "cell_type": "markdown",
   "metadata": {},
   "source": [
    "### 6.4 Age vs Premium"
   ]
  },
  {
   "cell_type": "code",
<<<<<<< HEAD
   "execution_count": 212,
=======
   "execution_count": 20,
>>>>>>> ea4de1a5380277373d12ba9d2303ab401a811b72
   "metadata": {},
   "outputs": [
    {
     "data": {
      "image/png": "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\n",
      "text/plain": [
       "<Figure size 432x288 with 1 Axes>"
      ]
     },
     "metadata": {
      "needs_background": "light"
     },
     "output_type": "display_data"
    }
   ],
   "source": [
    "sns.scatterplot(data = insurance_data, x = 'age', y= 'expenses');"
   ]
  },
  {
   "cell_type": "markdown",
   "metadata": {},
   "source": [
    "From the scatter plot above, it can be noted that there are three classifications for premium payments. In each, there is an increment in the premiums as age increases. It would be important to investigate these 3 groups and their cause."
   ]
  },
  {
   "cell_type": "markdown",
   "metadata": {},
   "source": [
    "### 6.5 BMI vs Premiums"
   ]
  },
  {
   "cell_type": "code",
<<<<<<< HEAD
   "execution_count": 213,
=======
   "execution_count": 21,
>>>>>>> ea4de1a5380277373d12ba9d2303ab401a811b72
   "metadata": {},
   "outputs": [
    {
     "data": {
      "image/png": "iVBORw0KGgoAAAANSUhEUgAAAZIAAAEGCAYAAABPdROvAAAAOXRFWHRTb2Z0d2FyZQBNYXRwbG90bGliIHZlcnNpb24zLjUuMSwgaHR0cHM6Ly9tYXRwbG90bGliLm9yZy/YYfK9AAAACXBIWXMAAAsTAAALEwEAmpwYAACPS0lEQVR4nO2deXhU1d34P2cmy2TfgCQmJBAT9p2oaIUqUUstruBSLfr2peXXvmKotm9dKlq1taJUK8VqUWvVLoJaN6pUBVv0FZegsm8hkJAQEsi+TSaZOb8/Zu7NvTN3spGQAOfzPDwkN3c5986d8z3fXUgpUSgUCoWit9gGegAKhUKhOLlRgkShUCgUx4USJAqFQqE4LpQgUSgUCsVxoQSJQqFQKI6LkIEewIlmyJAhcsSIEQM9DIVCoTip2Lx58zEp5VCrv512gmTEiBEUFBQM9DAUCoXipEIIURzsb8q0pVAoFIrjQgkShUKhUBwXSpAoFAqF4rhQgkShUCgUx4USJAqFQqE4Lk67qC2FQqHoDR6P5GBVExX1TpJjHYxIisJmEwM9rEGBEiQKhULRBR6PZN2OI9y+5mucbR4coTYeu3YKc8anKGGCMm0pFApFlxysatKFCICzzcPta77mYFXTAI9scKAEiUKhUHRBRb1TFyIazjYPlQ3OARrR4EKZthSnLcrmreguybEOHKE2kzBxhNoYFuMYwFENHpRGojgt0Wzel674iO8+8xmXrviIdTuO4PGojqGKQEYkRfHYtVNwhHqnTM1HMiIpaoBHNjgQp1ur3dzcXKlqbSmKjjZy6YqPAlaY7+TPJGto9ACOTDFY0TTYygYnw2JOPw1WCLFZSplr9Tdl2lKclnRm81aCRGGFzSbIGhqt3g8LlGlLcVqi2byNKJu3QtE7lCBRnJYom7dC0Xco05bitMRmE8wZn8KY/Jmnrc1boegrlCBRnLYom7dC0Tf0q2lLCBEvhHhVCLFbCLFLCHGuECJRCPG+EGKf7/8Ew/53CSEKhRB7hBDfMmyfLoTY5vvbCiGE8G0PF0Ks9m3/TAgxoj/vR6HoDzweSdHRRjbtP0bR0UYVgqw46ehvH8kTwDop5RhgMrALuBNYL6XMAdb7fkcIMQ64HhgPzAH+IISw+87zFLAIyPH9m+PbvhCokVJmA48Dy/r5fhSKPkXlsyhOBfpNkAghYoFZwHMAUkqXlLIWuAJ4wbfbC8CVvp+vAF6WUrZKKQ8AhcDZQohUIFZKuUl6k15e9DtGO9erQJ6mrSgUJwOqhpPiVKA/NZIs4CjwvBDiKyHEs0KIKCBZSlkO4Pt/mG//NOCQ4fhS37Y038/+203HSCnbgTogyX8gQohFQogCIUTB0aNH++r+FIrjRtVwUpwK9KcgCQGmAU9JKacCTfjMWEGw0iRkJ9s7O8a8QcpVUspcKWXu0KFDOx+1QnECUfksilOB/hQkpUCplPIz3++v4hUsFT5zFb7/Kw37Dzccnw4c9m1Pt9huOkYIEQLEAdV9ficKRT8xkPksysmv6Cv6LfxXSnlECHFICDFaSrkHyAN2+v7dDDzs+/9N3yFvAX8TQjwGnIHXqf65lNIthGgQQswAPgNuAn5vOOZmYBMwH9ggT7fiYYqTmoHKZ1GNmhR9SX/nkdwK/FUIEQYUAd/HqwWtEUIsBEqAawCklDuEEGvwCpp24BYppdt3nh8DfwYigHd9/8DryH9JCFGIVxO5vp/vR6HocwYinyWYk3+MKlqp6AX9KkiklF8DVtUi84Ls/2vg1xbbC4AJFtud+ASRQqHoPqpopaIvUbW2FIrTEOXkV/QlSpAoFKchqmiloi9RtbYUitMQVbRS0ZcoQaJQnKaoopWKvkKZthQKhUJxXChBolAoFIrjQpm2FIpBjscjOVjVREW9k+RY5ctQDD6UIFEoBjEqA11xMqBMWwrFIEaVmVecDChBolAMYlSZecXJgBIkCsUgRmWgK04GlCBRKAYxKgNdcTKgnO0KxSBGZaArTgaUIFEoBjkqA10x2FGmLYVCoVAcF0ojUSj6CJU4qDhdUYJEoegDVOKg4nRGmbYUij5AJQ4qTmeUIFEo+gCVOKg4nVGmLYWiD9ASB43C5EQlDirfjGKgURqJQtEHDFTioOabuXTFR3z3mc+4dMVHrNtxBI9H9ut1FQojQsrT64XLzc2VBQUFAz0MxSmIphmcyMTBoqONXLriowBN6J38mSrvRNGnCCE2Sylzrf6mTFsKRR8xEImDnflmlCBRnCj61bQlhDgohNgmhPhaCFHg25YohHhfCLHP93+CYf+7hBCFQog9QohvGbZP952nUAixQgghfNvDhRCrfds/E0KM6M/7USgGG6qoo2IwcCJ8JBdKKacYVKI7gfVSyhxgve93hBDjgOuB8cAc4A9CCLvvmKeARUCO798c3/aFQI2UMht4HFh2Au5HoRg0BPPNZCREUnS0kU37j1F0tFH5TBT9ykCYtq4ALvD9/ALwb+AO3/aXpZStwAEhRCFwthDiIBArpdwEIIR4EbgSeNd3zC9953oVWCmEEPJ0c/woTlusijpmJETy3q4KlRypOGH0tyCRwHtCCAn8UUq5CkiWUpYDSCnLhRDDfPumAZ8aji31bWvz/ey/XTvmkO9c7UKIOiAJOGYchBBiEV6NhoyMjL67O4ViEODvmyk62miZHDn61pkIgR4mnJEQSUlNc7+FDauw5NOH/hYk35BSHvYJi/eFELs72dfqDZOdbO/sGPMGrwBbBd6orc6HrFCcXPhP2MEc8LuO1POzV7bgbPOQmRTBrbNzuOeN7X2mtRjHcUa8g68P1XHHa1uDnl8JmlOHfhUkUsrDvv8rhRCvA2cDFUKIVJ82kgpU+nYvBYYbDk8HDvu2p1tsNx5TKoQIAeKA6v66H4VisGFV4+uZBbmWyZF7Kxr0bXMnpelCBDq0ljHdCBu2EgCAPo6EyDDunTtOFyJW51e1yU4t+s3ZLoSIEkLEaD8DlwDbgbeAm3273Qy86fv5LeB6XyTWSLxO9c99ZrAGIcQMX7TWTX7HaOeaD2xQ/hHFYMXjkX3uALeq8XXPm9t46KqJJgf8Q1dN5JWCDguxEPSqpEuwBMgDxzrGcfW0dHYdqe/0/Ko22alFf2okycDrvkjdEOBvUsp1QogvgDVCiIVACXANgJRyhxBiDbATaAdukVK6fef6MfBnIAKvk/1d3/bngJd8jvlqvFFfCsWgo79W4FZmrOKqFiobnCyalcWo5BjGpsRit0FNs8u0X29KugQTAH+4cZq+TQjwyM7Pr/JfTi36TZBIKYuAyRbbq4C8IMf8Gvi1xfYCYILFdic+QaRQ9DWd2fB7at8PNgF3x5TUGalxDvLzstGUm9c2l1LT7KLB6ebJDwtxhNpYvWgG41PjeOzaKfoY3t5Sxq+unBDgI+mqpEswARAVHmISHG9vKSN/dg4rNuzTz79s3iRGJEXh8Ugiw+z6uF/bXEp5ndMkaJT/5ORCZbYrFBZ0pkEAPdYueroC785E6vFIdpY3sGpjkT6OJXk5RIbaeXpjkX6N9bsrKat1csnYZN7xCxOelpHQo5IuwYpTJseE64Lqtc2l3HRuJi9/UcLC87Ow2yA3M5HzspIsn13+7BxWF5Rwx5yxuqBR/pOTC1VrS6EwoE3gB6ua2HKoljUF3tUydNSwAnpc30qriZUQGcbV09IRAuwCrpqaxogh5mO6mki1MR5taOXm5z8PGMfPLhlFTXO7fg1HqJ0n1u/rk/pbXQlYrdZYSqwDtweONpqFVLDaYKsXzWBiWnyn+6j6YQOLqrWlUHQDq0kyf3YOL31aTHmdU9cgpAzuqA420Y1IimLlDVPZV9HIE+s7zD2jU2LJSDRrAp2ZwUYkRelj/MHMLMtxxEeGsfy9vfo1brtoFAmRYX3if7BKgDRqMv61xs4cZr5eMM2spc2tn0P5T04+lCBRKHxYTeArNuzjkfmT2VvRgF1ASqyjS0eyFTabYGRSNIv/9lWXfpKummQZx2g1jpLqZtM1Hv9gL0vycvqs/tbxFKcMZhobGu2g6GgjFfVOIsNCuny+A+lDUf6bQJQgUSh8BJvACysbWLmhUNcgLho9jFULcikorsYjvY5lzb7fGZUN3Vtpd9YkyzjG1zaXBji0H7pqIo/+a0/ANc6IjyAjIbJXz6W7dGeC1WqD+ZvGDlQ16kI2Mymi00CAvvah9EQwKP+NNUqQKBQ+gk3gbt+vmgaxakEui14qMEUjXTI2udeOan9NIdhkq02k2jnK65y89Gkxi2ZlMXV4PJlJUdiEdZjv/qONlNQ095tpqLsTrJVpzCZgzhMdPpHiqhZ+v2EfqxfNoKXNHWA+68sIuJ4Khv6KvjvZUR0SFQofVpV082fn8I8vOxL5nG0eCoqrTRPJY+/vYUd5XZeJht3toqhNtu/kz+TlRefwTv5MfWLzP0dNs4sxKbF8c9QwsoZGk5EYFZCMmD87h1cKSvu1f3xPEgw109iMrCFkDY3W/U9GiqtaaGlz6/sYJ/WuTH/9Ne6+vvaphNJIFAof/qvliFA7+S9/pUdtgVlDAW8ex3W5GVy36tMuV7RdOar997XyQ3R1DptNMC0jnkWzsvBIkBJe+rSYmmZXv/YoOR4HeU/73fd0/74cd19e+1RCaSQKhQHjanliWjx3zBlrWt0vmzeJtVvL9P2vnpau+yig6xWt/2rcSogYS6lsOVTLFwer9P+LjjYCdHqOjMQoxqTE8uxHRTz5YSE1zS5LzacvS7YcT4Otnva77+n+fTnuvrx2f9If5Xg6Q+WRKBSd4N+H3b/XR35eNivWFwYc9/Kic5iRNaRb5w5W/NA/Ye+63Aw9ca8r525X/eO7kw/Sk6ik43VC97TffU/378tx99W1+4v+CgjoLI9ECRLFaUlvQjiNx0SGhdDmdhNqt3Pdqk1dJs/5Xy9Y86nRyTF85/eByXgLz8/iuY+L9P+PNzkvWNLfuiUz2Vne0KuJ1fhcEqPCu4x+GiwhtINdMPSU/kroVAmJCoWB7qzYujvxXzI2udMIq2DXWzZvEo+9v6fT4ocazjaPXq1X+/94k/OC+QYq6lt7FJUU7FlOy0g8aUJojycvZjAyEAmdSpAoTju6CuG0muhWLci1PEaLqOrMgW51vcfe38NPLxnD3ooGoKNwoX/xQ/CuJqU0/3+8zt1gTuMmV3uPJqHehMOqENr+ZSACApSzXXHa0VUIp9VEZwz59T+mKwe6//W0SK+fv7qFlRsKefajIhbPziY3M04vfugfvrt2a5n+f184zoM5jTMToyydz0OjrSeh3oTDqhDa/mUgAgKURqI47ehqxWY10fWmLEqw61lFej24didP3TiN9PhIb9RV/kyfz8GOy+3hG9lJtLk9zJmQEqDxtLd7+Of28k7b2vpjswkuGZvM6kUzKK9zkhrnYHxqHDabCDDVLcnL4UBVIyOHBPoOerP6VSG0/UtPwsz77Jr9dmaFYpASbMVmE7Bp/zEiw0LITIowHfP2ljKWzZvUq1We//XsNuuij18dqqWkplnXcM49cwiThydw1ogkJg9PIHdEkq7xGDWQL4qrLf0tnXUb9Hgk7+2q4LpVn/Kjv3zJdas+5b1dFQCMS41h0awsFs/OZuH5Wby4qZjFf/vK8ny9Wf2eLCG0JzPdCTPvS1TUluK0xBipMzTawYGqRh5cu5O5k9Kw22Dq8Hie/HAfBcV1Jsd6SU2zKRS4pKa52zWatOtFhIZYRnotPD+LmTlJAWHD/o7/9LgI3t15xKSBGKsUa3QWgmyM7EmNc3D1tHTsNsgbk4zL7eaapz8NOCbY+XoT9TQQkVKDKVLsZERFbSkUfhgjdYqOeoXIdbkZpgKIv7lqInd+O8IUyqod09PII/9jl82bZBIEd80ZQ3Obm2aXm6Kjjfr1rK7z1I3TuOO1rabeJq3tbm46N5Nl67wFG7syFWnmu9Q4BwtmZOr3vWpjEcvmTSIzKYLiqhZ9/87O15uopxMdKTXYIsVONZRpS3HaU1HvZO6ktAC/xV2vbyMxKtzSNNDTGk1GbDbBdyaksmpBLvl52SzJy6HV7eGJ9fv47z8XcOmKj1i344i+gva/zleHakmIDGPBjEye+7iIlRsK+ePGImIjQkmNc+jhxZ2ZijQ/hZW/5o7XtvLgFRNPKdPT8Xxeiq5RGonitCc51hHUb2EMezWaRlra3Pr+mmlICDja2KpPuJ2ZUUJCbJyfPYT0hIiATofaJJf0/bMBSIgMM5msPBKuybV22C+fP5nYiFDOy0rqdKWt+Sl2H6m3vO9Qu2DdkplU1LfS5GonM/HECZH+MEGpZln9ixIkitMaj0diEzAtI6HTSCJ/08iSvGwcoTZdM9Am9Wc/KuKxa6cQFiL0/hqdlVTPGhoddJL7qPAYz35UxJK8HF7c1OH/eHtLGT+5aJTlMVHhds7PHtLlxKtF9qTFR+g93/3vu6cZ7n1Bf5mgVKRY/6JMW4rTFm3SmvPERzz23h6Wzh0X1JzjbxpZU1DKkrwcS83g9jVfs7W0rttmlGCFA7WWvk+s38c1uen69vy8UcT4Ehf9j8nswerdZhNMTIuzjKCy2xgQU1B/maBUpFj/0u8aiRDCDhQAZVLKuUKIRGA1MAI4CFwrpazx7XsXsBBwA/lSyn/5tk8H/gxEAO8AS6SUUggRDrwITAeqgOuklAf7+54UpwbGSWtrWT1HNxSamkQZTSr+WkN5nZMXNxVz32XjLDUD/3xAfzNKe7uHHeV1lNc5SU+I4LfXTOGnrwT2iteOHZ8ax/P/lYvdZmPpm9twtUuW5OWY+r/3dmIMCxF62Xmb8P5+tLF1QExB/WWCGojcitOJE2HaWgLsAmJ9v98JrJdSPiyEuNP3+x1CiHHA9cB44AzgAyHEKCmlG3gKWAR8ileQzAHexSt0aqSU2UKI64FlwHUn4J4UpwAV9U5T5BPAv3dX8o0zh1BR7zUjaZONlWmkptlFalyEpcnEf34ymlHa2z28saXM1Er20fmTWLv4fA7VNPPVoVpTKK8j1MbWsjrsNkxmqBc3mbsjZiRE6r6F1DgHbo+3vW9nfoaDVU2mPvLa9VYvmtHvpiArX0hfmaCC+VlOpZpag4l+NW0JIdKB7wDPGjZfAbzg+/kF4ErD9pellK1SygNAIXC2ECIViJVSbpLepJcX/Y7RzvUqkCeEUEsMRbdIjXNw07kdkU9vbynjxhmZ3Pz853z3mc/06KmDxxqpamq1TEgcnxobYDK57aJRJEWGBTWj7Civ04UIeFfc//vqVppa23FLSUSoXW+Xq2kn//iyFI8kQCtasb6QiDA7I5KieG9XBZeu+Ijb12zh3e1H+M7vPzLdh1XZlGAaQLPL3a+mIM2seOkK8xgzEiKP+7rBzt3fPTlOZ/pbI/kd8HMgxrAtWUpZDiClLBdCDPNtT8OrcWiU+ra1+X72364dc8h3rnYhRB2QBBwzDkIIsQivRkNGRsZx35Ti5MfjkdQ1t+mmIYC5k9K4760dAfb5RbOyWLG+kMykCFYtyCXULkyr3DnjU0j6/tl8VHgMKeHPnxwEYOH5WUxKiyUnOcakEWitZY3RXgBHm1pZ/LevSIgMY+H5WWQkRlBS3RKgnVit1o1muqunpZvuy1gUcURSlGmlPizGWgNIjnVwzsikfjMFBfOFdKcIZm/PrYpC9h/9JkiEEHOBSinlZiHEBd05xGKb7GR7Z8eYN0i5ClgF3sz2boxFcQqjrVj9Q1+1Eu1GjP6O4qoWFr1UENDXwWYTDIkO59mPzNFPz31cxD9vDZy8UuMiyEyKCEiAfOiqiYwaFs3Wsnqe/LCQxbOzee7jjnO+trnU0i9iE7D7SIO+X7D7qKh3svuIORJr5Q1Tg5bB709TkDEh0ihMq5ta9Wv29roq1PfE05+mrW8AlwshDgIvA7OFEH8BKnzmKnz/V/r2LwWGG45PBw77tqdbbDcdI4QIAeKA6v64GcWpg7Zi1QoxGgkWPaURrEqt3QZL8nJMJpkleTmE2Amoyjs+NZZfXjY+INrr7te38eMLskmN8/oDNMGhnbOm2UVOcjT/vHUmLy86h3/eOpOwEMGcJz5i++F6MpMiuOXCbEYnx1jeR2SYPWClvvhvXzEuNYZ38r3n1DQC/26Kfd22NTnWQWZShCmp8tmPiiirdR73+Y+n7a+id/SbIJFS3iWlTJdSjsDrRN8gpfwe8BZws2+3m4E3fT+/BVwvhAgXQowEcoDPfWawBiHEDJ//4ya/Y7RzzfddQ2kcg5gT3UvaCm3F+trmUvJnd0zUb28p4765403CYOnccfzjyw7LarAJSYviWnh+R7HDd7eVs7m4NsBWb7MJwkPslqvmXUfq9VDfmmYXkaF2Fl+YzeLZ2SyalUXOsGiEACmhsbWdB9fuxNnmYeOeSn40y6vBPPTOrgCh9ti1U3C5PZbXPFLvDFrgryt/Q28/zxFJUTx4xUTLrHoV6nvy0S3TlhDiGmCdlLJBCHEPMA34lZTyy15c82FgjRBiIVACXAMgpdwhhFgD7ATagVt8EVsAP6Yj/Pdd3z+A54CXhBCFeDWR63sxHsUJ4niSzfoy21lbsZbXOXnpU+/kb7fBuVlJ/Pa93frvuZmJSDwmx7exSrBxHMmxDmqaXTz5YUf/9vy8bO5+fZulrT4lzto34fZAbmY8T39vGtvK6nl6Y5HuH0mN815PO6cxTHjmqGHcv9br39GEmn8o88Gqph5HRHXmbxiRFNXrz9NmE4TahQr1PUXoVvVfIcRWKeUkIcT5wG+A5cDdUspz+nuAfY2q/jtw9LaXdF9nOwc7n391X2MyorFKsFXGOhBwzuXzJ7P4718B5jIqM3OGMH14QkAPkfzZOawuKOFPN5+NEJieVWqcg19cOpa9lQ14ZEdHRa1qsBCwckOHENOuNzEtllE+Z7/VGLt6jpv2H+O7z3wWsP3lRecwLMZxXL3B+6u3uKJ/6Ivqv5pm8B3gKSnlm0KIX/bF4BSnD711gvZ1FE6wFauGcW3lXyXYmHPhPw7/c2ptcYOVUZmaEcfj105h15F63B5YXVDC9WdlYLdBRmKU7gRPiAzjpnMz+dmrWwI0kfI6J5mJERxtbNW1Df+KvprAGJcaw9CYMFYvmkGzy90tza6zvI7jdWprJqjO+t0rTg66K0jKhBB/BC4ClvkyylV5FUWP6G2yWX9E4fhHJHVH6wk2juqmVv3vybEOzh6RpJeA1wojWpVReeH7Z/PA2p26pjJ3UhrvbitnWkYC5XVORifH8G7+TI7UO/n+n78wHb9iwz4Wnp/Fcx8XUVrbwujkGB6ZN4mfv7bVsqKvMYxZu7dzRnZe2BG6nuyPJ3lQmaBOHborSK7Fm02+XEpZ64u2+t/+G5biVKS3K9ATUXCvO1qP1TgykyIoq3Xyvec+tzR3ZSRG4PbIIEl/7Sa/ipYgqVUCdoTa+NWVEwgPsVkeb7ehayY1zS7WLZnJO/kz2VvRYLm/5gfviUbX2WTfFxqFyjY/NeiWIJFSNgshKoHzgX14neH7+nNgilOP3q5AT4QJpCutx+ORSAnL509mX2UDawpKqWl28eAVE1n0UkGAABp960wOVDWytbSOnGExloIwIzGKlTdMZWtpHR4Jk9Li2H64jh/MzAK8fpB73tjO8vmTLY/PHhbDb97ZpTvjj9Q7mZE1RDep+e/vH8bsr0kF+yyCTfZKo1BodDdq6z4gFxgNPA+EAn/BmyuiUHSb3nbT6+8JqzOtx8rs9dBVE5mWEa9nqRtxtnkoOtpI4dFGVm0sIiEyLCCRcNm8SWQmRrKnokHfJzXOodfSMvpBio41kT87x+TzWJKXYxIixrGW1jZx32Xjuf/tHfr+9102nr9/VqyPsTNNqifPVWkUCui+aesqYCrwJYCU8rAQIqbzQxSKvqO/JyxN61m2bpfet/2szES9EKK/2evu17fxTv7MoAIoPNSmCw5jOG7OsBjifI2nSmqaTWVNtJwQ7RorNuxj0aws2j0e/v55qR6dFRVmZ+SQqICwZC3Ed3NxLW9+XabvLyU8/Z9CrpiSxtayehyhtqCalCojougN3RUkLl/ZdgkghFBhFYpTjqhwG4tmnalP6NoEPTQmLKjZ6+wRSQFmt/zZOdQ0uUzHaAUWn7lput54ymhOC1bW5Myh0TQ423RfiqaNRITZ+OetMznaaNbQKuqdeKS3nIsxpwVg6vB4PWxXlRFR9CXdFSRrfFFb8UKIHwL/DTzTf8NSnGj6o73pibh+X41bW8kby7Rrq/TOSqpbFW186dNivjcjw/KYrCEdmeP+2ozV/uNTY3G2u/V+IVJ6y8fXNLt4J38mM7KGmO4jOdaBXVifKzMpyiQk+juAQXH60F1n+3IhxMVAPV4/yb1Syvf7dWSKE0Z/tTft7+v35bi1lbzVKr2mycVvr5nMngpvMqBdwMT0ON3Zb7MJhsaYizb+5dMSbr94FI+9v9fkV7HbfO19/aKerAoy/uaqSWQkRLL5UA0r1hcGjNlKexiRFMXE9Lgum16pHA5FX9LdzPYowCmldAshRuMVJu9KKdv6e4B9jcpsD2SgM4x7e/2+HHfR0Ube/LqMP/oc31puh13A9Mx49lY0sfy9Pfqk+9trpvDtCR0Cq73dwydFVRQUV+OR3rpd+Xk5pMY6qGpysa+ykVd8kV5GYadpVJUNTlJiHRw41sRXh2pxe2Dt1jJunZ3DWSMS+Nbvun+fHo+kpLqJivpWml3tZCRGMXJIoKZmvLaKuFJ0RV9ktm8EZgohEoAP8LbOvQ64sW+GqBhIBtpe3tvrH8+4PR7JgWNNFFc3ERUWwrCYcKZlxvPrqyZQWd9qWs3/6soJeDwefjAzSy9N8tNXvmZMykzOHOYNDX5vV4Vpdf+rKyfy988Ock7WUFMpeMDk1DYGEWw5VMOP//qlad973tjO6h/O6JH2YLMJRgyJZsSQrnNEVMSVoi/oriARvlyShcDvpZSPCCG+6s+BKU4cJyLhrz+u39vjrExiS/JyyEmOJj0+gl+8bu5eeM8b2/UscmNpkqJjjYwcEmUZ1XXPG9v0qKnuCrtgocRH6p0qX0MxqOlumRMhhDgXrwbyT9+2E9HvXXECGOiy2729fm+O83gk28pqAyb+J9bvY2tpHdXNbZaTuSYQVmzYx9XT0nGE2iisbGTdjiNBNSOtWVN3e2No/d/9902Jc+jag1Wp9+4wGMr3K05duisMlgB3Aa/7yr1nAR/237AUJ5KBzlDu7fV7elywzojQUUKk3S07zQrXSpMsycsB8EV1nRv0mH98WRqQTBhM2I1PjeVXV07Q+7lrZrXxqXHdeo7BGOhgCsWpT7ec7acSJ9rZPtBhtacqvXmumnP+BzOzAtriOkJtLJqVRUSoHSkxTfxGc5Yj1MYj8yfzm3d2MW96Ois3FPLqj2ZQ2eDy85FM4Pcb9lFc1UJmUgQPXjExoNe7Fe3tHnaU13GkzklKnIPxqXGEhBxffdSBDqZQnBoct7NdCDEK+BkwwniMlHJ2XwzwVEWtBPuH3j5X/86I/iVHIkPtPL2xCICF52cxOT0OR6idpW9u04VI/mxvaZKaZpde0yoxKpxpGYkmzSgjIZJpGQk91vBCQmxMHp7A5OFd7tptBjqYQnHq093w3y3A08BmOnqTIKXc3H9D6x9OpEaiVoL9Q2+eq9c3Usd1qzbhbPPojZ/sNjhnZCI7yup4/pNiU+2qd3xdAA8ca2LXkXr2VjToIbxaE6o75owd9AsD9R4q+oK+CP9tl1I+1YdjOi1QK8H+oafPVdNglq3bpWsi5XVOPQpr2bu7mTMh1bJ2lc0mOHNYNCOHRDEuNZZzs5KIDLPT5vYwZ0LKSWGqVMmHiv6mu4LkbSHE/wCvA63aRilldb+M6hRhoMNqT1V6+lyN4bnGHu3GMuxHG10sPD+LSWmx5Pha0xoFxMmUc2HlP1Lhw4r+pLtevJvxNrL6BK95azPepERFJwx0WO2pSk+fq1GDKa9z8uSHhaxYX0hhZYNuytI0lJzkmF6F1w4WNO3r0hUf8d1nPuPSFR+xbscRgOMKH1YoOqO7tbZG9vdATkUGOqz2VKWnzzWYBpObmahvP1WEfF/3t1coukN3o7YigduBDCnlIiFEDjBaSrm2X0d3CnAymUROJnryXK18BEvycpB4LEuxn8wov5xiIOiuj+R5vOas83y/lwKvAEqQKCxt8sAJy5/pKqfEZhOMS43pdin2kxnll1MMBN0VJGdKKa8TQnwXQErZIoTodFYQQjjwFnsM913nVSnlfUKIRGA13pyUg8C1Usoa3zF3AQvxhhjnSyn/5ds+HfgzEAG8AyzxNdoKB14EpgNVwHVSyoPdvCdFH2CV07Hyhqm42uUJyZ/pbk6J1ljKn4r6U2ul3lmElkqOVfQX3e6QKISIALQOiWdiiN4KQiswW0rZKIQIBT4WQrwLXA2sl1I+LIS4E7gTuEMIMQ64HhgPnAF8IIQYJaV0A08Bi4BP8QqSOcC7eIVOjZQyWwhxPbAMb1VixQnCyia/tbTOskFUb+30nU2A3fUJRIaFWK7UI8Psvb73wUgw/xGgkmMV/UZ3o7buA9YBw4UQfwXWAz/v7ADppdH3a6jvnwSuAF7wbX8BuNL38xXAy1LKVinlAaAQOFsIkQrESik3SW/25It+x2jnehXI60pTUvQtVjb5YA2iKhucnZ7LqrBgsCgkrehgZz4BIy63m/zZOaZIr/zZObS5zcf2hMFaCNGqwGMwgXuwqmmAR6s4Fehu1Nb7QogvgRmAwGtaOtbVcUIIO17fSjbwpJTyMyFEspSy3HfeciHEMN/uaXg1Do1S37Y238/+27VjDvnO1S6EqAOSANPYhBCL8Go0ZGRkdOeWFd3EyiYfrNVrRKidTfuPWZpVrExUy+ZNYsrwOMsJcNySmXgktLS5WZKXzZqCUj2UNzMpIuBaSVHhrC4o0Uu7SwmrC0qYMyGlV/d9spW/UU54RX/Sk1Lw3wTOx6tVhOJNTuwUn1lqihAiHnhdCDGhk92tvn2yk+2dHeM/jlXAKvCWSOlszIqeYWWTn5geF7DtV1dOIP/lryiuarGcdK1WzHe8tpWnvjedhMgwXUgAJESG8WVJLXe/vs0UhfXipmLCQgS3zs7hulWfmib4S8Ymc8ecsX2W3X2yhdkqJ7yiP+lu+O8f8GoVf/dt+n9CiIuklLd053gpZa0Q4t94fRsVQohUnzaSClT6disFjKXq0oHDvu3pFtuNx5QKIUKAOEBl259AOrPJa9siQu26EAHrSTfYinnfkXp+celYdlc0APDa5lKuyU3XhYi23xPr9/HC98/GEWrThYjxWu/kz+zTnJ7BtMLXfEhVTa2E2W00u9wBWt9Al0lRjv5Tm+5qJN8EJvh8FAghXgC2dXaAEGIo0OYTIhHARXid4W/hzZR/2Pf/m75D3gL+JoR4DK+zPQf43NcnvkEIMQP4DLgJ+L3hmJuBTcB8YIM2RsWJI1hOh7Zt0/5juhDRME66Ho8kMsxOfl42HonezjYzKYIoRyg/e3WLSfM4c2i05SQukTS73J1O8H2V0zPQK3zjxNzuljyxfg+zx6QE9D3RtL6BTI492cyAip7TXUGyB8gAin2/Dwe2dnFMKvCCz09iA9ZIKdcKITYBa3xte0uAawB8DbPWADuBduAWn2kM4Md0hP++6/sH8BzwkhCiEK8mcn0370dxArGadDU/xhcHqzhc6+SO17aa+n9olXWtOhmu/uGMTifxEzHBn6gVfrAcHauJuStT20Alx55sZkBFz+muIEkCdgkhPvf9fhbwqRDiLQAp5eX+B0gptwJTLbZXAXlWF5FS/hr4tcX2AiDAvyKldOITRIqecSJNDf6TbmZShO7H0HqhGyeZFRv28cj8yRQdbbTULprb3J1O4n2ZR+F/TEZCJCU1zVTUOxmXGtOvmfHBVvKjk2MCJuZgXR8HgzN9MJkBFf1DdwXJvf06CsUJJdgEdcnYZH2SNE603ZmAO9vH36wSEWrX/RhaL3QjzjYP4XbBzJyhrPywMEC7SI51cM7IJEszjccjGZcawwvfP5tmVzsZiVGMHNK7PAqr52TsfNjfJppgK/k/3DjNMuR6sDrTB9oMqOh/uptHclRK+R/jP7xNsbSfFScRVhPUsnW7+Of28oB8jfZ2T6d5HBC84qxxH2Nug78fQ8vtMP6ekxzDxLS4oFV+rXIltHHMeeIjrlv1KT/+65fs8Tnpe5NHceBY4DH3vLGda6YP7/Y5jodgK/mo8JCAZ/b2ljKWzh03KCtNqyrYpz7d1UjWCCFeBB4FHMAjQC5wbn8NTNF/WE1Qcyel6X4K6JgkVy+a0aV9u6c2cOMK1artrVFY9MRB3Nk4emNeKa5usjxmaHR4t89xPARbyafEhrNs3iSTX+n2i0eTmRjBqz86l6ZWN02udjITB8dErapgn/p0V5Ccgzfi6hMgBvgr8I3+GpSif7FMIrRZm5jK66wn4MLKRhqcbTS73NiECMj16GyC1Vaoy9btYu6kNGIddl74/tnUNLs4I85BjCOUzw5U6Say7jqIOxMWvTGvRAUrqxIeYvp9WIyjX3xOVg79lTdMZcfhBh57f4/eoCs3M5HzspKw2cSgjY5SVbBPbborSNqAFrxRUw7ggJSy97UlFAOK1QR1lqE3h4Yj1EZqXITl9naPNCX9aQmBxp7nwSZpm01wydhk2tweHnt/D9flZnDz85+TEBnGTedm8sR66xDWruhMWPQmyio5NpwleTmm8SzJy6G8tlk/92PXTiEjIbJfJnCrlbyU8J3fe/uvP/lhoT6Od/JnAqjoKMWAILqTdiGE2II33+MBYAjwR7w5IvP7d3h9T25uriwoUM0dtRW0NkFlJETy3q6KgMkwKtzGzsMNpsl06dxxrNq435Qb4gi1sWhWFivWF+IItfHQVROZnhlPuxtdIzCu0ouONnLpio9MUVu3XJhtiuDSzvvC989maEx4l6v8rvIV/O+5O+fbsKeCraV1eCTYBExKjyN7aDRH6jvOcbCqiUtXfBQw7nf6YQLftP8Y333ms4DtLy86BykJ+rdTqVS+YmAQQmyWUuZa/a27GskPgdHA3VLKB4QQt+JNDFScpFiZGuaMT2H0rTMpqW4iMiyEqHA785/eREJkGAvPzyIjMYKS6hYanG2WCYZTh8ez8oap7K1o4M//d4CK+tSg2oVmhjJGbQWL4Pqo8BjPflTU5Sq/u7b47qas2myC2aOTyRoSHZC175FeUxqc2PDWrkx0KjpKMRB0N2rr+3gLNn7X93sD3sq7ipMYq+q1eyoa+PFfv+S6VZ/y3s4K3U/y5IeFHKpp4bmPi2hsdVtGWiVGhfGzV7awYn0hM0cN04UIBEY4aROidqzxPP7nldJ8fGdVd62iubR77SqyzAr/8wEB52l3S8tx98cE3lkEVE+jowZr9WLFyUd3TVtfSimnCSG+klJO9W37Wko5pb8H2Nco05aXYNV2H3t/j65tLJ6dzbMfdZiaUuMc3HRuJi9/UcJ1uRkBkVZDY8LI//vXXD0tnZFDIvnZK4HFDzQzi3b9Zet26eey8pH84tKxDIkOp76ljcjwEDKTIiitcfY4H2RbWa2pBhd4J9p/3jqTM4d1X2vQTHL+Wfq3XzzaFEXVn07uzkx03TXfqbIlip7SF6atNl+pE63W1lAsquwqTh6CVdtdeH6W7sTVQnNXF5Qwd1IadhtMSItjYdhImtvcPDJ/MgePNdHu8TAuNQZAFzR3zhkbtCyKVt79krHJjEmJobqpldWLZtDscpMa5+CScSmUVDdxqLqZULuN20wJgRP5/Ya93XYoaxNmsMzvXUfqGTmk+xFWVmas4qoW0uIdvHOCwls7i4DqbnTUQJctUUUcTy26K0hW4C0bP0wI8Wu8BRLv6bdRKfqdYHZ9u8FCU17nZMPuI/wkbxR3+artZiZFcMecsRRWNrK3ooHXNntbxXzjzCE0tbbjbHNz/VkZPLxulyk/JDMpgsUXBpZ3nzM+xXListsgNMTGD14o8EsI3GYSdtr2YP4IbcL8wcwsS//B3ooGJpwRq/s8uprUgvkoEqPCT6rw1oEsW6K0oVOP7ja2+qsQYjPeGlkCuFJKuatfR6boV4JNiLmGMGBHqI38vNEsesk7mafGObguN8M0Adx20SgiQm3c/PznpqguV7vkpU+L9UZSo5Jj+Lmvii90vQIur3NS1ejqUthp4w7mj9AmTKvEx/zZOazbXs6IpChTb5POJrW+KtY40CvygSxbMtDakKLv6XZjKynlbmB3P45FcQKxmhCXzZtEjMOum5mSYx2mlevV09L1iRi8E8DjH+xl0awsXdBcPS2dinonv/jOWH79z1265pCfl20pFCrqrVfAybEO2twey8luyvB4k7DrbCLXJszyOqcu2Ow2yB4Ww2/e2WXZ26SzSa0vsrQHw4p8IPuTqCKOpx496ZCoOIUwTogV9U7a3JKlb24zFSM8Z2QS0BFSGiw81yO9jvgFMzJNK34tSbGm2cXYlFhLodDm9vZl959ARyRFcaS+mfsvH899b+3Qz/nA5RNoaGll8YXZONs92ASMS40JOgEbJ8zyOifPfVzEkrwcfvPOLmqaXYwaFmMakyYM9/pqdFkJie74ITrTOAbDinwgy5aoIo6nHkqQnMZoEyJgikQyTmzGiRis8xRswlpbeWL9PpbPn8yuIw089e9Cls4dx4Nrd5pMS0vf3Mbz/3W2tVYSE4nHAy/+99lUNrSChFUb97O3spH82Tl6A6zzzkxixBDrCdh/whwa7cBug6kZ8XqmuHZPVsKwN5pCVxrHYFmRD1TZkoHu1qjoe5QgOUnoT5u6cWLTVuRCwNHGVkYkRekTcVVTK1lDonhi/V49imtcaiz1zS5Kg9Tk2l3RoJu3LnW26T4TKeGlT70lVaqbWvVxaD0//LPs/UuwrNiwj0fnT6awsoGU2M5XstqEqWWhl9eZm0Rpk5qVMOyNptCVxnG6r8hVEcdTDyVITgL606bubXPrLU6YEBlmWpEbs8lHJEWx+0gDf/vsIItmnWnSLP73W6O5cNRQ7/kMrXI1bUWjsdUdUAIlMymCslon33uuw1mv5bP4azfGaC1nm4c9FQ08+1ERo1NiyUjsefmUZfMm8Z0JqfqktreioU80ha40DrUiV0UcTzW6m9mu6Ae6m1ncm14a3b3+uh1HyH/5S/Jn53BNbuCKfNm6XWwrq+XfeyvZc6SeC0Yn60JE2+fRf+3hw71HWbG+kGc/KmLBjExyM+P43XXeyXFJXjapcQ7e3lLGr66cYMq8fvCKiQHl6+94bStzJ6WZxqr5aDSsMt47I1jezCdFVYC3v/yo5Jg+yVA3Zu1bnUdbkb+TP5OXF53DO/kz+9XRrjLYFf2N0kgGiJ5oGf1lUzdOri99WsxP8nICHM/X5WaYcj8evGKC5VjS4iNYPDub1zaXsrqghPy8Ufxkdce9LZ07jsnpcYxJjmVaRoJu0jgSxCRmFeKrPRZjLot2zc6ehWYWtLpOQXE1afERnDms7zSF7pznRK3IB0OEmOLURwmSAaInkTtd2dR76z/xF1CR4eb+G1Y+g9KaZsuxlFR763Dlz85BCPiFX0jtg2t38sL3zyYkxKZPoB6PpKymxfJ8YwxRXo5QG4/Mm0RafATTM+IprTWXSLl37jhS46y1Bm0i3XOk3vI6bg+m7Pa+sN0PJh/AYIgQU5z6KNPWANGZluFPZ8X4eluMEDoElBattPy93eTPztGvY9Xsak1BaUBL1/zZOfzjy1KcbR5WbNjH8IRIy3trdrWbth2sauKeN7eZrqmd7+l/F7Lw/Cye/t40Vi3I5bfv72He05vYf7QpwLT2wNqdHDzWzBcHqwJMN9pEuqag1PI6a7eWsbeiQTeNBSv62BM0wV7V1EpEqJ2KeqdebPJE05P3rLco05lCaSQDRE8idzpb4RYdbez1ilMTULuP1OuahzFp75s5Q1m10ewcr2l2cebQKB6ZP5nWNjcHq5r16Cvt+ghzSO3V09Kx2yAxKtyUM1JR76S4qoWXPi3m0fmT2VfZgNvTEc21t7KR1Ytm6Ka1VF/3RKuJcXNJDW4PPPdxkWWobXmdk3Xby3lk/mRaXO2kxDn4/fq9XJebwUufFnPemUl9skK3KkY5UCYlj0fqlYmt3rO+iARUpjMF9KNGIoQYLoT4UAixSwixQwixxLc9UQjxvhBin+//BMMxdwkhCoUQe4QQ3zJsny6E2Ob72wohvG5XIUS4EGK1b/tnQogR/XU/fU1PS34HWyl3Z8UZbMWoCagpw+P1c2gl418p8NbQeuiqiQFjTIl18PNXt1Bc3cxzHxeZWuw6Qm1U1jv51ZUTyEyKYMGMTJ77uIgV6wu5btUmk7aUGucgPy+bedPTKattJiosRD+fdi2PlCw8P4s7vz2ah+dNJMYRYunIdns6+pkYne/DYjq0rjkTUvn5q1u447Vt/L+XNnPVtOGs215OTbOrz0JvNQ1o7qQ0y1Di4w2Q6OlYrDS+ZfMm6V0de6PJ+l+jPwJBFCcX/amRtAM/lVJ+KYSIATYLId4H/gtYL6V8WAhxJ3AncIcQYhxwPTAeOAP4QAgxSkrpBp4CFgGfAu8Ac4B3gYVAjZQyWwhxPd6+8tf14z31GT21owdbPXbHf9LZitFmE4xIijKdQysXf+Nzn5EQGcaiWVmMSo5hbEosI4d05F4s8yvM6Aj1dkaclhFPenwkOcOiTaXb/RMdd5Y36BqPI9TG3d8ew7M352IXQs8n+ef2ctZuLeO63AzufXM7/33eyID2t/ddNp6n/1PI9WdlcMuF2aYcGLsNluTl0NLmDpjYH1y7k0WzsvjRBdl9Fnpr1bBLIyEyjKMNrSesvpZR4zPm76TFOyipae4T38lgSa5UDCz9JkiklOVAue/nBiHELiANb0OsC3y7vQD8G7jDt/1lKWUrcEAIUQicLYQ4CMRKKTcBCCFeBK7EK0iuAH7pO9erwEohhJDdabIyCOhu5I6VMNAm7IyEyE4jhIKtGJMM7Wv9o4yuyU3XJ+ryOqfePved/Jn6xHfJ2GTS4h3UNLfy0n+fTU1zG8mx4YxPjSMkxLv6bXa5O9WWlq3bpU9wAM/93wH+dPPZen+QoqONemn7FRu8eSS/Wbdb79gohLf9bVJUGPl5OdQ0tfHcx+YcmKExYby7rZxFs84kITJMT7YEb77L1OHxfHPUsD6b0P0bdvkLZ2Nxy/42ARnrjBn7u8+bltZrAeC/oEmNO72TKxVeToiPxGdymgp8BiT7hAxSynIhxDDfbml4NQ6NUt+2Nt/P/tu1Yw75ztUuhKgDkoBjftdfhFejISMjo8/uqzf0xi5tJQzufn0bi2ZlMSYllkvGJgfthRFswvBvX2vUjjoTAFq0lX/mef7sHH79zk7umDNWnxyDaUsCwbHGVv77vJH8Zt1u0zkanC6KjjZSUe/EJgQJkWH66l773zgxAiy/ZhJHG1otOzKuXjSDC8YM43Btc0DTrCV5OT3qRdIdNKHsr60ZhbNxfD3RAPzfnYyESEpqmoO+S12FIfdUAATTblfeMJXFf/vqtE2uVJwAQSKEiAZeA34ipawXIuiX1uoPspPtnR1j3iDlKmAVeDskdjXm/qK3jklNGBjLlwBEhtm5fc3XvOObjIJV0bWaMIzJfGMMx2cNjaboaKOlszwiNESfzPwFm6YxGE1XNuH1sRhLtC/Jy+Enq7+mptnFkrwcEiLDKPflkqwuKCE1zsFdr3+m73/7xaMYnhiJI9RGdLid/LxsNDP+a5tLqWl2ceBYc9CCks0uN6OGxXCwqomVHxaaxvzE+n1848wkvdFWb53N/guDOeNTSIt38FlRld78Kzkm/Lg1gHa35B5fYc3MpAhunZ3DPW9sD/oudWY+DSZkMhIidUHe3WKT/7x15glr6qUYnPSrIBFChOIVIn+VUv7Dt7lCCJHq00ZSgUrf9lJguOHwdOCwb3u6xXbjMaVCiBAgDqjul5vpA3ob058c6yAzKSIgCmjp3HEkRIZ1OhlZTRj5s3N46dPioJVujatq4zVXbewwF1lNitpkXlHvZPeRBm5f87XuYxmbEsuuI/Wmeln+ZU/mTkrTG2hp53zs/b3cflEOd80ZQ6vbY/KpLMnLITLUztMbi5g3Pd1SYCbHOhgW42BvZYOlaeuD3ZW66a6npqbOFgbNLjcPvbtH33fx7Ow+0QC0z27upDRdiGjPyupdCmY+tRIyVjXOulNs8mij09TTXnH60Z9RWwJ4DtglpXzM8Ke3gJt9P98MvGnYfr0vEmskkAN87jODNQghZvjOeZPfMdq55gMbBrN/pLcx/SOSonjwiomWzuJrctM7nYyM5Tie/69cFs3K4qVPiwH0iKof/eVLU9SOdsyK66daRh6F2W1kJkVwy4XZLJ7t/ZeZFKFX0tU0JaOPZdeRelasLzRFeGnCR8OYt5Ia5+CWC7P5wcwsUuMj8UjJY++bW+w+sX4fNiG469KxjEiK5MkbppGZFAF0RCdVNbVit8G5WUncdK73fldu8JZyuencTCJC7aZ76260kdYHPljEkn+ZlNc2l7Ikzxw91ZUJKJjmpwnD3rxLRvwjAYM54LVn0lXpF8XpS39qJN8AFgDbhBBf+7bdDTwMrBFCLARKgGsApJQ7hBBrgJ14I75u8UVsAfwY+DMQgdfJ/q5v+3PASz7HfDXeqK9BS2+rvtpsglC7sJw4RiXHdGmPNla/bWnzUNPs0h3YwVa0NpsI6itpdrlNZpXMpAjunTue/ZWNPLMgF4+UpuNS4xzkDIsJWoJe+/ksX3dG/+KRRu3LXxDFRITqnRcdoTZ+feVEkqJDCQ+x89v3dlNQXIcj1MYzN+UG+CieWL+PxRdmm87XnVIrmplpS2lt0Mn87BFJJk2wptlFTnI0/7x1Jkcbu2cCCrbwEIZn1pdO7v4qNjnQ3SAV/U9/Rm19jLUPA7wte62O+TXwa4vtBcAEi+1OfILoZOB4ajkFE0JjU2K7/aU0mjO6U+k22DXtQuhCZFJaLD+6IJstpbV4JNzz5jZuv3g0mUkRFFe1BGTN+yfojUuN4bwzk3TTin+CpDYuLVR3xfpC01iKjjWa9vvFG9t4ZP5kfv6qtxBlWW0r5XVOvjhYbXm/zvbuTcRWZqbHfXlAVpN5Z/4JLSqtKzrzb63d6i2A6e8jOR4nd1cLnd6UflEJi6cHKrP9BNLbL6JWbmPZvEl6pVztC6nldfRkDJqg8J80MpMiiAi1687n9LiIgMnqvsvGs62sTnfEX3d2RoAN/7H39/DgFRNZ9FKBqV6XMWs+b8wwJqbFe30yhqZUc8anBIwLvJN+ps/prl3rgcvH8/gH+wL2a3G1mwIAnvywEI+0XsEbNaLOJmIrM9PD63YFNOsynsPon+jNqjxYO+S0eAfzpqWRkRBpKoB5vCv9/ig2qWp9nR4oQXKC6ckX0X81l5kUwaoFuYTaxXGbCPwnDS0KyFjpd9m8Sbz8uTmZ7en/FPKzS8bgCLVx9bT0gLpX2uQdahe846f5GMN2zzszyTR2o8CMdYTq0VnG3iZDY8L5+bdGMzTGwb7KBuIiw6hpdpnuyxFqIyIsRB+PZgZ6e0tZwKT/yLxJTEqPY1bOEELtNppdbg5WNVk+VyuzT3FVCw2+Zl3+wrGzz7G7q/LuLDz6soJwfxSbVAmLpwdKkAwi/FetNoFpNVdc1cKilwr0cN/enlebHIyTRkSoPSALXUsGNOZsAJTVNpM/Owdnu7UPxW7zmkmCaT7+JqTO6lPlz85hdUEJ1+VmsPTN7cydlEaMI5QV6wuZlBbLfXPHc//ajp7u980dz7Mb9+vX0QIA8vNG8ffPDuqTfm5mIudleYXZzvKGgFX/GfEOkqLCu6wg0OB06/W9rIQIHN+q/EQ3gOrr653u3SBPF5QgGSQEy17XHMxWLXC7s1LsajWsTRqb9h8LKhSMaJPnP74s5RffGWs5SUwd7s24B7PmkxAZxjW56YwaFoOU6BFi2kRrFQCwYsM+/rhgOr/91x5v/kRiBAmRoThCbWwtq4fPi/UCkmnxETz2/m62ltXrDnpNY8hIjOCR+VOobHCSEuvA7YEviqtNEWbaNTUBaiwA2ZWZqbPP43RelatukKcHSpAMEjrLXn+loDRoC9zuZsUbcyj2HKlnXGqMyTehFTf0Fwq5vkgqbRLQeqfXNLv0ydTot1k6dxxPfriPzKQoPfprzvgUxi2ZyZcltabkRO0eOqtP5WzzsLm4hjkTUqlztlFa24LdLvjZJaNZ/t4etpbV8/NXt3DbRaPIGRbF0rnjWb+7ErcHVm4o1M1i86al6ZFHRsGan5cdNDLKX3O4ZGwyqxfN0AW7sRxMZ5ysq/K+iLYaTL1ZFP2HEiSDhGCr1lHJMZYtcLtrGqmod1qG02YmRel9zj0eyYGqxoBiiI9dO4XzspL0rOWh0Q5C7DAtI4EmVzuZiVHUO10mH8rKDV4zmH9xQo9EFyL+9xCsPpX2u9sDKzbs47Frp/Dg2p3UNLu4/aIc03X/9nkxF49LZkRSFGW1Tpat26Vn5J+VmahrSP4CO5gTXstG0jSHEUlRnSbrGbEqZXKyrcr7I9pq8GZ4KY4XJUgGCcFWrfGRoUxJj++1aSQ51mEpiO5+fRtThseTNTSag1VNLP7bVwHFEMelxgR0NPSfXJbNm8TarWUUV7UAwYsTJkRa9xEx5lxYVRPWMrmdbR4KKxv1PJLE6HAe+yAw9NVmE1wyNpk2tycgws2o/Wi8trk06DW1z2BYjKPbfo5gE3Bn9dAGis40jr6KtlLhv6cHSpCcILoyE4xIigowE+XPzuEXr29jxfXTem0aGZEUxahhMZaTeEW9VxAZmz8ZHevnnZlkMn9ZTS53vLaVVQtyWfRSAc62wOKECZFh7D5Sz4ysxKD3oJs/UmKobmrlLwvPYeO+o6YmV45QG62+nA9HqI1Rw4In95XUNOvPURunv/ZjHIcQ8PvvTiXWEYpHSu78x1ZTT5QRSVF8dqCqW8I82AT8jq/+GHi1RO2zGajJtKsJPpiGXFHv1c66a/JS4b+nB0qQnAC6syqz2QRnxDtM5hptEm1zuy1NIzZBlwUHbTZBRlKk5SQearexaf8xIsNCuiWogk0uWqivf+VgLRlxxYZ9vFJQamk6C5ZzUdnQarpfzTejHTfBFyFlldzXmXPbmHGeEBkWUBH4sWun8ML3z+ZIvVlABdMYh0Y7TEUOq5paLWt6VTe16vXHBsPKvKsJPtj9Aj3SME7nQIPTCTGIS1P1C7m5ubKgoKBfzh1M6yg62silKz4K+FL6h/F2tp+2CtR8FQeqGgNKd1t9mV0uN9sP17H/WBNL3+wwBeXPziHEBg+9u8dUSVaLrMoeGs2IIVGMS4nVHcrduY+Dxxr5x1dleCRMTIuj6GgjTS5vpZuNeyq5YMwwpg6PJzEqDI+U2ISgqdVNVHgILrdbD7kFTPdrtxEwuQd79pFhIVy3alPQcWr7Hm1o1U1wnX0u2vmtJtCwEKF/DplJEfzqyolU1Ds5VN3MmoJSvcrxN85M4lpDeHVn1+rqfeoLJ/im/ce4fc2WAIH3+HWTmZE1BI9H8vbWwwGBFEjJg//c1e376O67rxj8CCE2Sylzrf6mNJI+ojOto7urss5CJY0r9qKjHUJEO5eVucDlcvPG1sPc++Z2vQrvmUOjqW9u49n/K2LuJG9bl+KqFn6/YR+v/r9z2XWkwSRwfnXlBK6cnEZIiK3LUE6PR+pdDxMiw4gKs5tW+5rvYVRyDL98+6ugOSNaTxMtyurAsSYOHGsiKjyEstpmpMTUR8QqcbOz8iHas+zO52KctNMTIvjrwnOod7aRGBlGS3s7xxra+J8LsgkLEQgEP3yxIOB+n1i/j9HJ1ubFYCvzznwtnTn9uyNkPB5JVJidn14yKkDgJRvKoWQkRugla9weeP3LQ3xvxsge3YcK/z09UBpJH9HZygvo9qpMmwg6c8pu2n+M7z7zWcAYXl50DjOyhui/Fxys5nvPfRZw3WcW5FJS08zqz0u8uRg+/vqDs1n4QkHA/qsXzWDy8IQux2d8BrdcmM1zHxcFnGvRrCwA3B4s/67lb2hamFUZ9dUFJfz8W2MZf0YM5XVOIsPMyZTgLfey4vqptLS5gz7HrlbLVpP5bReNIiLUxnP/d8AkCO/+9mgaXe6AXimPzp/MnooGvpkzhAV/stZ+rHwOB6uaLMe2etGMgHt1hNp44ftnMyQ6nANVjTy4didzJ6XpEWvnZiXpWmVnpelrml08e3Mu5/neoc8OVPH9P3+hX+uWC7MJscEfNwZ+bv+8dSZCYCnAuvNOKwY/nWkk/VZG/nSjs9WttiozhrgGW5X5l/a2+sIFK+et2es37T/GwWONesMo/zHVtrh4/ctDzJmQSmqcQz++wdluuf8RQ8XdzsZnfAbBckKyh0bzSkFp0L9r2ysbnEHLqM+dlMZPX/maf3xVxnef+Yz1uysDzlVc1UJLm9s0To9Hsr+ykQ27K/isqAq7jYDPRSs9v7+yke0WZeIf/2AvTS43P71kDM52Nz+YmcWktFiiHKGs2thRon7BjEwSIsPweCRjUmJwtrdbvgMZCZGs23GES1d8xHef+Uwv5x/sfQr2mX52oJrv/P4jDte0cMPZ3nL5K9YX8sOXCvjn9nI8PgnXWWl6Z5uHzw9Uc7CqiYNVTWwurmHUsGhWfHcqy66eyPSMeD7cXUn+bHM5/IeumsiBqsaAe9CuqfW4GRbjoKLe+7lqf1OcGijTVh/RWdKZMSmruqm1y7pOXRHMXGD0m+TnZZObmWA5JoHgnKyhel0sLYP7jPgIy/2TosPZtP8Yw2K8voqjja2E+e5BW30CtLul6Xirc41IitTrYwXL39Cem5YDY7Tjb9xTyYQzYrn/svEMjQnnzm+PxhFi6zJYwGolviQvh3FnxPDPW72BAm1uyVJfB0LNrGc1aQ+NDtdL12cmRfDgFRMpKK7mBzOz9NpgKzbsY9GsLPZWNrJ2axn3zh1PRKiN1YvOpcHpItRuZ1hMOLsr6tl9pN50rLdF8LmW9zQkOtz6uQ6Jwtnm4ViTS2/+pY33jte2MjEtrlNznhC+OmWhdo42tFLT7GJMSgxpCRGmMv1L8nL43Nf5saW1nShHCGcOjeSqP2wyXdNoau2vEGBVnn7woARJHxGshIaWCKetyvoicscqW9gmYM4THaaQEJuN5z8+wAOXT+DetwzVe+eOZ9XG/cwaPQxnm7cMvGZe8XhkgG/hgSsm8NNXvtYn19svHkW43Wbqtf7YtVMYnRzDPW9u03MytEZORh/Jb6+ZwrjUuE5zRlYXlHT4hQSmqKrMpAj+54JsbvMTBvGRYdz97TE89K55TEbfjZV28cR672Q/PCGK5FiHyZTkbPNwqLrZctIuqWnG2earfpyboYc+G81E5XVOMhIieXHTQa7LzeCWv31pGrNWHWBJXg6v+HwUxmODRerZbQQ8t9suGkV4iI3Fs7NJi4uwFBTFhkAE/3vKTIpgTHIMj8yfRFOr25QDtHTuOH5yUQ6NrW5e21zKy1+UsGjWmSbhYizlY7ym5jfpjxBglZ8yuFA+kj6kvd3DJ0VVFBRX4/Z4e0ZojuOeRG/1BqPfJDXOwX2XjeMnq7/m/svGEhUeRpOrnYiwEJ7duJ+9lY0mX4Tx2u3tHnaU13GkzklSdLguRIzjXZLnnViEgOhwO1JCRmIku440sHFPJTNHDUMIiAqzMzIpioPVTaTHR4KAsSmxZCZGUlzdzP5jjbjaPJTWtjAiMZK4yBBaXB4yk6IYOcTrZP/O7zueV2d+lzC7jRbfytom4OqpaYwY4l0Nb9hTQW1zGz97ZWvAc7v94lGcMzKRmmYXP/rLl6a/pcY5yM/L4f63DUUhLxvPivX7KK9zBh2P9mwXX5hNS5sn6D5Pflho+fNzHxexbslMpITDdS00Ot2kxoUzLjWO3RX1fLTvGEOiw0mKCkMiqWtp4+7XvcJ/SV42f/QFO2ianF3ApPQ47nljB2EhIqAp2f9ckM19b+3Qrx3sfvJn5yAEpjwh42eg9YpJjfMmwU4ZHs+IpCiqmlq55ulPA569v0+vM/y1DykxvRvaOPoqGkxpO4GoqK0TRElNs7461TCuvI43pr6zl9toWrvxnAx+8653xf+H/xQFREfddtEo/vZ5cYCfxuORlNQ00+xyk5McQ1VTq0mIaOMdGh3OE+u3W+ZhGFfVmUkR3H3pOGIcofzMsILVGlrl//0r/RxVzS5+4qfNxTjs/OSiHNrdEme7h+HxEbomYDR3RYbZcbVLkmPCyBwSRU1TG5UNraTHR1JS08zW0joE1qa0nGHR3Pz85/xgZlbA38NCBGEhgkWzsvBIr4BKi3foprlgfh67DV3rmDc9Pagpyepnuw1W3jCVHYcb+OkrHc/j3rnjaHS1UVHnMj3vpXPH8fqXh/T8o7AQG8uvmcSh6hbTfrdfPIqbzs1k2bo9/H7DPp7/r7PYVFTFmOQYbn9li8k/ZTVWzZeyfP5ky31GJXs7YFq9E8vmTdIbnRmffXdrjVlpH8HG0Rf5KUrb6TlKkPQhXQmK4yne19XLbTStDY0Op7iqhZc+LebqaelEO+z8ccF0GpztpMY6CLEJcpKjyUzsMP2UVDcFFFX8zVXWE8DRxlacbR6unpYe0L52xYZ9LMnLASA1LoK2dk9Az5Lb13zNi/99NqOGRfOjC7LxeKQuaLR97nhtK49fOwWbEKz8cJ++2s5MiggQjEvnjmNkUgTF1U7+30ub9e0PXjGB0SnRel8Tf5PQI/MnEWoXPHjFBGIcIfz6qgn84vUOs96dc8bqZjQNr09kAkvf3K4/D//Pc3xqHM1t7Z36guIjQvTzjUqOYfHsbOwCLh6bjEdKU86Js83DA2t38syCXO7yq1e2auN+Fs0609Rn5ckbpgV8Lo+9v5dH508GvIEIm4qqWLG+kMWzswPGZuW30s5js1nvMzbFayL1z83RPktj9YOehgBbmcb2VTb0+rvUm+upbPzOUYKkD+lKUBxPTH1XL7fRb1JW6/VnlNc5+ceX3srBxgnWaKNfecNUXO2S3UfqA5y0d72+ladunMaP/2q270eG2kmNc1iuYBMiw0iKCuPet7zmoGDVdetb2vTuij+YmWW5T4Ozjcfe36v/7cPdlSydO57FPn+Dtt+Da3fy7E25uglK2770ze386eaziA23U9Ps0js0CgGx4XaaW938/NWOhLvbLx7FyhumUtvcxpE6J02uwCi24qoWqppaWTQri0npcYE+pcsn8OSH+/jeORksnz+Z0BCvOcxoHluSl0NCVBi5mXFck5th8jcMT4zkSJDIrMN1LQHb505KY9XG/fp9AeyvtG6j3NzaDnQUwtTQ3tnu1B3LGRpj+Q5reT3dqX7Q0xBg/3OmxjlwhNqD5godr1mqqqnV9Dy1IAiVjR8cJUj6kO4ICn9TSVhI775MEKjKa6G5NoHu6Da2utWOeWJ9RwvaraV1rNpYZJrMjaYjAdx+UQ71rW6kRBdAC8/35oP4C85rctN1IQLBq+vGOEJ5+j+FLDw/iwlnxFruExEWotv6w0O8ZqhDVU2W5i0tFBc6vvjONg+lNc2MPSOOJXk5vPxFifc5CRibGscPDWZIbdW+aFYW2cNiWP7eXhbP9mpAcyelmTotav1YIkLtvPxFid4sa+IZcdhtcOOMTMpqW1hTUMi86elEhdlZNCuLEJs3uupwbTMlVc3c8e2xLHjOvHq/543tPDp/sm4mMvo5hsSE6c9Ju/9RyVGWGlowTdJoDrvlwmwSIkL1Cbm8zsnqghKeunEaQkCLy9tOWKs7tiQvh9AQYVlO38rEarx2m1sywtdaALxasLG0jLGagb8AMJ5TK7vzxPp9epLtqOQYxqbE6m2nj8cs5fFIDtc6dV+RMQikt9rO6eBvUYKkD+mq94JWZdf/S9YdB2FX2o7xZR0W42Dy8FiWz59Mu0eaQkvBbJf3yA6tQpu8jCXnM5MiuGPOWAorG3G5OyY8uw1eKSjl3rnjeMBgVhmeEGkaY7BV7qP/2sW8aRk8vbGQYdFhARFet100iprm1gB7+6+unEBuZhyzx6SYznnfZeP1JECtoVWLy01cZBgtLjdRYXYWX5ijZ+0H05Q8Eg4eawLg0/1HTcc4Qm388rLxtLjaufvSsfyvT5N48kNvt8bkWIfJxHTXnDGkJ0YgEFQ1uYiPCOVX7+zUI+DSEiIto53Kapv5zVUTOFLfarr3+y8fz93fHmNKhnx0/uSAhcKDa3fy1Pem8+O/bDY9n7oW7wLggx1HmDc9Q9eSMpO8GeyFlY20tnv45ds7eGTeZO76x9e6INMWEVOGxwd0lFx5w1RGJkXr7/zvrpvCT1abEx5XrN9DZJidNrdXGPifw7/cjFEAGBdoxoVReZ2TFesL9e+QFtByPGapg1VNAQU/V2zYx6oFub3Kxj9d/C1KkPQxnbUqPR5ne2fajlWJEGNkjvZlXre9nJmjhmG3Qc6wGFLjHNh9+QPahO9sd+tfVC281SqzPHtYDPOmp9Pu9vD4tVPY5SujUeVb9Wr3qa1yl8+fTGu7m/I6J+u2l/ODWWdSWNnAzy4Zw/L3duNql6YS9h4pqW9pZ+WHhQErdqO9Xdt+/9s7dC3rwbU79Uij//3WaM4Zmcj2w3Ws8oUHQ4em5L/qHxodRmxkOD+7ZBS5IxICJpVfvr2DRbOyqGpuM2lwP7og2zSBJUSGIQTsrWgMEJB//uQg5XVO7n1zO7dflEOd0x2g8YTYXAF+jvve2sHiC7P56SVjdHPYgWNNlu/UvooG/nTzWTS2thMbEUJJVRO/+2CfLkSNZsDiqha9Q6VW/bnZ5fXxGKtB52bGYbcJXO0eVi2YzvMfH2B3RSNFR5tMAuChqyayJC+HJpdXi123vZw5E1L1Kgv5edkBZtTb13zNollZAds0AaAt0PZWWJvttO/Q8Qa0dGaa683Ef7r4W5QgOYEcj7O9M23HfxU2d1KaLkSgY1XlL4i0hDxt+0ufFnPnt0frE/ro5Bh91W08zx8XTGfX4Xpdy9HCPTMSImh2tQfYrhfNOpPDtc24Jfz1sxIWzMg0+QU0O7xx0lo8OxtHiM3yS32kk6Q648/ONg+P/msPqxfNYHRyjEloRIfb+cWlY2lsbTflqdxyYY5pbJp288Inxbq5TEvK1j7Lq6els/tIvWlMV09Lp8nlDhAGj3+wV5+wEyLDSIgy91V54IoJrPmimBlnDrW8R5fbY5pMXW6P5TtV19LOpweq9FI0t100Sp/c0+Ktc01iHHZuuTAbuw0So8JZecNUXUDkZsZxbW4mN/2pI8fk/svHM2ei5L63zMEUWmdPrcnZLRdmm7QmoxZsvL5/srtRAGgLNONzN96v9h063m6UwY5Pju2dWet0qX7cbyVShBB/EkJUCiG2G7YlCiHeF0Ls8/2fYPjbXUKIQiHEHiHEtwzbpwshtvn+tkII73QhhAgXQqz2bf9MCDGiv+6lrxiRFMXKG6aSn5fN4tnZLMnLZuUNU7utMgcrT+L/sgYL4zROds42r68kPT6KOeNTeCd/Jiu+O0WfeFZuKGRfEKftFwdr+N36fSyenc2d3x5NWIjAEWLnd+v3cf/aXdQ1e/ukL56dzcLzvRPK858UMzo5hl9fOcGyL/vV09L1azhCbUwbHs90X2a+EUeoN/vaaruUgT872zys311JUpQ3LFW7t999sI+UWIdpop87KY173zQL4AfX7qTZ5WbBjEyfk9d77tc2l3LXnDHk52WTkRBBzrAYMpMi9PHEOOwMiQ7vVOBdk5uum820v9375naWzh3PzJwhlvc4JiVW1yKhw3So/a4J5rVby3B7Ot6Fxz/YS2Orm5UbCjlU0xJw7sykCGIcoXppletWbcLVLlm3ZCYvLzqHO789Tk9s1cZ631s7iIsIs7zHnGHRLMnL9mq9tsD30ere/Bf8VgKgq3JDPSlHZMXxHu9PsHJGg73Nck/pT43kz8BK4EXDtjuB9VLKh4UQd/p+v0MIMQ64HhgPnAF8IIQYJaV0A08Bi4BPgXeAOcC7wEKgRkqZLYS4HlgGXNeP93PceDyS5la3rtZrL+nxEmwV5f+72/xdxtnmoaTaW0wvOdZBuN1maofbWRtabZJdNCuLn1w0iqrGVuZN9woDt8echKd1Tfyfv30ZNELLbus4/5K8HH7xxna+f16mpX/lmY37A7bffvEonv+/g5aRRm4PfHWoNkA72Ha4rlsC2CPRS55EhNp5cZP33G0eafos77tsPE//p5DiqhbS4yODhqhqZWCyhkRbXq+6yUW0IySg0dl9c8fzp4/3852JZ/DAFRO4980OB/kfbpzGzsP1tLR5WF1QwnW5GawuKNErPBsF2Ntbylg6d5zJn2MVDac15Dp7RBJvbz1sGqvm7I8Ms1ve4+4jjTz3cRFL545jSHS4KWghOtzO7ReP0iPyjD4SbT//FskaXfkhtQ6ZwYIB/LFyhHfVY74nzvPTpfpxvwkSKeVGCy3hCuAC388vAP8G7vBtf1lK2QocEEIUAmcLIQ4CsVLKTQBCiBeBK/EKkiuAX/rO9SqwUggh5CBN1fd4JJ8UVfHzIJ37ulJzrV5e8Npgq5paTZPO21vKAkJO7507jj9u3G86pyPUxleHanWH5SPzJpkmhK7CQZ1tHiLD7BypcwY4xI1mke+fl0mjyxtVNTo5xjKiaHpmAsuvmURJdbM+UWcOiab4WCOPzp+Ms81tclbXOdtYecM0aptd1Le0MS41lhvPySBraDTLDJFG9102nrZ2NwlRXu3AGO2laRH+YwkmOIcnRNLc6vUdLL4wm+Xv7TF9lve/vYPHrpnM7ooGhIA1BYHP78ErJlDV1Mry+ZMprbEuwaJ9JplJEaxakIvb4+GrQ7X8/fNiZo4axhkJkfpzaXa1c7ShlZc/P8i1Z41ga2ktcyel6cLEKFBHJceQn5fN2JRY1nxRwqJZWaTFRVBS08LOw/WWQq2ywRsIUHS0MSByasWGffzjy8BACWN75AfX7uTn3xrNj2Zlc//ajvfx0fmTWLv4fI41teqTtccjabrYbdki2ThRd+aH9Hhkp2X2/fcN5gjv7PxWx4xL9Vai9hcsXQm+U4UT7SNJllKWA0gpy4UQw3zb0/BqHBqlvm1tvp/9t2vHHPKdq10IUQckAcf8LyqEWIRXqyEjI6PPbqYnHKxqoqC4ulf20u42VVq1IJdQu6DN7WH5v/aYui2+v+NIQASSlk+ijWO/YbKADkf5I/Mn0+Jqp6y2RZ+YNFv62NRYPUdFO889b2zn5R/O4PFrpxAaIqhtbuOxN8yRT0/5Vu7axHPna9uYNz2dlRsKvc7rWVkUVzXx2AdmrWPp3HHsPNxA1pAolr6xnZpmF7dfPIqvS2tZ/t5ek6BwhNiIiwihuMpFVVODZTLj/ZeP5w//9o7l7S1l3Dd3vGnC0yZFR6iNg1XN/OPLUhae7+3rYvVZuqW3RP6h6uaA3BWbgMSoUD1K64VNxQGCZunccbpvobiqhUUvFfDPW2fS0uZh1cYijja6OCPeYXou+bNz2FbWyLTMBtweCA/xLhz2VjTy3bMzyBoaRYgQHKxqCqjrdU1uOk9+6E1MDOZbqKh3sqaglNsuGsXjH+wNiJx6cVMxi2ZlkTMsht1HGvTKBtozGZ4Yya1/N/fP+d9Xt/JO/kxTiRSriKlgC61gWkEw5/boW2cGdNPsjSM82DFaiRgrwdWZ4DtVGCzOdivxLDvZ3tkxgRulXAWsAm+trd4M8HipqHcGNRX5V6m16k3hHxG0+0g9afERemivNumsXjSDDbur2FvZqPca0UxLKz/cp+c8TEqP56+bDppyMT7cXalnbWuT1A1nZ1JW04xAcNaIRBIiQkmJi+DhdbsormoJGkb7ceExWto8TDwjNsDx/8u3d/C7a6dgswmc7R4O1zYzb3o60eFeM8nV09KpanbpDbK0MTa1tnOoqpk//LuQ5fMn6zkaqXEOCiu9QtDYdz4/L5vdRzoabS2dOy5gErjvrR08Mn8yeysavL6PL0t4/NopNLW2U1LTrPfpMJZ+Wbu1jHOD9KCPjwzVhcYDl4/n3rd26HW07r98PPsrGxk5JIp9lQ3eZlgCXbOobvJqV/7hwEcbnfqq1ipzfMWGfdx+UQ5nxEeyu6KBMLugyRBEYIy2WzAjk5c+LdZNdbmZiXrUXmetkGuaXXik1LUY/89c88eE+HldHaE2Yh2h3VpAddcx3ZsmcvuPNQLoZtwRSVG9coQHO8Zj8MmdilFZXXGiBUmFECLVp42kApW+7aXAcMN+6cBh3/Z0i+3GY0qFECFAHFDdn4M/HpJjHby9pSxgBbps3iRTlVr/L4hWc0oTGIApz8O4ai6vc1Je5wwwqVyT21HKRJtkM5Mi9NIaWnvdm84bwdiUGNYsmsGRem8Y78FjTaaquvmzc3ju4/16bsnIIVGW5qExqTFsLa2jzSOtv3hIPG5pipC677Lx3POdsVQ2tOKRBOS0OEJtPHD5eP50cy4JUaGE2AXpCRGU1zmJCrPz66smUFzVjEd6Q3nHpsay3WeyKa9zUljZaDmWkqomVm4o1O/vgbU7AW/k1dK5YwkPsfPA2h16/bD/uSCbnYfrAibeJXlep/f52UlEhNj562cHeGZBLrUtbSRFh1HX7OK+t3bwg5lZbNxTGWDueeDyCawpKDaNT1toWHV11LSvGIedpBiHqZ7ZkrwcPUdFEzYLz8/S/3/yw0ImpMVxRpyDP9w4jajwEFJiw7lkXApHG80mmIyESFYtyKW8roU7Xttm0l6MZi5/Tbem2cVj104hOda69L2/w7m7EVedaRJW58hMiuBoQyv5fzfnqIxLjelxhFewMRoN6t2xMpxqnOjGVm8BN/t+vhl407D9el8k1kggB/jcZwZrEELM8EVr3eR3jHau+cCGweofAa/T7Y45Y1ld4M2Ezs/LZtWCXL4zIdWUsOj/Bbnjta1sLq7TmyXdeE5G0KgnR6iN1LgIk0ll8exsy3DPuZPSdCGyYEYmqzYW8bNXtjLv6U0cqnES4wih0dmuCxHtWqsLSrhq2nBuX/M1j72/l/99dQs/mpWtRyw5Qm38+qoJFB1tYtXGIn2bEUeojciwEL1YoHbu+9/ewfDESCacEYddeKOa/O/13rd28OmBav695xj3v72T93ZWcOvfv+L5T4o51uDSm0v9cWMRja3tRId1RHhpobL+YxmbGsuzN09n0awsk0B+7uMidh9poKrByR3fGsOyeRN54IoJ3PfWDp7/pJjIUG/G+uLZ2SyalcWw2HDCbDZyMxJpamvjrJFD+eFLBdz696/47z9/wcGqZhIiwwC4YMwwXYh03Nt2brnQHIHl75jVysBrE/hzHxfR4HTzC78aXFpVAw1nW0dItBDeybXF5Wbuyo/57z8XcPOfPufrQ3VkJkYGNAN7b1cFi14q0KO9jJFiwSon/O66KbyTP5M541PISOxeJFR3I6a6aiL30FUTTee4Y85Yy3pvbk9gY7OuHOEZCZEsmzfJdMySvBz+8WWHBf5UjMrqin7TSIQQf8frWB8ihCgF7gMeBtYIIRYCJcA1AFLKHUKINcBOoB24xRexBfBjvBFgEXid7O/6tj8HvORzzFfjjfoatOhOt5SYoE63zpoOaQLj/svGW+6jdfsbnxqrR4loJpVnFuQGrKK0kEyrieCnr3ytl3EJJoBMAmDtDv6y8Byqm104Qmy4PVIvflhW2xx05W51H5uLa4gItZMYGUaUIySoGUEr86KN8epp6Tz+wV7TuO55YztP3jBVv76V+cabmb+D68/KwBFiNxVa1PwVWkkYzZegaThPbyzixnMySIl1UFLTzPJ/7aWm2cUj8yYxJDosILRXG/Nrm0u5/eJRpnvTtItjjS7+uvAcJJLEqPDAiCHp4bFrp5gKXXZWtVfDGC1mE/DgFRMDkjrveG0rCZFhnJ89xHJxYwy+eOnTDr+I1bUl0lQOZXRyjK75JMeEk5EY6HDurmO6qyZy0zLi9fdXSoJqokaTYXcc4ZpQfez9PbqJODczEYnH9N6cilFZXdGfUVvfDfKnvCD7/xr4tcX2AmCCxXYnPkF0stCV060rtdnZ5uGMeOt98sYMY2JavOWXMSMhkoeummiq7Dsu1VvfqrOQV+3cVgLIf/9GZxv7K71Z3MYQ3xc+KeZHs7JM9cWiwuyU1bZYmsTcHnB7JE9vLOLBK8Z3GkWlTZSd3UddSzt2AU9/bzotLjd2m+C310ympc1NapyD3eUNXDbZG5b64qZiU4BCg7PDX6GFJ2s5HJowaWnzcI9BYAD8/LWt3H+5tcDPSIhg3vR0EqNCyc/LxiO94bACoQtCbTKalpEIoNekigoP4XCtk5++siUgjNrqOdkMz0fzkTx01USmZcQHbdlbUFxNekKE/o4aFzfldU5e+rSYJXk5TEiLAyQeT+d+v2D+jIxE64m2O47prkJqMxKjGJMSq/99SV7wQIKeOMKNQlUzETtCvf3qe1uQ8lRhsDjbFVh/QTT/h5Y9XtHQylM3TuOXb+/Qo54eu3aKLkSgoxsjeCcCgOmZ8dx+UQ6p8d4Q1rKaFu7+9hicbW59QgP0elVSwj++DAxfHZtiXWAxMizElKdhnGyf3ljENbnpDI/3hpo+9Z8iwkIED101kbKaFo42trKm4JCe+/Dw1ZNY+WEhh6oDtRljFNVZIxLYdbiBx6+bwqGqJstxtbjaqXO6qWtxcaSu1TRZG235S+eOAzBNEMbClLmZCSy7eiJnxIeTbKgv5i9YO/IrQliSl82ago4aZ45QG2V1Lby2uZRYRwhvfl3G3ElpJESGcbi2xeTT0CKN9lSYa1Ld/e0x/OySUSTHRujntwrTvu2iUUSE2njyhql4JITaBY/On0RuZpLXZBUk8MPtwWTft1rcAPzwxQIWnp/F2q2d+/36o0RId3JJjH9PiXUw2iBYeqs1BLMYHG106ubA0xXVIbGP6W2lT+24qiZvP/QmXwfCbaW1eACbEKYErt9cNZHhiREm84fxHIdrnaZ4fK08urF0ySPzJtLuwaSpLMnLISrMzlP/KTKVP5mcHkdYiJ3m1nYaXR02eUeot7ZSUlQoNz/vfa5WDtj75o7n758Xs7WsntQ4B/913gjTpH7/5eN5paCE2WNSOGtkAh4PVDa08tA7u1h4/giGRDsoOtbIKwWlhIUI7ps7np3l9TjbvXkzt87OISxE8PNXzfdyRryDupY2MpOiTGHKENip0BjC6d8OVwuTXjw7m1Ub93P3peNod3sQQrDnSD1rCqwDIYznuXfuOF7+vISZo4axdmtZQCiyMWgC4Pn/ytVL+GvP1b+IpXb+sBDBnXPGYhPQ5pb8+ZOigMKWD101kSunpGGzCdrbPbz+dZkpQu++ueN57csSHpk/xWSWMmoUxjpZi2dn6+HaxuKOF44eQu6IJMDcudOIf3fE/q6Qq53/eLSG/uxwejKgOiT2I/5Vdw9UNVpWMO3spe2q6KJVkbu7Xt9meoGN5/Bvmeps8+jl4o3bCn0OcX87/h8XTNdtvjXNLrKHRVPX0s7dr3fkrDx+7RTaPR5Ka1p49F97uPncTFP2ss3XJTAxMoySmhae3ljI3ElpbC2r58ZzMgL8Gfe9tYPHr53Cw+t2MWdCCjYBUnojzmLCQ6msbyHMbuPm8zJJigrnfww90PNn5/D7Dfv41ZUTWX6NN9FPSm8eiV3YGBLt4FiDq1M/grPNQ1pcBItnZxMVZidraDTfPy+T8WlxbCut10ONtQCFY42tpszwe+eOo9nVzvL39gY8z+XzJ7PrSAN/3Lif63IzaPdI5k5KswyaMAq2ULtZE7BqJPbyFyUsmzeRplY3UeF2hkSHUXSsmYXnn2lqyuVs89bA0trf7iivo6LeyaPzJ1NW20yD083TGwt58IqJppW6lim+akEuBcXVAaG/jlBzyLUj1MasnCEUHW1kRFIUw2K6jsSyMn8ZKwr3pWDpat3cmUA7XbLUe4MSJMeB1RfAP+yyO2q8v/rvX3QxWJE7ownCeA4rf0GILdA8Eey8rW0eHrtmMh68iXUlVc2mKrzFVS3ctuZrHrtmMk0ub0zEO9vK9d7fxhXuXz8r1vNZND/D0BjrGlQNzjZuv3g0GQmR/HtfpR75ZRQY7W4Z4MTWJuDPDlTz7EdF3DVnDDabQErJ3soGPBLGpFiHehrrc0WGh+g9552udqIcoSx8oaOr39K54/S8Fv+AgwfW7uSxa63bv+6uaNAnWq30e3GVddVeITp8GjsP15nG7P+5atWZFxmali2bN4nkmDBKa63NMNVNrew+YjaXLZ07jne2llNc1WJZ5dbYQtoY+mtlUluSl8NPVn+th/5Ghds6zU+BwPc/ITKMfRU9X5AFo7ul3Lva73TJUu8NJzr895TCyv5rFXaplZkIRneKLlqFrRpXdf7nMO6fGucgJzk64BzG4n/G47YfruN//vYVP3tlC1IGFzg7jzToYcmXTzlDFyLa3+9fu4OZo4bp583NTGDld6cyNDrc8rqp8RGMT41lY+FRnC6PqTuiJjCGBimEaLehO+Grml20uNppcrn1cOBH/7Wb+y4bbxm2qU2my9/bzY0zMlm7tYy9lU0BwuLBtTu5Jje90wAFq/uS0vsZ3HJhNj+YmUVEqI2JaXGW+07PiGfh+d4w5Oc/KdYj3Iyfl3aun+Tl0Nru1kOKnW3eyKtQu51D1c2W5w+12QLe2QfX7uRHF3hDuJNjHXrTqU37j1F0tJGqplZ9f2Por1b5YNWCXJ69aTrL5082aXi3r/mazcW1ehCDFiY9LjUmaLRiapyDuy4dS0ubt6ROapxDP9cXB6spOtqIx79McBcE89McrGrq8X7BCqee7ihBchx0Fq6r0Z2Y8mAVQjUOVzfxwOXmSfCBKyaQHhdheQ7/irDX5Kbz8Lu7AqrEZiZFcv/lgZPrKz57vzZ5jxwSFSCY8vOyGe7LrF9dUEJKrHVp8vAQm77CXrF+LxFhdsJDbaYJUrtuiA09r2FvkMrD0Y4Qy2c1JiVWj+X3SEiNjzSZgYqrWnj6P4WsWjCdR+ZNZPGF2QDMm57OollZ1Le0UVzVwh/+Xcjdl45jekY8P5jpnfxS4xz69UcOiQoqgA9VN7N07riA+/pob6We87FyQyGL//4VxVVN3HbRKNO+9102nmMNrTz5YaGey/LipmKWz5/M7RePYvwZcay4fir3zh2H3QaHalt44+syvTKxNsbKxlaGRIcHPOMHr5hARYP1O7v7SD0PXjGRjIRI1u04wqUrPuK7z3zGpSs+4nCtU88T0iK3Fs3K4vn/yuW5m86i2dXO4r9/xeK/f8XvPtinj0cTrprpa+WGQl4pKKWq0cVnRVVs2F3B/spGvaqy5lv7+atbWLG+UF+kaOf6qPAYl674iHU7jvRImHSWd9Kb/RSBKNPWcRAsXNcYdvnYtVPISIgMaCtqXMn4217f3lKm9/RIiAzjqmnDuefNbabQ1Cc/3Mfo5GgmD08IOIdxpehsc1PT5KK4qsVU90lKSIoKY0h0OM/dnEtjq5vocDs/e2WrZcc+zYSREBkW4PDNn51DXESI5bMYd0YsS/JyeHebt7nRLX/7koTIMH78TXNIcIwjhEPVzSy+MBtnu4ecYV5TlH/jqcSoUH595UR+8UaHU33p3HE8/e/CjlBdAS1B+q1X1LcyNCac0toWPO3eSrjX5Wbw4iZvZNwt3zwzwP+hOcFrml1UNbYSHxE4hvzZOazfdYQfzsrm0fmTATja4CQhKowLxgwL8Ic89O5uluTlmD6PyFAbHryCWruXmmYXKXEOhsSEkRLrYMuhOu74x1bTdVcXlHD1tHTdt5IUGcbD7+7i+rMyePzaKTjb3Rw41sRj7+/l2tz0oNFaoXZBcXWzZVKssZlYTbOLMSmxzMweyidFVXo3RG1/zdT43MdFptLwqXEOfvzNLD4/WK23yr0mN52cYTE8d3MuO8rq9BpiVufSNM6eRn11N2P+eHuZnM4oQXIcBHO+jUuN4bwzk/QcDqtqpJeMTaakpll30o8/I4YXvn82za52MhKjyEyMZFpGAkcbWjlY1URxVYup8RNAWW2LHvYbzH57sKqJN78us3SK5mZOY97Tm/RxPbMgV3eya2QmRXBGfCRHapt57uZc2tySH/1lc8CX/fFrpwSUJs+fncODa3cwd1Ial4zviCAqr3Py1H+8IcFjUmI4VN1MVHgIHil1X0xmUgSPzp9MeV2LKVotNiKUyelxuhByhNhob/ewt7JRv6/EyDASo8IsJ4Uz4h3sKKsjZ1gMxVVN3Dt3PH/Z5O1YeMec0cREhAU4qbW6VMmxDlJiw1n9RTG3Xzyap26czleHanB7YMPuI8yblsGSl78y3f9fPz3IzedZl85vcrlNn8fy+ZM5XNPszehf31GfK8QGuSO8DmxNiBjHpgkjR6i38nJMhJ2F3xjJsSYX7R7JXf/oyHpfUxCYlKkJo6umnBG0A2GoXei5EimxDtwe2Fh4lGaX27JdsJYgGxYi9M/hmtx0jjV11FDzj3D71ZUTg55LazCmCdmelCDprpNcOdN7jxIkx0FnzrcRQ7wvebAe0sYVnn+Y6GPXTmHkkCi9tpJWFsP4Bc9MiiA6PIR3tpUzNjWWkUOiTMlVxuiTs0cmkpMczd6KRr0OVUZSJE9+2DEJRYTaKK5q5FdXTuQe30rbqmPgo/MnBZkUveVIjCtsLZQ1PMTbYc54nNZvOz8vm4hQOweONQUUoYwItQX4SR791x6e/6+zeMWQn5Ea52Dh+VmMSIrkYFUzf/rkAD+9KCdAa/jVlRPYX9lIeIhd7/yoaTS7KxoZnhDJLr9Oh9p1zxwaTahdsL+ykZvOzeKT/dU0trqZcEYcHikZmxKjZ5prx2iTPHSdMLgkL4cYh50RSVG43B5e/O+zaG5tRyI41ugK8FUYx6a1Tl40K4ujDa0sfaOY687K5M3/O8DPvzWGH8z0jkHraPnipmKeunEaXx2qxe2B1QUl/PTi0ew60kBhkB4qybEOsoZGMyIpyjLA5MVNxaZ8GS1BFtAFULPLzZcltTjbrCsq3PPGNj0EWwsp9maPJ7D8X3vYW9moC72eaAnddZL3tJeJogMlSI6TrjJjg9ldjSXlNSe9FvppVN2TYx389r3dpvLmmUkR3HJBtilaxxhd0t7u4ZOiKgqKq/FI2HuklkvGp5kioO6/fDyXTUrjN+t2myaENQWlLJqVxajkGFJjHdzo67OtjVOrsus/0Rw41kyIDVPYsfa3LF+1W2N4MMCn+48y/ow46ppd3GuI9lo6dxyrPy+hpc1j+ezKalu4dXY2L39ewtayer0u1lPfm05NUyvXn5VBdXM7z39ygMUXZpMS56C6sZUjdU5cbg9jU2MZNSyarWX1urP56e9Np8HZHjRRb2+Ft1HTXXPGsLO83qQl3X7xKBKjrDsF2m1QWtMc0B/m/svHU9fsYvHsbGwCUuIclFS38Ot3dumfsX9Rx99cNcmyGsCk9HgeXLtDN9FdPS2dlR/u44azM/npK4EtjWuaXew47I2ky82M55yRiewu95qVEiLDAiKxHrpqYqcJhk+s32fKwVk2b5IpQVb7fhQdbWTLoVococErEYzy9auxyrE56qtavGpBrklL6E4OSncy2HvSy0RhRjnb+5lgjnSrboXGiBfNwTciKYr/Pv9MX6LYZB6ZN5GH503SJ15tfy26xOOR/HN7OYteKtAdlpeMP4PfbwjM26hqdgVMCDNHDWPF+kJ+9soWjjYGroDXFJTywBUTTE7c/Nne6CfNbGL8220XjSI0xMaHu73VbjWH87MfFXFtbgbFxxoD7kWLInL4HPX+zy4pKow/btzPjy/I1h21+bNz+OVb25mYHs+EtDgeXreb4qoWWto8/H7DPto9sPLDQlasL+S21V9z3dkZJgf13ooGhsaE6RWaTYENl48nxmEnITKMqmZXgJb02Pt7CQ+xbv87KT0eIUBIj17gceH5Wfz102IaXW5GJ8eQMyyGyLAQnjUI4bmT0gKKOt71+lbunWsOjvjVlROICBXMnZSma4BCeI9//IO9JESG6dFire1uvevkK5sPMSbFq8kueqmA+la3bnY0FvxcPn8y0zLiAa92Hcz0lRYXEVCI1D/6KyMhkonpcSzJywkasDA2JZYV108NWphUM7NpE7sWsmsMDuipM16ju9FdikCURtLH+K+OMhIiA+yuy+ZN4rH395iO08JEtZ811V1Tt6PDQzja4CTGEcrmgzWWX2ZN+Pg3B7rnje26tmPcP8Rm45YLs3UB9trmUpMwiwkPNKnVNLuobWo1mZKM2dgvbirmTzfnUlrTQkRYCGW1zZRWNwepdrvD1/3QOorovKwky4KP+yoamDspjV1H6rn70rGmZkqbiqoYnhCpn1ObVP0npgfX7mTxhdm0+LSG0SkxVDc6WXxhDis/3KdrMiXVzTz+wT69J4ktSK2xynqnRfvacaz4YC97Kxv5zdUTWbF+h+m4rWX15Odl6yt5Y2Z7sBX7rvJ6k/nw9xv28dtrpgRoghG+QAV/P8SDV0xgWGwYfxp/NiOHRPHZgSr9OO2z1nxpjlAbz//XWUgJb3xdxt2vb+MHM7MsNbYRQ6I4a2SiqcqCVU7GJWOTyR4aTVWji+GJUboZVfu7/5iM9675gZJjO8xaB451v5GVP/7f1WCmw9OtJHxvUILkODG+jKlxDnaWN1h+ed7xK6IYardZ2pn9HXwej2RHeR0FxdWMSYnh4XW7uGxymunLrJUxaXa5OdrQGtRhacQRamNqRjz3vLFNr9m1JC/H9Pcj9S2WEVIrN3gjpBbPzg6YwGqaXbR7MJmqHrh8XNAkxGZXe9Aooq1ldaTFR5iiuyJD7XrtLrcH9hiS/RyhNsLsNoZEmx3twQpNpsQ69IKLjlAbv75qIqu/KOanl4zBBiafB3iTCZfPnxzEie9t9qVVhZ0yPI6io03MGj2MWaOHcbTeqUeh3XhOBkOjw4lyhBBqt+kOZGNmu3Ze/+u0tHkCgi7a3B7TYuXT/UdZctEoRiSNZW9lg+53Kq9zsvTN7SyfP5k9rQ2MHBKla8zG5EItmmrUsBja3JL3dx7Ro6mskhCXzZuEze/9Cra616oxjBgCk9PjyRkW5fNHRBAfGcJnB6osfYKaT8nf+V1cbZ3YWVLd1KkgCdb7x8p0qKK2ukYJkuOgszpEEPjlMa5qjM6/odEO7DaYmhFvcgRavez5s3NYt72803BcK+fnGEOxRU0g3PPGNr2vd7mv7/riC72Zy7+4dCzJcRHsO9LAMwty2VJaS0ubB7e7o2R2sEll6ZsdUUIJkWG43JLEKLvl5HC0odWyL/zqghL+95IxHGvsEIhuDzy9sUgPP122bhdXTEnTz5U/OwchYF9FA//7rdE8+q89vLa5lHsvG2d9bYPpztnm4Revb2PxhdkIvN0YrSYol9tj6e/QOkY++aHXURwRajd9JrddNIrl10zicK3T5F9ZkpfDbXnZVDa6cLZ7mHBGLHfMGY3bI3nyhmk8sLajOOfSueNYtXG/aUzaCv2ckUn6+xQdHsIn+6tM1zFqO0XHmvjDvwsZkz/TFKn00qfF3H5RDvFR4dxrELBaRr+W26KZviamxRIZFsLSN7eZCoh21qlQW91b+SOMdcO08Hejn2ZaRnxA+fmoIEInMqzzqS1Y759nb87l8wPVelDKxPQ4FbXVDVTRxuPAv4ibVsTOn6e/N41RyTE9LqcQrEjcI/Mnc7i2mbT4SOwCU4MobR+j81MrxndO1lDsNhiTEsvT/y5ka1k9jlCbaRX8xPVTcITaqW9pMxX0Wzp3HG6Ph+jwECrqW/VJMjczjtsuHk1dSxtpcRF4kFz1h036WG65MJs4hx2AKEeoyfSj9Ut3tUuuyU0nIzGSI3VOXtl8iB99M5thMWG4JdQ1B47l9S8PccM5I0iNC6es1klUWIiurW3cU8n3vzGSA1VNeCSkxIQRER5qKjS5JC+HtLhwQux2GpztRIaH8MzG/dx03gh+v2EfP7tkDPt85VW01bx23NSMeGqb2mjzSIZEh7HzcD0P/nOX6Z6tgg6e//5ZfP/5L0zbjZ0q/SdUrSrx0OhwtpTW8dHeSuZMSDUJXStn8GdFVaZ2vNr1tXwM7fN+9UczSIwK1wuFVje5aGp1B2hi2vv0SkGpKafnmzlDucEQjKHt+07+TIBOCxwGe7e1sWUmRbDi+qm0tLk7LUVy8Fgj724/ErCQ+vaEFD1y0opgxSRX3jCVnxkCFJSzvQNVtLGfsFp1Wa2OtpXV85PVX/f4pQy2qiusbNCFxMNXW4fjagUIpYS/f17MzFHDGJMSze4jjTy4dqeurWi2Z22sUeEhbC2tDdCsHly7k0fmT+bnr24hITKMhednkRwbxhnxkXzmW8EtW7ebn1482mQeSIwMxWEodrhoVhYZCZEcqXfS2u7mgSsmsOVQHTYBRxtacbk9/O8lY1i1cb8+aY4aFs3y+ZPxSOmLjnKz8PwzdS3AEWrjZ5eM5pZvnklkeCjDEyI4WNVkChG++9ujTc2OPi+q4pIJqdz/jy0mwZYaF84NZ2eawoM1Den6szJIT3AggTpnG5FhITz/f/tZMMPsNwjm3zhcE/h5WjUKM0bwPbh2J3+6+SwyEiL41oQU1m0vZ+H5WYxJiWZsSqxlmY4mi2RMzbx520Wj+PMnB8lMiqCs1sn3nvvctOovrWmxPPbMIVHcO3ccu47U4/H5TFLiIhg1LJpLxqcwNDqcyHCvT6y6qZVpGYmd5mR0VRXCGyjhNlUItiIjMYqc5GiT+TMnOTpovxONYMmHxmACzaJwIvuv93cV5P5CCZLjwP9lfG1zqWVS3kufFvfqpQz2smsRX842DweOWYfjltW1mLSjvZWNrPjuVOw2b1kQbbxa7xEtAujBtTu4bHKa5Zfc6Zugyuuc/OPLUhbPzmaxXxXe376/h19eNoEf/3UzCZFhjEqJ4YcvFugZ6h4Jh2qaGX9GHAePNeodEbUV+KPzJ3Owqokbz8nkcF0Lo4ZFM2dCqqkf+X2XjaehxcVlk9P0+3jp04P8v1lnmvYzmnPqW92m57Hiu1P1/Bjt/u57awerFkwPqEy8YsM+nrs5l6pGJy0uqWsV3mc2kf/sKTeZ54zNr4yfSYpF7/Jg/htj0MOnB6r0hcNtF43ib58XY7elERsRSpPLzfjUWGw2oU9AQ6Kse6SPTYmlua2dtPhw8vNGB3RIvPv1bSy/xtoHFO0I5Ra/z/rp/xRy17fH6pntmjZQWe/C45Gd5m501cStu74Jm00we3QyWUOie1RI0Sr58KGrJvLov8xBMEZzXH/T3eKSgxElSLpBsFWC/8tY0+xiSJR3tZ6RGEFJdYsposnZ5qGi3mkq/d7Z6qOzRlfgdbKH2r1+iaKjjawp8AqGO+eMISMpQm9YZRcw7oxYSqqaTbkkS/JySEuIQErJ8vmTQUjiHKGMT41l2byJRPqirl74xDvJJ8d1fPmtKuBqzuLqplYWzcpidHIMWw7VWkYPPXD5eMamxvKnjw+w6UA1qxZMxy0lVY0uPbtd+yL527Lvf3sHi2ZlsXJDR7STEOjNpvzH8+SHhfrkrgs0jzQ5obVjapraLCf2zw5Uc87IRL0asLb9nje28dSN03jxk4O6o/38nCGkxEXw9H+8pfPtNhibGkt1szPA9j821bpRmHFCNS4cHv9gL09cN5Vfvr0Dj4RnPyri0fmTsAkbP33la93c+IcbpvF1aS0e6S0Ds2DGCB5Yu5OaZhdPf286EWHm8jPgFchaHTSjqeihqybygCHiLiEyDGe7m//5ZjbtHqkXjbx6WjotbW6EDb4oruackUlBcze03ufGnjnBAk66oiddDo3H+As6myCgssOJdLb3RxOwE4USJF3Q1SrB/2VsbG1nyeqv+cHMLEs7eZtb6jHuXa0+/M8fEWon/+Wv9Kxb/8l56dxxNDnbGBYTTn1Lu0loPHnDNJa/tyfAhLIkL4dl6/bgCPV231s4c6RuvrALbz2uH38zCynht//aw20XjeLxD/YGNd/Ybd6s9aTIMFra3DjbvaUx/MNv733LKwwuGp/C7opGCoprGJsSayqf72zzhgFbXUdLE9AExvIgYcRayGhGUiTL5k3kcK3TsuOi5gOJjwoNqgUGM/t8daiWq6YPJ//vXwEwckgUr20uCfB9aM27Fl+YzbCYcIbGhFNZ1xLgvDdOqMaFg3a9Jlc7YSFCrz21r7JR/6xT4xzMHpNi6teydO443G6PLjC/LKnhknHJlkEa0WEhXDoxhWkZCTS72rHbbOyvbNBNlVbv3W0XjcIRYjMlt9532XhS4xyWfgqr3udnj0wkLS4iIOCkP/EXQB6PHNASKV0FKAxmVEJiF3SVpORfVnpcSiy/vmqiZWLb0rnjWPrmNg5WNfU4+UlKiA4P5a5vj8URarMsMfHg2p243JLdFQ3caaiv5GzzsKW01vIl1fqJONs8ONvcHK516qXX/7ixiCaXG2ebm4bWdraW1fO3z4tZcd1UpmfE6/emoZlP/vpZCQ2t7RyqbubtLWWMHBIVVBhopdndHizLk3RWmt14LoIkuE0bHs+iWVks/9deDlW3BDSG0hLdtKCEP398ICCpUku41MJS/a/h9niLRGq/HzjWxDlZQwM0tvve2sE5WUNZ/t5efv7aNn781y8pqW2locWlJwAaqxL/4YZprC4oMYVyO0JtVNQ7uWPOWFO1Y+06wd6L9IRIFs/2lop3e6Cp1R3wLJ5Yv4+vfWVTzslKIjPJm6w4JKYjqdbq/I9/sDcgufX+t3dwtKHVlJCoLaC0d1+LcluxvpAfvFCABFN5dv+Ext4kGfYEbeH2Tv5MXl50Du/kzzyhZqVgyct9oRH197NUgqQLelpaOiTERkaitxSIzQaP+EqALzw/iwant1R5ZYOzW+f1z9r9zu8/osXlZuUNU8lItC7bnhLrCNrEqqsJ2b/0uja5pMZH4mz3rtCuPyuD+97ewd2vbw8og/6rKyfw3Mf7vU292j2sKSjlutwMIkKts761FXVGQiT/+LLUcoxvbynjQb9Meq2PiPFcR+paAkq458/O0QMTtDFZPbMxKV5n/t8/L2bTgWqiwuw8fu0U8vOy9d4g5XVOXvikiF9dOTHgGmu3lhHhEzJL547jlYJSwkMCPwNnm7esvvF3uw2GJ0bpGf/L39vLsnV7ePajIoQNrj8rw3S92y8eBUBhZaOp2rG2TzBN8ctDtTz7URE/mpXNZ0VHgzrkm1xu/R3U3lGt+rMjNHhpE/95ydnm4Ui90zLjvDfv/vFkrPeEgew3opmyjZ93X2hEJ+JZKtNWF/SmtHRSVLilWWvh+VmmY7s6r5XWctfr2zoq31ocX1LTzKjkwG6Ab28pCwgEMPYiB+vS6842Dy2udqZnxBN/ySjCQ+zU+Faff/u8mCdvmMau8npa2jy8+MlBrjs7g+2HGwCvvfmlT4v58TezeOCKCabcBM1k4wi1caTem59gNcbrz8rgpU0H9WzuqDA7w2LDdVu2dq7nPj7I0OgwHr92CruO1OvFCO+cM9b0LKyeWXFVMy63h5vOG0FKrIP/fXUrENh/ffaYFHYfrjZV/V1dUML/XJBNbXOrt1pxbTM1zS69h4v/tUYMiTL9Pj0zgd/+a09ALs3SueMoq24G4NH5k2lubedoYyvP/99BrslNN50je1g0v71mCj995eug96gJ7fvX7mDVglzS4iMs97MJ9HdQe/cbW928vaWMhed7/V7BjjPiCLWxr7LR0t7fne/Uyewv6C391YHxRDzLk16QCCHmAE8AduBZKeXDfXn+3pSWDuYkX11QYjq2q/MGW7lpuQ1WiXwvfVrMfZeN0ycW44S8+vMSrxM8JYb0+AhKa1pME7LRma6hbf/9+r0UFNeRmRTBszfn0tbuITIsBJsNwkJsuoM87MtD/OHGaRRWNOhC4d63dpKbGcefv38WlfWtFB5t1IsHGv0BxjGOSo5hSHQ4t6329lfR2vUCrLh+Mn+6+SzqWlyEhdh5YO0Oyuuc1DS7qKz3+pJS4xw8dNVEDhxt5N6543hg7U5e2xxYQl0rTz4uNZ7CygbiI0J1Qakl3tltMCY5hmX/2s2ts3OYkZlAjCOEinons0dPodHVxv97qaPPypK8HMoNPVyMn8+R2mb9uebPzmFPeT1by+o52ug1b0WE2jh7RCJhIYK6lnb+n6Fkv3bc+NQ4kmPDGZ8aS4qhQu3Y1Jm+/CKzz8XoZ3G2eWtVjRwS+I4uycshJzlafwe193jZul16EcWEyLCAZ/irKyfQ3NpRoaCrCKizRyT1+t0/GfwFx0NvAge64kQ8y5M6IVEIYQf2AhcDpcAXwHellDuDHdObhEQtuqonqwRjRFZkmJ02t4fEqHDTsV2dN1jSllWp7exhMfzmnV3UNLtYu/h8soZG6+fWMueP1DsDMueN17cJeG9nhSkj+r7LxnNuViIeieU4PR5JSXUTFfWtpl4qJTXefIJQm43qZheRYSEkx4aTHu/9m3Fc5XVOosLstLkl9c42MhKjGDnE20vF6v5XL5qhlyg/VNNE0bFmvirxaghrt5axJG8U0zLi9WtV+xLuqppcxEWE8tmBappcbqSEf3zpjXRbNCuLEUlRTM+MZ3tZg0kIP3z1JOIi7CRGhTM+NY6QELP5zfgcU2IdSAlHG1v531e36NWOpfSO7aeXjGFvRYP++51zxur9T7TJXEuma2/38M/t5abIpqVzx5Ge4GBm9jDLd9DjkWzYU8HWUm95mbLaFlM+jSO0IynQ45EcONZESXWT/vn4Z45r91bd1Eqo3Uazy01qnLcfydHGjpI/pbXNpnfAboM5TwRPSOztu//OKayR9Bd99Sw7S0g82QXJucAvpZTf8v1+F4CU8jfBjunLzPb+JljEWFiIYPHfvjJNPsZeJr11EBonIS25a1J6HLNHJw9IHHt34+p7IuitzulffqM3C4fuXOdXV07g9xv26UmU913mrSqs9Ymxet7dmeytrq1N/mW1TpMgOlF5CcebE3Ey51QMNvrqWZ7KgmQ+MEdK+QPf7wuAc6SUi/32WwQsAsjIyJheXFwccK7BitWkBnSpbfTl9Qbyi9sf4zlR9+h/nYyEQG3sWGPHSr8/MpkH8vM83msPtnfxZKYvnuWpLEiuAb7lJ0jOllLeGuyYk0kjUSgUisFCZ4LkZA//LQWGG35PBw4P0FgUCoXitORkFyRfADlCiJFCiDDgeuCtAR6TQqFQnFac1OG/Usp2IcRi4F94w3//JKXc0cVhCoVCoehDTmpBAiClfAd4Z6DHoVAoFKcrJ7tpS6FQKBQDzEkdtdUbhBBHgWDxv0OAYydwOL1BjbFvUGPsG9QY+4aTYYyZUsqhVn847QRJZwghCoKFtw0W1Bj7BjXGvkGNsW84GcbYGcq0pVAoFIrjQgkShUKhUBwXSpCYWTXQA+gGaox9gxpj36DG2DecDGMMivKRKBQKheK4UBqJQqFQKI4LJUgUCoVCcVyctoJECPEnIUSlEGK7YdsvhRBlQoivff8uHcDxDRdCfCiE2CWE2CGEWOLbniiEeF8Isc/3f8JAjbGLcQ6mZ+kQQnwuhNjiG+P9vu2D5ll2MsZB8xx947ELIb4SQqz1/T5onmEnYxxUz9A3poNCiG2+8RT4tg26Z9ldTlsfiRBiFtAIvCilnODb9kugUUq5fCDH5htLKpAqpfxSCBEDbAauBP4LqJZSPiyEuBNIkFLeMQjHeS2D51kKIEpK2SiECAU+BpYAVzNInmUnY5zDIHmOAEKI24FcIFZKOVcI8QiD5Bl2MsZfMoieIXgFCZArpTxm2DbonmV3OW01EinlRqB6oMcRDClluZTyS9/PDcAuIA24AnjBt9sLeCftAaOTcQ4apJdG36+hvn+SQfQsOxnjoEEIkQ58B3jWsHnQPEMIOsaThUH1LHvCaStIOmGxEGKrz/Q1KFRLIcQIYCrwGZAspSwH7yQODBvAoZnwGycMomfpM3d8DVQC70spB92zDDJGGDzP8XfAzwGPYdugeoZYjxEGzzPUkMB7QojNwtvBFQbfs+w2SpCYeQo4E5gClAO/HdDRAEKIaOA14CdSyvqBHk8wLMY5qJ6llNItpZyCt/nZ2UKICQM5HiuCjHFQPEchxFygUkq5eSCu3x06GeOgeIZ+fENKOQ34NnCLz9R+0qIEiQEpZYXvy+wBngHOHsjx+GzlrwF/lVL+w7e5wueX0PwTlQM1Pg2rcQ62Z6khpawF/o3X9zDoniWYxziInuM3gMt9tv2XgdlCiL8wuJ6h5RgH0TPUkVIe9v1fCbyOd0yD6Vn2CCVIDGgfoo+rgO3B9j0BYxHAc8AuKeVjhj+9Bdzs+/lm4M0TPTYjwcY5yJ7lUCFEvO/nCOAiYDeD6FkGG+NgeY5SyruklOlSyhF4O5FukFJ+j0H0DIONcbA8Qw0hRJQvMAUhRBRwiW9Mg+ZZ9pSTvrFVbxFC/B24ABgihCgF7gMuEEJMwWu/PAj8v4EaH97V1QJgm89uDnA38DCwRgixECgBrhmY4ekEG+d3B9GzTAVeEELY8S6e1kgp1wohNjF4nmWwMb40iJ6jFYPtfbTikUH2DJOB171rMEKAv0kp1wkhvmDwP0tLTtvwX4VCoVD0Dcq0pVAoFIrjQgkShUKhUBwXSpAoFAqF4rhQgkShUCgUx4USJAqFQqE4LpQgUShOEEKIEcJQbbqHx54hhHi1r8ekUPQFp20eiUJxMuHLhJ4/0ONQKKxQGolCcWIJEUK84Csg+KoQItLXm+IhIcQmIUSBEGKaEOJfQoj9QogfwfFpMwpFf6MEiUJxYhkNrJJSTgLqgf/xbT8kpTwX+Aj4M17tYwbwwEAMUqHoCcq0pVCcWA5JKf/P9/NfgHzfz2/5/t8GRPt6uzQIIZxaDS6FYrCiNBKF4sTiX5NI+73V97/H8LP2u1rwKQY1SpAoFCeWDCHEub6fv4u3pa5CcVKjBIlCcWLZBdwshNgKJOJtuqRQnNSo6r8KhUKhOC6URqJQKBSK40IJEoVCoVAcF0qQKBQKheK4UIJEoVAoFMeFEiQKhUKhOC6UIFEoFArFcaEEiUKhUCiOi/8PFf/k3UpVnl0AAAAASUVORK5CYII=\n",
      "text/plain": [
       "<Figure size 432x288 with 1 Axes>"
      ]
     },
     "metadata": {
      "needs_background": "light"
     },
     "output_type": "display_data"
    }
   ],
   "source": [
    "sns.scatterplot(data = insurance_data, x = 'bmi', y= 'expenses');"
   ]
  },
  {
   "cell_type": "markdown",
   "metadata": {},
   "source": [
    "The scatter plot above shows the relationship between BMI and expenses . The plot shows that there is a positive relationship between BMI and expenses, meaning that as BMI increases, expenses also increase. This may also indicate that as the BMI increases, there is a higher risk of incurring medical expenses, which would be in line with the insurance company's risk assessment process. It may also indicate a possible correlation between BMI and the likelihood of developing certain health condition, which could be a factor in determining insurance premiums."
   ]
  },
  {
   "cell_type": "markdown",
   "metadata": {},
   "source": [
    "### 6.6 Sex vs Premiums"
   ]
  },
  {
   "cell_type": "code",
<<<<<<< HEAD
   "execution_count": 214,
=======
   "execution_count": 22,
>>>>>>> ea4de1a5380277373d12ba9d2303ab401a811b72
   "metadata": {},
   "outputs": [
    {
     "data": {
      "image/png": "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\n",
      "text/plain": [
       "<Figure size 432x288 with 1 Axes>"
      ]
     },
     "metadata": {
      "needs_background": "light"
     },
     "output_type": "display_data"
    }
   ],
   "source": [
    "sns.boxplot(data = insurance_data, x='sex',y = 'expenses');\n"
   ]
  },
  {
   "cell_type": "markdown",
   "metadata": {},
   "source": [
    "In the graph, you would see that the box for males would likely have a higher median premium expense than the box for females, this indicates that males on average pay more than females. Additionally, the whiskers for the males are longer which shows  that there are more outliers among males than among females."
   ]
  },
  {
   "cell_type": "markdown",
   "metadata": {},
   "source": [
    "### 6.7 Smoker vs Expenses"
   ]
  },
  {
   "cell_type": "code",
<<<<<<< HEAD
   "execution_count": 215,
=======
   "execution_count": 23,
>>>>>>> ea4de1a5380277373d12ba9d2303ab401a811b72
   "metadata": {},
   "outputs": [
    {
     "data": {
<<<<<<< HEAD
      "image/png": "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\n",
=======
      "image/png": "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\n",
>>>>>>> ea4de1a5380277373d12ba9d2303ab401a811b72
      "text/plain": [
       "<Figure size 432x288 with 1 Axes>"
      ]
     },
     "metadata": {
      "needs_background": "light"
     },
     "output_type": "display_data"
    }
   ],
   "source": [
    "sns.barplot(data = insurance_data, x='smoker',y = 'expenses');"
   ]
  },
  {
   "cell_type": "code",
   "execution_count": 216,
   "metadata": {},
   "outputs": [
    {
     "data": {
      "text/plain": [
       "<AxesSubplot:xlabel='age', ylabel='bmi'>"
      ]
     },
     "execution_count": 216,
     "metadata": {},
     "output_type": "execute_result"
    },
    {
     "data": {
      "image/png": "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\n",
      "text/plain": [
       "<Figure size 432x288 with 1 Axes>"
      ]
     },
     "metadata": {
      "needs_background": "light"
     },
     "output_type": "display_data"
    }
   ],
   "source": [
    "sns.scatterplot(data=insurance_data, x='age', y='bmi', hue='sex')"
   ]
  },
  {
   "cell_type": "markdown",
   "metadata": {},
   "source": [
    "As per the above graph insurance premium is relatively higher for policyholders who smoke as compared to those who do not smoke. This can be alluded to the high health risks associated with smoking."
   ]
  },
  {
   "cell_type": "markdown",
   "metadata": {},
   "source": [
    "### 6.8 Children vs Expenses"
   ]
  },
  {
   "cell_type": "code",
<<<<<<< HEAD
   "execution_count": 217,
=======
   "execution_count": 24,
>>>>>>> ea4de1a5380277373d12ba9d2303ab401a811b72
   "metadata": {},
   "outputs": [
    {
     "data": {
      "image/png": "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\n",
      "text/plain": [
       "<Figure size 432x288 with 1 Axes>"
      ]
     },
     "metadata": {
      "needs_background": "light"
     },
     "output_type": "display_data"
    }
   ],
   "source": [
    "plt.bar(insurance_data['children'],insurance_data['expenses'])\n",
    "plt.title('Children vs Expenses Distribution')\n",
    "plt.xlabel('No of Children per Individual')\n",
    "plt.ylabel(' Insurance expenses')\n",
    "plt.show();\n"
   ]
  },
  {
   "cell_type": "markdown",
   "metadata": {},
   "source": [
    "From the bar graph above, it can be noted that the mean amount of premium charged goes down as the number of children or dependents increases with the exception of 3 children. However, the premium charge should ideally go up with the increase of dependents. This could indicate an underlying reason as to why this is the case. For instance the distribution of dependents also follows a similar patten. Therefore, since there are more people with 0 dependents, then it makes sense that the mean amount of premium charged would be highest here and vice versa for people with 5 dependents."
   ]
  },
  {
   "cell_type": "code",
<<<<<<< HEAD
   "execution_count": 218,
=======
   "execution_count": 25,
>>>>>>> ea4de1a5380277373d12ba9d2303ab401a811b72
   "metadata": {
    "id": "5nnRToniXGDK"
   },
   "outputs": [
    {
     "data": {
      "text/html": [
       "<div>\n",
       "<style scoped>\n",
       "    .dataframe tbody tr th:only-of-type {\n",
       "        vertical-align: middle;\n",
       "    }\n",
       "\n",
       "    .dataframe tbody tr th {\n",
       "        vertical-align: top;\n",
       "    }\n",
       "\n",
       "    .dataframe thead th {\n",
       "        text-align: right;\n",
       "    }\n",
       "</style>\n",
       "<table border=\"1\" class=\"dataframe\">\n",
       "  <thead>\n",
       "    <tr style=\"text-align: right;\">\n",
       "      <th></th>\n",
       "      <th>age</th>\n",
       "      <th>sex</th>\n",
       "      <th>bmi</th>\n",
       "      <th>children</th>\n",
       "      <th>smoker</th>\n",
       "      <th>region</th>\n",
       "      <th>expenses</th>\n",
       "    </tr>\n",
       "  </thead>\n",
       "  <tbody>\n",
       "    <tr>\n",
       "      <th>0</th>\n",
       "      <td>19</td>\n",
       "      <td>female</td>\n",
       "      <td>27.9</td>\n",
       "      <td>0</td>\n",
       "      <td>yes</td>\n",
       "      <td>southwest</td>\n",
       "      <td>16884.92</td>\n",
       "    </tr>\n",
       "    <tr>\n",
       "      <th>1</th>\n",
       "      <td>18</td>\n",
       "      <td>male</td>\n",
       "      <td>33.8</td>\n",
       "      <td>1</td>\n",
       "      <td>no</td>\n",
       "      <td>southeast</td>\n",
       "      <td>1725.55</td>\n",
       "    </tr>\n",
       "    <tr>\n",
       "      <th>2</th>\n",
       "      <td>28</td>\n",
       "      <td>male</td>\n",
       "      <td>33.0</td>\n",
       "      <td>3</td>\n",
       "      <td>no</td>\n",
       "      <td>southeast</td>\n",
       "      <td>4449.46</td>\n",
       "    </tr>\n",
       "    <tr>\n",
       "      <th>3</th>\n",
       "      <td>33</td>\n",
       "      <td>male</td>\n",
       "      <td>22.7</td>\n",
       "      <td>0</td>\n",
       "      <td>no</td>\n",
       "      <td>northwest</td>\n",
       "      <td>21984.47</td>\n",
       "    </tr>\n",
       "    <tr>\n",
       "      <th>4</th>\n",
       "      <td>32</td>\n",
       "      <td>male</td>\n",
       "      <td>28.9</td>\n",
       "      <td>0</td>\n",
       "      <td>no</td>\n",
       "      <td>northwest</td>\n",
       "      <td>3866.86</td>\n",
       "    </tr>\n",
       "  </tbody>\n",
       "</table>\n",
       "</div>"
      ],
      "text/plain": [
       "   age     sex   bmi  children smoker     region  expenses\n",
       "0   19  female  27.9         0    yes  southwest  16884.92\n",
       "1   18    male  33.8         1     no  southeast   1725.55\n",
       "2   28    male  33.0         3     no  southeast   4449.46\n",
       "3   33    male  22.7         0     no  northwest  21984.47\n",
       "4   32    male  28.9         0     no  northwest   3866.86"
      ]
     },
<<<<<<< HEAD
     "execution_count": 218,
=======
     "execution_count": 25,
>>>>>>> ea4de1a5380277373d12ba9d2303ab401a811b72
     "metadata": {},
     "output_type": "execute_result"
    }
   ],
   "source": [
    "# Ploting the bivariate summaries and recording our observations\n",
    "insurance_data.head()"
   ]
  },
  {
   "cell_type": "markdown",
   "metadata": {
    "id": "6UzyQC6kmdBi"
   },
   "source": [
    "## 7. Data Modelling"
   ]
  },
  {
   "cell_type": "code",
<<<<<<< HEAD
   "execution_count": 219,
=======
   "execution_count": 38,
   "metadata": {},
   "outputs": [
    {
     "data": {
      "text/plain": [
       "age         0.298308\n",
       "bmi         0.198637\n",
       "children    0.067389\n",
       "expenses    1.000000\n",
       "Name: expenses, dtype: float64"
      ]
     },
     "execution_count": 38,
     "metadata": {},
     "output_type": "execute_result"
    }
   ],
   "source": [
    "#Data Correlation\n",
    "insurance_data.corr()['expenses']"
   ]
  },
  {
   "cell_type": "code",
   "execution_count": 40,
   "metadata": {},
   "outputs": [
    {
     "name": "stdout",
     "output_type": "stream",
     "text": [
      "                            OLS Regression Results                            \n",
      "==============================================================================\n",
      "Dep. Variable:               expenses   R-squared:                       0.089\n",
      "Model:                            OLS   Adj. R-squared:                  0.088\n",
      "Method:                 Least Squares   F-statistic:                     130.4\n",
      "Date:                Tue, 10 Jan 2023   Prob (F-statistic):           6.98e-29\n",
      "Time:                        22:10:47   Log-Likelihood:                -14405.\n",
      "No. Observations:                1337   AIC:                         2.881e+04\n",
      "Df Residuals:                    1335   BIC:                         2.882e+04\n",
      "Df Model:                           1                                         \n",
      "Covariance Type:            nonrobust                                         \n",
      "==============================================================================\n",
      "                 coef    std err          t      P>|t|      [0.025      0.975]\n",
      "------------------------------------------------------------------------------\n",
      "const       3190.0219    938.396      3.399      0.001    1349.130    5030.913\n",
      "age          257.2297     22.526     11.419      0.000     213.040     301.419\n",
      "==============================================================================\n",
      "Omnibus:                      398.876   Durbin-Watson:                   2.034\n",
      "Prob(Omnibus):                  0.000   Jarque-Bera (JB):              861.815\n",
      "Skew:                           1.731   Prob(JB):                    7.23e-188\n",
      "Kurtosis:                       4.865   Cond. No.                         124.\n",
      "==============================================================================\n",
      "\n",
      "Notes:\n",
      "[1] Standard Errors assume that the covariance matrix of the errors is correctly specified.\n"
     ]
    }
   ],
   "source": [
    "#Building a Baseline Model\n",
    "y = insurance_data['expenses']\n",
    "X_baseline = insurance_data[['age']]\n",
    "model = sm.OLS(y,sm.add_constant(X_baseline))\n",
    "results = model.fit()\n",
    "print (results.summary())"
   ]
  },
  {
   "cell_type": "code",
   "execution_count": 46,
   "metadata": {},
   "outputs": [
    {
     "data": {
      "text/html": [
       "<div>\n",
       "<style scoped>\n",
       "    .dataframe tbody tr th:only-of-type {\n",
       "        vertical-align: middle;\n",
       "    }\n",
       "\n",
       "    .dataframe tbody tr th {\n",
       "        vertical-align: top;\n",
       "    }\n",
       "\n",
       "    .dataframe thead th {\n",
       "        text-align: right;\n",
       "    }\n",
       "</style>\n",
       "<table border=\"1\" class=\"dataframe\">\n",
       "  <thead>\n",
       "    <tr style=\"text-align: right;\">\n",
       "      <th></th>\n",
       "      <th>age</th>\n",
       "      <th>sex</th>\n",
       "      <th>bmi</th>\n",
       "      <th>children</th>\n",
       "      <th>smoker</th>\n",
       "      <th>region</th>\n",
       "      <th>expenses</th>\n",
       "    </tr>\n",
       "  </thead>\n",
       "  <tbody>\n",
       "    <tr>\n",
       "      <th>0</th>\n",
       "      <td>19</td>\n",
       "      <td>0</td>\n",
       "      <td>27.9</td>\n",
       "      <td>0</td>\n",
       "      <td>1</td>\n",
       "      <td>southwest</td>\n",
       "      <td>16884.92</td>\n",
       "    </tr>\n",
       "    <tr>\n",
       "      <th>1</th>\n",
       "      <td>18</td>\n",
       "      <td>1</td>\n",
       "      <td>33.8</td>\n",
       "      <td>1</td>\n",
       "      <td>0</td>\n",
       "      <td>southeast</td>\n",
       "      <td>1725.55</td>\n",
       "    </tr>\n",
       "    <tr>\n",
       "      <th>2</th>\n",
       "      <td>28</td>\n",
       "      <td>1</td>\n",
       "      <td>33.0</td>\n",
       "      <td>3</td>\n",
       "      <td>0</td>\n",
       "      <td>southeast</td>\n",
       "      <td>4449.46</td>\n",
       "    </tr>\n",
       "    <tr>\n",
       "      <th>3</th>\n",
       "      <td>33</td>\n",
       "      <td>1</td>\n",
       "      <td>22.7</td>\n",
       "      <td>0</td>\n",
       "      <td>0</td>\n",
       "      <td>northwest</td>\n",
       "      <td>21984.47</td>\n",
       "    </tr>\n",
       "    <tr>\n",
       "      <th>4</th>\n",
       "      <td>32</td>\n",
       "      <td>1</td>\n",
       "      <td>28.9</td>\n",
       "      <td>0</td>\n",
       "      <td>0</td>\n",
       "      <td>northwest</td>\n",
       "      <td>3866.86</td>\n",
       "    </tr>\n",
       "    <tr>\n",
       "      <th>...</th>\n",
       "      <td>...</td>\n",
       "      <td>...</td>\n",
       "      <td>...</td>\n",
       "      <td>...</td>\n",
       "      <td>...</td>\n",
       "      <td>...</td>\n",
       "      <td>...</td>\n",
       "    </tr>\n",
       "    <tr>\n",
       "      <th>1333</th>\n",
       "      <td>50</td>\n",
       "      <td>1</td>\n",
       "      <td>31.0</td>\n",
       "      <td>3</td>\n",
       "      <td>0</td>\n",
       "      <td>northwest</td>\n",
       "      <td>10600.55</td>\n",
       "    </tr>\n",
       "    <tr>\n",
       "      <th>1334</th>\n",
       "      <td>18</td>\n",
       "      <td>0</td>\n",
       "      <td>31.9</td>\n",
       "      <td>0</td>\n",
       "      <td>0</td>\n",
       "      <td>northeast</td>\n",
       "      <td>2205.98</td>\n",
       "    </tr>\n",
       "    <tr>\n",
       "      <th>1335</th>\n",
       "      <td>18</td>\n",
       "      <td>0</td>\n",
       "      <td>36.9</td>\n",
       "      <td>0</td>\n",
       "      <td>0</td>\n",
       "      <td>southeast</td>\n",
       "      <td>1629.83</td>\n",
       "    </tr>\n",
       "    <tr>\n",
       "      <th>1336</th>\n",
       "      <td>21</td>\n",
       "      <td>0</td>\n",
       "      <td>25.8</td>\n",
       "      <td>0</td>\n",
       "      <td>0</td>\n",
       "      <td>southwest</td>\n",
       "      <td>2007.95</td>\n",
       "    </tr>\n",
       "    <tr>\n",
       "      <th>1337</th>\n",
       "      <td>61</td>\n",
       "      <td>0</td>\n",
       "      <td>29.1</td>\n",
       "      <td>0</td>\n",
       "      <td>1</td>\n",
       "      <td>northwest</td>\n",
       "      <td>29141.36</td>\n",
       "    </tr>\n",
       "  </tbody>\n",
       "</table>\n",
       "<p>1337 rows × 7 columns</p>\n",
       "</div>"
      ],
      "text/plain": [
       "      age  sex   bmi  children  smoker     region  expenses\n",
       "0      19    0  27.9         0       1  southwest  16884.92\n",
       "1      18    1  33.8         1       0  southeast   1725.55\n",
       "2      28    1  33.0         3       0  southeast   4449.46\n",
       "3      33    1  22.7         0       0  northwest  21984.47\n",
       "4      32    1  28.9         0       0  northwest   3866.86\n",
       "...   ...  ...   ...       ...     ...        ...       ...\n",
       "1333   50    1  31.0         3       0  northwest  10600.55\n",
       "1334   18    0  31.9         0       0  northeast   2205.98\n",
       "1335   18    0  36.9         0       0  southeast   1629.83\n",
       "1336   21    0  25.8         0       0  southwest   2007.95\n",
       "1337   61    0  29.1         0       1  northwest  29141.36\n",
       "\n",
       "[1337 rows x 7 columns]"
      ]
     },
     "execution_count": 46,
     "metadata": {},
     "output_type": "execute_result"
    }
   ],
   "source": [
    "# Binary Encoding for smoker (1,0)\n",
    "smoker_binary = insurance_data.copy()\n",
    "smoker_binary.smoker.replace({\"yes\":1,'no':0},inplace=True)\n",
    "smoker_binary \n",
    "\n",
    "#Binary Encoding for sex (1,0)\n",
    "sex_binary = smoker_binary.copy()\n",
    "sex_binary.sex.replace({\"male\":1,'female':0},inplace=True)\n",
    "sex_binary"
   ]
  },
  {
   "cell_type": "code",
   "execution_count": 34,
   "metadata": {},
   "outputs": [
    {
     "data": {
      "text/plain": [
       "age         0.298308\n",
       "sex         0.058045\n",
       "bmi         0.198637\n",
       "children    0.067389\n",
       "smoker      0.787234\n",
       "expenses    1.000000\n",
       "Name: expenses, dtype: float64"
      ]
     },
     "execution_count": 34,
     "metadata": {},
     "output_type": "execute_result"
    }
   ],
   "source": [
    "#sex_binary.corr()['expenses']"
   ]
  },
  {
   "cell_type": "code",
   "execution_count": 36,
   "metadata": {},
   "outputs": [
    {
     "data": {
      "text/plain": [
       "'smoker'"
      ]
     },
     "execution_count": 36,
     "metadata": {},
     "output_type": "execute_result"
    }
   ],
   "source": [
    "# Identifying the predictor column with the strongest correlation to expense\n",
    "#most_correlated = list(dict(sex_binary.corr()['expenses']))[4]\n",
    "#most_correlated"
   ]
  },
  {
   "cell_type": "code",
   "execution_count": null,
>>>>>>> ea4de1a5380277373d12ba9d2303ab401a811b72
   "metadata": {},
   "outputs": [],
   "source": [
    "insurance_data2 = insurance_data.copy()"
   ]
  },
  {
   "cell_type": "code",
   "execution_count": 220,
   "metadata": {},
   "outputs": [
    {
     "data": {
      "text/html": [
       "<div>\n",
       "<style scoped>\n",
       "    .dataframe tbody tr th:only-of-type {\n",
       "        vertical-align: middle;\n",
       "    }\n",
       "\n",
       "    .dataframe tbody tr th {\n",
       "        vertical-align: top;\n",
       "    }\n",
       "\n",
       "    .dataframe thead th {\n",
       "        text-align: right;\n",
       "    }\n",
       "</style>\n",
       "<table border=\"1\" class=\"dataframe\">\n",
       "  <thead>\n",
       "    <tr style=\"text-align: right;\">\n",
       "      <th></th>\n",
       "      <th>age</th>\n",
       "      <th>bmi</th>\n",
       "      <th>children</th>\n",
       "      <th>expenses</th>\n",
       "      <th>sex_1</th>\n",
       "      <th>smoker_1</th>\n",
       "      <th>region_1</th>\n",
       "      <th>region_2</th>\n",
       "    </tr>\n",
       "  </thead>\n",
       "  <tbody>\n",
       "    <tr>\n",
       "      <th>0</th>\n",
       "      <td>19</td>\n",
       "      <td>27.9</td>\n",
       "      <td>0</td>\n",
       "      <td>16884.92</td>\n",
       "      <td>1</td>\n",
       "      <td>1</td>\n",
       "      <td>0</td>\n",
       "      <td>1</td>\n",
       "    </tr>\n",
       "    <tr>\n",
       "      <th>1</th>\n",
       "      <td>18</td>\n",
       "      <td>33.8</td>\n",
       "      <td>1</td>\n",
       "      <td>1725.55</td>\n",
       "      <td>0</td>\n",
       "      <td>0</td>\n",
       "      <td>1</td>\n",
       "      <td>0</td>\n",
       "    </tr>\n",
       "    <tr>\n",
       "      <th>2</th>\n",
       "      <td>28</td>\n",
       "      <td>33.0</td>\n",
       "      <td>3</td>\n",
       "      <td>4449.46</td>\n",
       "      <td>0</td>\n",
       "      <td>0</td>\n",
       "      <td>1</td>\n",
       "      <td>0</td>\n",
       "    </tr>\n",
       "    <tr>\n",
       "      <th>3</th>\n",
       "      <td>33</td>\n",
       "      <td>22.7</td>\n",
       "      <td>0</td>\n",
       "      <td>21984.47</td>\n",
       "      <td>0</td>\n",
       "      <td>0</td>\n",
       "      <td>1</td>\n",
       "      <td>1</td>\n",
       "    </tr>\n",
       "    <tr>\n",
       "      <th>4</th>\n",
       "      <td>32</td>\n",
       "      <td>28.9</td>\n",
       "      <td>0</td>\n",
       "      <td>3866.86</td>\n",
       "      <td>0</td>\n",
       "      <td>0</td>\n",
       "      <td>1</td>\n",
       "      <td>1</td>\n",
       "    </tr>\n",
       "  </tbody>\n",
       "</table>\n",
       "</div>"
      ],
      "text/plain": [
       "   age   bmi  children  expenses  sex_1  smoker_1  region_1  region_2\n",
       "0   19  27.9         0  16884.92      1         1         0         1\n",
       "1   18  33.8         1   1725.55      0         0         1         0\n",
       "2   28  33.0         3   4449.46      0         0         1         0\n",
       "3   33  22.7         0  21984.47      0         0         1         1\n",
       "4   32  28.9         0   3866.86      0         0         1         1"
      ]
     },
     "execution_count": 220,
     "metadata": {},
     "output_type": "execute_result"
    }
   ],
   "source": [
    "# Dealing with categorical variables in our dataset using binary encoding\n",
    "# make sure you install category_encoders library by typing !pip install category_encoders\n",
    "\n",
    "from category_encoders import BinaryEncoder\n",
    "encoder = BinaryEncoder(cols = ['sex','smoker','region'])\n",
    "newdata = encoder.fit_transform(insurance_data2[['sex','smoker','region']])\n",
    "insurance_data2 = pd.concat([insurance_data2,newdata], axis=1)\n",
    "insurance_data2 = insurance_data2.drop(['sex','smoker','region','sex_0','smoker_0','region_0'], axis=1)\n",
    "insurance_data2.head(5)"
   ]
  },
  {
   "cell_type": "code",
   "execution_count": 221,
   "metadata": {},
   "outputs": [
    {
     "data": {
      "text/html": [
       "<table class=\"simpletable\">\n",
       "<caption>OLS Regression Results</caption>\n",
       "<tr>\n",
       "  <th>Dep. Variable:</th>        <td>expenses</td>     <th>  R-squared:         </th> <td>   0.750</td> \n",
       "</tr>\n",
       "<tr>\n",
       "  <th>Model:</th>                   <td>OLS</td>       <th>  Adj. R-squared:    </th> <td>   0.748</td> \n",
       "</tr>\n",
       "<tr>\n",
       "  <th>Method:</th>             <td>Least Squares</td>  <th>  F-statistic:       </th> <td>   568.6</td> \n",
       "</tr>\n",
       "<tr>\n",
       "  <th>Date:</th>             <td>Wed, 11 Jan 2023</td> <th>  Prob (F-statistic):</th>  <td>  0.00</td>  \n",
       "</tr>\n",
       "<tr>\n",
       "  <th>Time:</th>                 <td>10:28:47</td>     <th>  Log-Likelihood:    </th> <td> -13541.</td> \n",
       "</tr>\n",
       "<tr>\n",
       "  <th>No. Observations:</th>      <td>  1337</td>      <th>  AIC:               </th> <td>2.710e+04</td>\n",
       "</tr>\n",
       "<tr>\n",
       "  <th>Df Residuals:</th>          <td>  1329</td>      <th>  BIC:               </th> <td>2.714e+04</td>\n",
       "</tr>\n",
       "<tr>\n",
       "  <th>Df Model:</th>              <td>     7</td>      <th>                     </th>     <td> </td>    \n",
       "</tr>\n",
       "<tr>\n",
       "  <th>Covariance Type:</th>      <td>nonrobust</td>    <th>                     </th>     <td> </td>    \n",
       "</tr>\n",
       "</table>\n",
       "<table class=\"simpletable\">\n",
       "<tr>\n",
       "      <td></td>        <th>coef</th>     <th>std err</th>      <th>t</th>      <th>P>|t|</th>  <th>[0.025</th>    <th>0.975]</th>  \n",
       "</tr>\n",
       "<tr>\n",
       "  <th>const</th>    <td>-1.203e+04</td> <td> 1001.838</td> <td>  -12.005</td> <td> 0.000</td> <td> -1.4e+04</td> <td>-1.01e+04</td>\n",
       "</tr>\n",
       "<tr>\n",
       "  <th>age</th>      <td>  257.5733</td> <td>   11.929</td> <td>   21.593</td> <td> 0.000</td> <td>  234.173</td> <td>  280.974</td>\n",
       "</tr>\n",
       "<tr>\n",
       "  <th>bmi</th>      <td>  323.2346</td> <td>   27.867</td> <td>   11.599</td> <td> 0.000</td> <td>  268.566</td> <td>  377.903</td>\n",
       "</tr>\n",
       "<tr>\n",
       "  <th>children</th> <td>  476.5725</td> <td>  138.140</td> <td>    3.450</td> <td> 0.001</td> <td>  205.577</td> <td>  747.568</td>\n",
       "</tr>\n",
       "<tr>\n",
       "  <th>sex_1</th>    <td>  128.5256</td> <td>  333.786</td> <td>    0.385</td> <td> 0.700</td> <td> -526.279</td> <td>  783.330</td>\n",
       "</tr>\n",
       "<tr>\n",
       "  <th>smoker_1</th> <td> 2.382e+04</td> <td>  413.914</td> <td>   57.544</td> <td> 0.000</td> <td>  2.3e+04</td> <td> 2.46e+04</td>\n",
       "</tr>\n",
       "<tr>\n",
       "  <th>region_1</th> <td> -210.8898</td> <td>  335.272</td> <td>   -0.629</td> <td> 0.529</td> <td> -868.610</td> <td>  446.830</td>\n",
       "</tr>\n",
       "<tr>\n",
       "  <th>region_2</th> <td> -138.7395</td> <td>  336.016</td> <td>   -0.413</td> <td> 0.680</td> <td> -797.919</td> <td>  520.440</td>\n",
       "</tr>\n",
       "</table>\n",
       "<table class=\"simpletable\">\n",
       "<tr>\n",
       "  <th>Omnibus:</th>       <td>301.527</td> <th>  Durbin-Watson:     </th> <td>   2.084</td> \n",
       "</tr>\n",
       "<tr>\n",
       "  <th>Prob(Omnibus):</th> <td> 0.000</td>  <th>  Jarque-Bera (JB):  </th> <td> 723.310</td> \n",
       "</tr>\n",
       "<tr>\n",
       "  <th>Skew:</th>          <td> 1.216</td>  <th>  Prob(JB):          </th> <td>8.62e-158</td>\n",
       "</tr>\n",
       "<tr>\n",
       "  <th>Kurtosis:</th>      <td> 5.659</td>  <th>  Cond. No.          </th> <td>    312.</td> \n",
       "</tr>\n",
       "</table><br/><br/>Notes:<br/>[1] Standard Errors assume that the covariance matrix of the errors is correctly specified."
      ],
      "text/plain": [
       "<class 'statsmodels.iolib.summary.Summary'>\n",
       "\"\"\"\n",
       "                            OLS Regression Results                            \n",
       "==============================================================================\n",
       "Dep. Variable:               expenses   R-squared:                       0.750\n",
       "Model:                            OLS   Adj. R-squared:                  0.748\n",
       "Method:                 Least Squares   F-statistic:                     568.6\n",
       "Date:                Wed, 11 Jan 2023   Prob (F-statistic):               0.00\n",
       "Time:                        10:28:47   Log-Likelihood:                -13541.\n",
       "No. Observations:                1337   AIC:                         2.710e+04\n",
       "Df Residuals:                    1329   BIC:                         2.714e+04\n",
       "Df Model:                           7                                         \n",
       "Covariance Type:            nonrobust                                         \n",
       "==============================================================================\n",
       "                 coef    std err          t      P>|t|      [0.025      0.975]\n",
       "------------------------------------------------------------------------------\n",
       "const      -1.203e+04   1001.838    -12.005      0.000    -1.4e+04   -1.01e+04\n",
       "age          257.5733     11.929     21.593      0.000     234.173     280.974\n",
       "bmi          323.2346     27.867     11.599      0.000     268.566     377.903\n",
       "children     476.5725    138.140      3.450      0.001     205.577     747.568\n",
       "sex_1        128.5256    333.786      0.385      0.700    -526.279     783.330\n",
       "smoker_1    2.382e+04    413.914     57.544      0.000     2.3e+04    2.46e+04\n",
       "region_1    -210.8898    335.272     -0.629      0.529    -868.610     446.830\n",
       "region_2    -138.7395    336.016     -0.413      0.680    -797.919     520.440\n",
       "==============================================================================\n",
       "Omnibus:                      301.527   Durbin-Watson:                   2.084\n",
       "Prob(Omnibus):                  0.000   Jarque-Bera (JB):              723.310\n",
       "Skew:                           1.216   Prob(JB):                    8.62e-158\n",
       "Kurtosis:                       5.659   Cond. No.                         312.\n",
       "==============================================================================\n",
       "\n",
       "Notes:\n",
       "[1] Standard Errors assume that the covariance matrix of the errors is correctly specified.\n",
       "\"\"\""
      ]
     },
     "execution_count": 221,
     "metadata": {},
     "output_type": "execute_result"
    }
   ],
   "source": [
    "y_all = insurance_data2['expenses']\n",
    "X_all = insurance_data2.drop('expenses', axis=1)\n",
    "\n",
    "# multiple linear regression model\n",
    "\n",
    "model_all= sm.OLS(y_all, sm.add_constant(X_all))\n",
    "results_all = model_all.fit()\n",
    "results_all.summary()"
   ]
  },
  {
   "cell_type": "code",
   "execution_count": 222,
   "metadata": {},
   "outputs": [
    {
     "name": "stdout",
     "output_type": "stream",
     "text": [
      "eval_env: 1\n",
      "eval_env: 1\n",
      "eval_env: 1\n"
     ]
    },
    {
     "data": {
      "image/png": "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\n",
      "text/plain": [
       "<Figure size 1080x360 with 3 Axes>"
      ]
     },
     "metadata": {
      "needs_background": "light"
     },
     "output_type": "display_data"
    }
   ],
   "source": [
    "# model diagnostics \n",
    "\n",
    "# partial regression plots\n",
    "\n",
    "fig = plt.figure(figsize=(15,5))\n",
    "sm.graphics.plot_partregress_grid(\n",
    "    results_all,\n",
    "    exog_idx=list(X_all[['age','bmi','children']].columns.values),\n",
    "    grid=(1,3),\n",
    "    fig=fig)\n",
    "plt.show()"
   ]
  },
  {
   "cell_type": "markdown",
   "metadata": {},
   "source": [
    "According to the partial regression plot, it looks like our numerical variables are having some good contribution in predicting the target variable and are therefore viable to be used in the regression model."
   ]
  },
  {
   "cell_type": "code",
   "execution_count": 223,
   "metadata": {},
   "outputs": [
    {
     "data": {
      "image/png": "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\n",
      "text/plain": [
       "<Figure size 576x432 with 1 Axes>"
      ]
     },
     "metadata": {
      "needs_background": "light"
     },
     "output_type": "display_data"
    }
   ],
   "source": [
    "# testing the linearity and heteroskedasticity assumption\n",
    "\n",
    "fig, ax = plt.subplots(figsize=(8,6))\n",
    "\n",
    "ax.scatter(y_all, results_all.resid)\n",
    "ax.axhline(y=0, color=\"black\")\n",
    "ax.set_xlabel(\"expenses\")\n",
    "ax.set_ylabel(\"residuals\")\n",
    "ax.set_title(\"Residual Plot\");"
   ]
  },
  {
   "cell_type": "markdown",
   "metadata": {},
   "source": [
    "There is some evidence of a non-linear relationship between some of predictors and the target variable. Lets narrow down to individual predictors using partial regression plots to check which variables have non-linear relationships and some heteroskedasticity "
   ]
  },
  {
   "cell_type": "code",
   "execution_count": 224,
   "metadata": {},
   "outputs": [
    {
     "name": "stdout",
     "output_type": "stream",
     "text": [
      "eval_env: 1\n",
      "eval_env: 1\n",
      "eval_env: 1\n"
     ]
    },
    {
     "data": {
      "image/png": "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\n",
      "text/plain": [
       "<Figure size 1080x360 with 3 Axes>"
      ]
     },
     "metadata": {
      "needs_background": "light"
     },
     "output_type": "display_data"
    }
   ],
   "source": [
    "fig = plt.figure(figsize=(15,5))\n",
    "sm.graphics.plot_partregress_grid(results_all, exog_idx=[\"age\", \"bmi\",'children'], grid=(1,3),fig=fig)\n",
    "\n",
    "fig.suptitle(\"Not So Linear Relationship Partial Regression Plot\", fontsize=\"large\")\n",
    "\n",
    "plt.tight_layout()\n",
    "plt.show()"
   ]
  },
  {
   "cell_type": "markdown",
   "metadata": {},
   "source": [
    "It seems like we have some non linear relationships and we will be exploring the possibility of log transforming the variables or including interaction terms"
   ]
  },
  {
   "cell_type": "code",
   "execution_count": 225,
   "metadata": {},
   "outputs": [
    {
     "data": {
      "image/png": "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\n",
      "text/plain": [
       "<Figure size 432x288 with 1 Axes>"
      ]
     },
     "metadata": {
      "needs_background": "light"
     },
     "output_type": "display_data"
    }
   ],
   "source": [
    "# normality assumption\n",
    "\n",
    "fig, ax = plt.subplots()\n",
    "sns.histplot(results_all.resid, bins=20, element=\"step\", kde=True, ax=ax)\n",
    "ax.set_xlabel(\"Model Residuals\")\n",
    "fig.suptitle(\"Not So Normal Distribution\");"
   ]
  },
  {
   "cell_type": "markdown",
   "metadata": {},
   "source": [
    "It seems like our residuals are not normally distributed \n",
    "Remedy: Log transforming or including an interaction term"
   ]
  },
  {
   "cell_type": "code",
   "execution_count": 226,
   "metadata": {},
   "outputs": [
    {
     "name": "stdout",
     "output_type": "stream",
     "text": [
      "   children  sex_1  smoker_1  region_1  region_2\n",
      "0         0      1         1         0         1\n",
      "1         1      0         0         1         0\n",
      "2         3      0         0         1         0\n",
      "3         0      0         0         1         1\n",
      "4         0      0         0         1         1\n",
      "        age       bmi\n",
      "0  2.944439  3.328627\n",
      "1  2.890372  3.520461\n",
      "2  3.332205  3.496508\n",
      "3  3.496508  3.122365\n",
      "4  3.465736  3.363842\n"
     ]
    }
   ],
   "source": [
    "log_transformed = np.log(X_all[['age','bmi']])\n",
    "others = X_all.drop(['age','bmi'], axis=1)\n",
    "print(others.head())\n",
    "print(log_transformed.head())"
   ]
  },
  {
   "cell_type": "code",
   "execution_count": 227,
   "metadata": {},
   "outputs": [
    {
     "data": {
      "text/plain": [
       "0        9.734176\n",
       "1        7.453301\n",
       "2        8.400538\n",
       "3        9.998092\n",
       "4        8.260198\n",
       "          ...    \n",
       "1333     9.268661\n",
       "1334     7.698927\n",
       "1335     7.396231\n",
       "1336     7.604870\n",
       "1337    10.279914\n",
       "Name: expenses, Length: 1337, dtype: float64"
      ]
     },
     "execution_count": 227,
     "metadata": {},
     "output_type": "execute_result"
    }
   ],
   "source": [
    "X_logtrans = pd.concat([log_transformed,others], axis=1)\n",
    "X_logtrans.head()\n",
    "y_log = np.log(y_all)\n",
    "y_log"
   ]
  },
  {
   "cell_type": "code",
   "execution_count": 228,
   "metadata": {
    "scrolled": true
   },
   "outputs": [
    {
     "data": {
      "text/html": [
       "<table class=\"simpletable\">\n",
       "<caption>OLS Regression Results</caption>\n",
       "<tr>\n",
       "  <th>Dep. Variable:</th>        <td>expenses</td>     <th>  R-squared:         </th> <td>   0.765</td>\n",
       "</tr>\n",
       "<tr>\n",
       "  <th>Model:</th>                   <td>OLS</td>       <th>  Adj. R-squared:    </th> <td>   0.764</td>\n",
       "</tr>\n",
       "<tr>\n",
       "  <th>Method:</th>             <td>Least Squares</td>  <th>  F-statistic:       </th> <td>   618.0</td>\n",
       "</tr>\n",
       "<tr>\n",
       "  <th>Date:</th>             <td>Wed, 11 Jan 2023</td> <th>  Prob (F-statistic):</th>  <td>  0.00</td> \n",
       "</tr>\n",
       "<tr>\n",
       "  <th>Time:</th>                 <td>10:28:50</td>     <th>  Log-Likelihood:    </th> <td> -815.20</td>\n",
       "</tr>\n",
       "<tr>\n",
       "  <th>No. Observations:</th>      <td>  1337</td>      <th>  AIC:               </th> <td>   1646.</td>\n",
       "</tr>\n",
       "<tr>\n",
       "  <th>Df Residuals:</th>          <td>  1329</td>      <th>  BIC:               </th> <td>   1688.</td>\n",
       "</tr>\n",
       "<tr>\n",
       "  <th>Df Model:</th>              <td>     7</td>      <th>                     </th>     <td> </td>   \n",
       "</tr>\n",
       "<tr>\n",
       "  <th>Covariance Type:</th>      <td>nonrobust</td>    <th>                     </th>     <td> </td>   \n",
       "</tr>\n",
       "</table>\n",
       "<table class=\"simpletable\">\n",
       "<tr>\n",
       "      <td></td>        <th>coef</th>     <th>std err</th>      <th>t</th>      <th>P>|t|</th>  <th>[0.025</th>    <th>0.975]</th>  \n",
       "</tr>\n",
       "<tr>\n",
       "  <th>const</th>    <td>    2.9313</td> <td>    0.228</td> <td>   12.840</td> <td> 0.000</td> <td>    2.483</td> <td>    3.379</td>\n",
       "</tr>\n",
       "<tr>\n",
       "  <th>age</th>      <td>    1.2479</td> <td>    0.032</td> <td>   39.434</td> <td> 0.000</td> <td>    1.186</td> <td>    1.310</td>\n",
       "</tr>\n",
       "<tr>\n",
       "  <th>bmi</th>      <td>    0.3724</td> <td>    0.062</td> <td>    6.048</td> <td> 0.000</td> <td>    0.252</td> <td>    0.493</td>\n",
       "</tr>\n",
       "<tr>\n",
       "  <th>children</th> <td>    0.0823</td> <td>    0.010</td> <td>    8.077</td> <td> 0.000</td> <td>    0.062</td> <td>    0.102</td>\n",
       "</tr>\n",
       "<tr>\n",
       "  <th>sex_1</th>    <td>    0.0744</td> <td>    0.025</td> <td>    3.032</td> <td> 0.002</td> <td>    0.026</td> <td>    0.123</td>\n",
       "</tr>\n",
       "<tr>\n",
       "  <th>smoker_1</th> <td>    1.5480</td> <td>    0.030</td> <td>   50.880</td> <td> 0.000</td> <td>    1.488</td> <td>    1.608</td>\n",
       "</tr>\n",
       "<tr>\n",
       "  <th>region_1</th> <td>   -0.0452</td> <td>    0.025</td> <td>   -1.834</td> <td> 0.067</td> <td>   -0.094</td> <td>    0.003</td>\n",
       "</tr>\n",
       "<tr>\n",
       "  <th>region_2</th> <td>   -0.0189</td> <td>    0.025</td> <td>   -0.768</td> <td> 0.443</td> <td>   -0.067</td> <td>    0.029</td>\n",
       "</tr>\n",
       "</table>\n",
       "<table class=\"simpletable\">\n",
       "<tr>\n",
       "  <th>Omnibus:</th>       <td>504.904</td> <th>  Durbin-Watson:     </th> <td>   2.052</td>\n",
       "</tr>\n",
       "<tr>\n",
       "  <th>Prob(Omnibus):</th> <td> 0.000</td>  <th>  Jarque-Bera (JB):  </th> <td>1933.014</td>\n",
       "</tr>\n",
       "<tr>\n",
       "  <th>Skew:</th>          <td> 1.821</td>  <th>  Prob(JB):          </th> <td>    0.00</td>\n",
       "</tr>\n",
       "<tr>\n",
       "  <th>Kurtosis:</th>      <td> 7.630</td>  <th>  Cond. No.          </th> <td>    101.</td>\n",
       "</tr>\n",
       "</table><br/><br/>Notes:<br/>[1] Standard Errors assume that the covariance matrix of the errors is correctly specified."
      ],
      "text/plain": [
       "<class 'statsmodels.iolib.summary.Summary'>\n",
       "\"\"\"\n",
       "                            OLS Regression Results                            \n",
       "==============================================================================\n",
       "Dep. Variable:               expenses   R-squared:                       0.765\n",
       "Model:                            OLS   Adj. R-squared:                  0.764\n",
       "Method:                 Least Squares   F-statistic:                     618.0\n",
       "Date:                Wed, 11 Jan 2023   Prob (F-statistic):               0.00\n",
       "Time:                        10:28:50   Log-Likelihood:                -815.20\n",
       "No. Observations:                1337   AIC:                             1646.\n",
       "Df Residuals:                    1329   BIC:                             1688.\n",
       "Df Model:                           7                                         \n",
       "Covariance Type:            nonrobust                                         \n",
       "==============================================================================\n",
       "                 coef    std err          t      P>|t|      [0.025      0.975]\n",
       "------------------------------------------------------------------------------\n",
       "const          2.9313      0.228     12.840      0.000       2.483       3.379\n",
       "age            1.2479      0.032     39.434      0.000       1.186       1.310\n",
       "bmi            0.3724      0.062      6.048      0.000       0.252       0.493\n",
       "children       0.0823      0.010      8.077      0.000       0.062       0.102\n",
       "sex_1          0.0744      0.025      3.032      0.002       0.026       0.123\n",
       "smoker_1       1.5480      0.030     50.880      0.000       1.488       1.608\n",
       "region_1      -0.0452      0.025     -1.834      0.067      -0.094       0.003\n",
       "region_2      -0.0189      0.025     -0.768      0.443      -0.067       0.029\n",
       "==============================================================================\n",
       "Omnibus:                      504.904   Durbin-Watson:                   2.052\n",
       "Prob(Omnibus):                  0.000   Jarque-Bera (JB):             1933.014\n",
       "Skew:                           1.821   Prob(JB):                         0.00\n",
       "Kurtosis:                       7.630   Cond. No.                         101.\n",
       "==============================================================================\n",
       "\n",
       "Notes:\n",
       "[1] Standard Errors assume that the covariance matrix of the errors is correctly specified.\n",
       "\"\"\""
      ]
     },
     "execution_count": 228,
     "metadata": {},
     "output_type": "execute_result"
    }
   ],
   "source": [
    "log_model = sm.OLS(y_log, sm.add_constant(X_logtrans))\n",
    "log_results = log_model.fit()\n",
    "log_results.summary()"
   ]
  },
  {
   "cell_type": "code",
   "execution_count": 229,
   "metadata": {},
   "outputs": [
    {
     "data": {
      "image/png": "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\n",
      "text/plain": [
       "<Figure size 576x432 with 1 Axes>"
      ]
     },
     "metadata": {
      "needs_background": "light"
     },
     "output_type": "display_data"
    }
   ],
   "source": [
    "fig, ax = plt.subplots(figsize=(8,6))\n",
    "\n",
    "ax.scatter(y_log, log_results.resid)\n",
    "ax.axhline(y=0, color=\"black\")\n",
    "ax.set_xlabel(\"expenses\")\n",
    "ax.set_ylabel(\"residuals\")\n",
    "ax.set_title(\"Residual Plot\");"
   ]
  },
  {
   "cell_type": "code",
   "execution_count": 230,
   "metadata": {
    "scrolled": false
   },
   "outputs": [
    {
     "data": {
      "image/png": "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\n",
      "text/plain": [
       "<Figure size 432x288 with 1 Axes>"
      ]
     },
     "metadata": {
      "needs_background": "light"
     },
     "output_type": "display_data"
    }
   ],
   "source": [
    "fig, ax = plt.subplots()\n",
    "sns.histplot(log_results.resid, bins=20, element=\"step\", kde=True, ax=ax)\n",
    "ax.set_xlabel(\"Model Residuals\")\n",
    "fig.suptitle(\"Not So Normal Distribution\");"
   ]
  },
  {
   "cell_type": "code",
   "execution_count": 231,
   "metadata": {},
   "outputs": [
    {
     "data": {
      "text/html": [
       "<table class=\"simpletable\">\n",
       "<caption>OLS Regression Results</caption>\n",
       "<tr>\n",
       "  <th>Dep. Variable:</th>        <td>expenses</td>     <th>  R-squared:         </th> <td>   0.764</td>\n",
       "</tr>\n",
       "<tr>\n",
       "  <th>Model:</th>                   <td>OLS</td>       <th>  Adj. R-squared:    </th> <td>   0.763</td>\n",
       "</tr>\n",
       "<tr>\n",
       "  <th>Method:</th>             <td>Least Squares</td>  <th>  F-statistic:       </th> <td>   615.0</td>\n",
       "</tr>\n",
       "<tr>\n",
       "  <th>Date:</th>             <td>Wed, 11 Jan 2023</td> <th>  Prob (F-statistic):</th>  <td>  0.00</td> \n",
       "</tr>\n",
       "<tr>\n",
       "  <th>Time:</th>                 <td>10:46:39</td>     <th>  Log-Likelihood:    </th> <td> -817.67</td>\n",
       "</tr>\n",
       "<tr>\n",
       "  <th>No. Observations:</th>      <td>  1337</td>      <th>  AIC:               </th> <td>   1651.</td>\n",
       "</tr>\n",
       "<tr>\n",
       "  <th>Df Residuals:</th>          <td>  1329</td>      <th>  BIC:               </th> <td>   1693.</td>\n",
       "</tr>\n",
       "<tr>\n",
       "  <th>Df Model:</th>              <td>     7</td>      <th>                     </th>     <td> </td>   \n",
       "</tr>\n",
       "<tr>\n",
       "  <th>Covariance Type:</th>      <td>nonrobust</td>    <th>                     </th>     <td> </td>   \n",
       "</tr>\n",
       "</table>\n",
       "<table class=\"simpletable\">\n",
       "<tr>\n",
       "      <td></td>        <th>coef</th>     <th>std err</th>      <th>t</th>      <th>P>|t|</th>  <th>[0.025</th>    <th>0.975]</th>  \n",
       "</tr>\n",
       "<tr>\n",
       "  <th>const</th>    <td>    6.9629</td> <td>    0.074</td> <td>   94.379</td> <td> 0.000</td> <td>    6.818</td> <td>    7.108</td>\n",
       "</tr>\n",
       "<tr>\n",
       "  <th>age</th>      <td>    0.0347</td> <td>    0.001</td> <td>   39.447</td> <td> 0.000</td> <td>    0.033</td> <td>    0.036</td>\n",
       "</tr>\n",
       "<tr>\n",
       "  <th>bmi</th>      <td>    0.0112</td> <td>    0.002</td> <td>    5.457</td> <td> 0.000</td> <td>    0.007</td> <td>    0.015</td>\n",
       "</tr>\n",
       "<tr>\n",
       "  <th>children</th> <td>    0.1018</td> <td>    0.010</td> <td>   10.003</td> <td> 0.000</td> <td>    0.082</td> <td>    0.122</td>\n",
       "</tr>\n",
       "<tr>\n",
       "  <th>sex_1</th>    <td>    0.0744</td> <td>    0.025</td> <td>    3.028</td> <td> 0.003</td> <td>    0.026</td> <td>    0.123</td>\n",
       "</tr>\n",
       "<tr>\n",
       "  <th>smoker_1</th> <td>    1.5499</td> <td>    0.030</td> <td>   50.848</td> <td> 0.000</td> <td>    1.490</td> <td>    1.610</td>\n",
       "</tr>\n",
       "<tr>\n",
       "  <th>region_1</th> <td>   -0.0449</td> <td>    0.025</td> <td>   -1.820</td> <td> 0.069</td> <td>   -0.093</td> <td>    0.003</td>\n",
       "</tr>\n",
       "<tr>\n",
       "  <th>region_2</th> <td>   -0.0172</td> <td>    0.025</td> <td>   -0.694</td> <td> 0.488</td> <td>   -0.066</td> <td>    0.031</td>\n",
       "</tr>\n",
       "</table>\n",
       "<table class=\"simpletable\">\n",
       "<tr>\n",
       "  <th>Omnibus:</th>       <td>455.088</td> <th>  Durbin-Watson:     </th> <td>   2.048</td>\n",
       "</tr>\n",
       "<tr>\n",
       "  <th>Prob(Omnibus):</th> <td> 0.000</td>  <th>  Jarque-Bera (JB):  </th> <td>1630.527</td>\n",
       "</tr>\n",
       "<tr>\n",
       "  <th>Skew:</th>          <td> 1.647</td>  <th>  Prob(JB):          </th> <td>    0.00</td>\n",
       "</tr>\n",
       "<tr>\n",
       "  <th>Kurtosis:</th>      <td> 7.291</td>  <th>  Cond. No.          </th> <td>    312.</td>\n",
       "</tr>\n",
       "</table><br/><br/>Notes:<br/>[1] Standard Errors assume that the covariance matrix of the errors is correctly specified."
      ],
      "text/plain": [
       "<class 'statsmodels.iolib.summary.Summary'>\n",
       "\"\"\"\n",
       "                            OLS Regression Results                            \n",
       "==============================================================================\n",
       "Dep. Variable:               expenses   R-squared:                       0.764\n",
       "Model:                            OLS   Adj. R-squared:                  0.763\n",
       "Method:                 Least Squares   F-statistic:                     615.0\n",
       "Date:                Wed, 11 Jan 2023   Prob (F-statistic):               0.00\n",
       "Time:                        10:46:39   Log-Likelihood:                -817.67\n",
       "No. Observations:                1337   AIC:                             1651.\n",
       "Df Residuals:                    1329   BIC:                             1693.\n",
       "Df Model:                           7                                         \n",
       "Covariance Type:            nonrobust                                         \n",
       "==============================================================================\n",
       "                 coef    std err          t      P>|t|      [0.025      0.975]\n",
       "------------------------------------------------------------------------------\n",
       "const          6.9629      0.074     94.379      0.000       6.818       7.108\n",
       "age            0.0347      0.001     39.447      0.000       0.033       0.036\n",
       "bmi            0.0112      0.002      5.457      0.000       0.007       0.015\n",
       "children       0.1018      0.010     10.003      0.000       0.082       0.122\n",
       "sex_1          0.0744      0.025      3.028      0.003       0.026       0.123\n",
       "smoker_1       1.5499      0.030     50.848      0.000       1.490       1.610\n",
       "region_1      -0.0449      0.025     -1.820      0.069      -0.093       0.003\n",
       "region_2      -0.0172      0.025     -0.694      0.488      -0.066       0.031\n",
       "==============================================================================\n",
       "Omnibus:                      455.088   Durbin-Watson:                   2.048\n",
       "Prob(Omnibus):                  0.000   Jarque-Bera (JB):             1630.527\n",
       "Skew:                           1.647   Prob(JB):                         0.00\n",
       "Kurtosis:                       7.291   Cond. No.                         312.\n",
       "==============================================================================\n",
       "\n",
       "Notes:\n",
       "[1] Standard Errors assume that the covariance matrix of the errors is correctly specified.\n",
       "\"\"\""
      ]
     },
     "execution_count": 231,
     "metadata": {},
     "output_type": "execute_result"
    }
   ],
   "source": [
    "# model with only a log transformed target variable\n",
    "trial_model = sm.OLS(y_log, sm.add_constant(X_all))\n",
    "trial_results = trial_model.fit()\n",
    "trial_results.summary()"
   ]
  },
  {
   "cell_type": "markdown",
   "metadata": {
    "id": "vTbdjSrhVIiT"
   },
   "source": [
    "## 8. Implementing the Solution"
   ]
  },
  {
   "cell_type": "code",
<<<<<<< HEAD
   "execution_count": null,
   "metadata": {},
   "outputs": [],
   "source": []
  },
  {
   "cell_type": "code",
   "execution_count": 25,
=======
   "execution_count": 27,
>>>>>>> ea4de1a5380277373d12ba9d2303ab401a811b72
   "metadata": {
    "id": "PJLZaRzJXJ3w"
   },
   "outputs": [],
   "source": [
    "# Implementing the Solution\n",
    "# "
   ]
  },
  {
   "cell_type": "markdown",
   "metadata": {
    "id": "lQ2G4ZPDVOXE"
   },
   "source": [
    "## 9. Challenging the solution"
   ]
  },
  {
   "cell_type": "markdown",
   "metadata": {
    "id": "jWVGKGuiYMWg"
   },
   "source": [
    "> The easy solution is nice because it is, well, easy, but you should never allow those results to hold the day. You should always be thinking of ways to challenge the results, especially if those results comport with your prior expectation.\n",
    "\n",
    "\n",
    "\n",
    "\n"
   ]
  },
  {
   "cell_type": "code",
   "execution_count": 28,
   "metadata": {
    "id": "j3x3SXZ4XT_L"
   },
   "outputs": [],
   "source": [
    "# Reviewing the Solution \n",
    "#"
   ]
  },
  {
   "cell_type": "markdown",
   "metadata": {
    "id": "xrmHVMVsVS--"
   },
   "source": [
    "## 10. Follow up questions"
   ]
  },
  {
   "cell_type": "markdown",
   "metadata": {
    "id": "pth2qSWhuBIy"
   },
   "source": [
    "> At this point, we can refine our question or collect new data, all in an iterative process to get at the truth.\n",
    "\n"
   ]
  },
  {
   "cell_type": "markdown",
   "metadata": {
    "id": "HPQviDmNtta8"
   },
   "source": [
    "### a). Did we have the right data?"
   ]
  },
  {
   "cell_type": "markdown",
   "metadata": {
    "id": "qjFHK1CKty7o"
   },
   "source": [
    "### b). Do we need other data to answer our question?"
   ]
  },
  {
   "cell_type": "markdown",
   "metadata": {
    "id": "HSsicSdvt4Zs"
   },
   "source": [
    "### c). Did we have the right question?"
   ]
  }
 ],
 "metadata": {
  "colab": {
   "collapsed_sections": [
    "a9BPYqunry97",
    "7KMRBJ7zr9HD",
    "zSGyg6kWsBUl",
    "OI3P3YnHUEBk",
    "ckfufNrcUHeH",
    "6XC_g-zKxe-r",
    "FlBMxEDBUc9B",
    "rF2ABPsHUtbZ",
    "vTbdjSrhVIiT",
    "lQ2G4ZPDVOXE",
    "xrmHVMVsVS--",
    "HPQviDmNtta8",
    "qjFHK1CKty7o",
    "HSsicSdvt4Zs"
   ],
   "provenance": []
  },
  "kernelspec": {
   "display_name": "Python 3 (ipykernel)",
   "language": "python",
   "name": "python3"
  },
  "language_info": {
   "codemirror_mode": {
    "name": "ipython",
    "version": 3
   },
   "file_extension": ".py",
   "mimetype": "text/x-python",
   "name": "python",
   "nbconvert_exporter": "python",
   "pygments_lexer": "ipython3",
   "version": "3.9.12"
  },
  "varInspector": {
   "cols": {
    "lenName": 16,
    "lenType": 16,
    "lenVar": 40
   },
   "kernels_config": {
    "python": {
     "delete_cmd_postfix": "",
     "delete_cmd_prefix": "del ",
     "library": "var_list.py",
     "varRefreshCmd": "print(var_dic_list())"
    },
    "r": {
     "delete_cmd_postfix": ") ",
     "delete_cmd_prefix": "rm(",
     "library": "var_list.r",
     "varRefreshCmd": "cat(var_dic_list()) "
    }
   },
   "types_to_exclude": [
    "module",
    "function",
    "builtin_function_or_method",
    "instance",
    "_Feature"
   ],
   "window_display": false
  }
 },
 "nbformat": 4,
 "nbformat_minor": 1
}
